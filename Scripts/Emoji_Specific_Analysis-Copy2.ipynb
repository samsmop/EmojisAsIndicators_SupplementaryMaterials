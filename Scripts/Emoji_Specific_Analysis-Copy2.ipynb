{
 "cells": [
  {
   "cell_type": "code",
   "execution_count": null,
   "id": "4007062a",
   "metadata": {},
   "outputs": [],
   "source": [
    "import pandas as pd\n",
    "import re\n",
    "import regex\n",
    "import matplotlib.pyplot as plt\n",
    "%matplotlib inline\n",
    "import seaborn as sns\n",
    "import geopandas as gp\n",
    "import geoplot as gplt\n",
    "import geoplot.crs as gcrs\n",
    "import contextily as ctx\n",
    "import numpy as np\n",
    "import shapely as shapely\n",
    "from shapely.geometry import Polygon\n",
    "from shapely.ops import transform\n",
    "import collections\n",
    "from collections import Counter\n",
    "from typing import List, Tuple, Dict, Union, Generator, Optional\n",
    "from pyproj import Transformer, CRS, Proj\n",
    "import glob\n",
    "import os\n",
    "import matplotlib as mpl\n",
    "from matplotlib import cm\n",
    "from matplotlib.colors import ListedColormap, LinearSegmentedColormap\n",
    "import matplotlib.colors as mcolors\n",
    "import advertools as adv\n",
    "import warnings\n",
    "import emoji\n",
    "warnings.filterwarnings('ignore')\n",
    "import matplotlib.patheffects as pe\n",
    "import adjustText as aT"
   ]
  },
  {
   "cell_type": "code",
   "execution_count": null,
   "id": "d0dada92",
   "metadata": {},
   "outputs": [],
   "source": [
    "df = gp.read_file(r\"C:\\Users\\saman\\OneDrive\\Documents\\Thesis\\Data\\RawData_Cleaned_Final.geojson\")"
   ]
  },
  {
   "cell_type": "code",
   "execution_count": null,
   "id": "d1ad454b",
   "metadata": {},
   "outputs": [],
   "source": [
    "df.head()"
   ]
  },
  {
   "cell_type": "code",
   "execution_count": null,
   "id": "1ad6da25",
   "metadata": {},
   "outputs": [],
   "source": [
    "# convert to geodf, import using WGS 84 since that's how it exported from pgadmin\n",
    "gdf = gp.GeoDataFrame(df,geometry =gp.points_from_xy(df.long,df.lat),crs =4326)"
   ]
  },
  {
   "cell_type": "code",
   "execution_count": null,
   "id": "a14f9696",
   "metadata": {},
   "outputs": [],
   "source": [
    "# reproejct to Mollweide for visualization purposes later\n",
    "gdf.to_crs(\"ESRI:54009\",inplace=True)"
   ]
  },
  {
   "cell_type": "markdown",
   "id": "fe1b87c3",
   "metadata": {},
   "source": [
    "## Start of temporal exploratory analysis:"
   ]
  },
  {
   "cell_type": "code",
   "execution_count": null,
   "id": "631f9fa8",
   "metadata": {},
   "outputs": [],
   "source": [
    "# first I'll create columns with aggregated data information to make the creation of temporal subsets more straightforward\n",
    "gdf['post_publish_date'] = pd.to_datetime(gdf['post_publish_date'])\n",
    "gdf['Month/Year'] = gdf['post_publish_date'].dt.to_period('M')  # add new column showing timestamps aggregated to monthly intervals\n",
    "gdf['Week/Month'] = gdf['post_publish_date'].dt.to_period('W')  # add new column showing timestamps aggregated to weekly intervals\n",
    "gdf['HalfMonth'] = gdf['post_publish_date'] + pd.offsets.SemiMonthEnd()  # add new column showing timestamps aggregated to biweekly intervals\n",
    "gdf.head()"
   ]
  },
  {
   "cell_type": "code",
   "execution_count": null,
   "id": "59d38e6a",
   "metadata": {},
   "outputs": [],
   "source": [
    "# now let's create sub-dtasets for typicality calculations, starting with temporal subsets (monthly)\n",
    "gdf_jan = gdf[gdf['Month/Year'] == '2020-01']\n",
    "gdf_feb = gdf[gdf['Month/Year'] == '2020-02']\n",
    "gdf_mar = gdf[gdf['Month/Year'] == '2020-03']\n",
    "gdf_apr = gdf[gdf['Month/Year'] == '2020-04']\n",
    "gdf_may = gdf[gdf['Month/Year'] == '2020-05']\n",
    "gdf_jun = gdf[gdf['Month/Year'] == '2020-06']\n",
    "gdf_jul = gdf[gdf['Month/Year'] == '2020-07']\n",
    "gdf_aug = gdf[gdf['Month/Year'] == '2020-08']\n",
    "gdf_sep = gdf[gdf['Month/Year'] == '2020-09']\n",
    "gdf_oct = gdf[gdf['Month/Year'] == '2020-10']\n",
    "# note - no data for november\n",
    "gdf_dec = gdf[gdf['Month/Year'] == '2020-12']\n",
    "gdf_jan.head()"
   ]
  },
  {
   "cell_type": "code",
   "execution_count": null,
   "id": "08ca8be8",
   "metadata": {},
   "outputs": [],
   "source": [
    "#  set up functions to calculate each component of the typicality equation\n",
    "\n",
    "# number of a certain emoji within subset\n",
    "def EmojiSubsetCounter(emojiname, subset):\n",
    "    emojicounter = 0\n",
    "    for post in subset['emoji generic']:\n",
    "        if emojiname in post:\n",
    "            emojicounter += 1\n",
    "    # print(\"Number of \" + emojiname + \"in subset: \" + str(emojicounter))\n",
    "    return emojicounter\n",
    "\n",
    "\n",
    "# number of total emojis in subset\n",
    "def AllEmojiSubsetCounter(subset):\n",
    "    emojicounter = 0\n",
    "    for post in subset['emoji generic']:\n",
    "        data = regex.findall(r'\\X', post)\n",
    "        for word in data:\n",
    "            if any(char in emoji.UNICODE_EMOJI['en'] for char in word):\n",
    "                emojicounter += 1\n",
    "    # print(\"Number of emojis in subset: \" + str(emojicounter))\n",
    "    return emojicounter\n",
    "\n",
    "\n",
    "# number of specific emoji in whole dataset\n",
    "def EmojiTotalCounter(emojiname, totaldataset):\n",
    "    emojicounter = 0\n",
    "    for post in totaldataset['emoji generic']:\n",
    "        if emojiname in post:\n",
    "            emojicounter += 1\n",
    "    # print(\"Number of \" + emojiname + \"in total dataset: \" + str(emojicounter))\n",
    "    return emojicounter\n",
    "\n",
    "\n",
    "\n",
    "# number of emojis in whole dataset\n",
    "def AllEmojiTotalCounter(totaldataset):\n",
    "    emojicounter = 0\n",
    "    for post in totaldataset['emoji generic']:\n",
    "        data = regex.findall(r'\\X', post)\n",
    "        for word in data:\n",
    "            if any(char in emoji.UNICODE_EMOJI['en'] for char in word):\n",
    "                emojicounter += 1\n",
    "    # print(\"Number of emojis in total dataset: \" + str(emojicounter))\n",
    "    return emojicounter\n",
    "\n",
    "\n",
    "# typicality equation\n",
    "\n",
    "def TypicalityEquation (emojisubset, allemojisubset, emojitotal, allemojitotal):\n",
    "    t = ((emojisubset/allemojisubset)-(emojitotal/allemojitotal))/(emojitotal/allemojitotal)\n",
    "    # print(\"Typicality: \" + str(t))\n",
    "    return t\n"
   ]
  },
  {
   "cell_type": "code",
   "execution_count": null,
   "id": "dd109de2",
   "metadata": {},
   "outputs": [],
   "source": [
    "# create a function to count the total frequency of the most commonly used hashtags\n",
    "def most_common_hashtags(labels, quantity):\n",
    "    #words = [i.split(\" \", 3)[0] for i in labels]\n",
    "    #counter = Counter(words).most_common(quantity)\n",
    "    hashtags = [(re.split(',', i)) for i in labels]\n",
    "    counter = Counter(x for xs in hashtags for x in set(xs)).most_common(quantity)\n",
    "    df = pd.DataFrame(counter, columns=[\"Hashtag\", \"Occurence number\"])\\\n",
    "                        .sort_values(by=\"Occurence number\", ascending=True)\n",
    "    \n",
    "    df = df[df[\"Hashtag\"] != \" \"].reset_index(drop=True)\n",
    "    \n",
    "    return df"
   ]
  },
  {
   "cell_type": "code",
   "execution_count": null,
   "id": "44eb47fc",
   "metadata": {},
   "outputs": [],
   "source": [
    "# create function to calculate monthly typicality values\n",
    "def getMonthlyTypicality(emo):\n",
    "    emocount_total = EmojiTotalCounter(emo, gdf)\n",
    "    T_Jan =TypicalityEquation(EmojiSubsetCounter(emo, gdf_jan), AllEmojiSubsetCounter(gdf_jan), emocount_total, 8807548)\n",
    "    T_Feb =TypicalityEquation(EmojiSubsetCounter(emo, gdf_feb), AllEmojiSubsetCounter(gdf_feb), emocount_total, 8807548)\n",
    "    T_Mar =TypicalityEquation(EmojiSubsetCounter(emo, gdf_mar), AllEmojiSubsetCounter(gdf_mar), emocount_total, 8807548)\n",
    "    T_Apr =TypicalityEquation(EmojiSubsetCounter(emo, gdf_apr), AllEmojiSubsetCounter(gdf_apr), emocount_total, 8807548)\n",
    "    T_May =TypicalityEquation(EmojiSubsetCounter(emo, gdf_may), AllEmojiSubsetCounter(gdf_may), emocount_total, 8807548)\n",
    "    T_Jun =TypicalityEquation(EmojiSubsetCounter(emo, gdf_jun), AllEmojiSubsetCounter(gdf_jun), emocount_total, 8807548)\n",
    "    T_Jul =TypicalityEquation(EmojiSubsetCounter(emo, gdf_jul), AllEmojiSubsetCounter(gdf_jul), emocount_total, 8807548)\n",
    "    T_Aug =TypicalityEquation(EmojiSubsetCounter(emo, gdf_aug), AllEmojiSubsetCounter(gdf_aug), emocount_total, 8807548)\n",
    "    T_Sep =TypicalityEquation(EmojiSubsetCounter(emo, gdf_sep), AllEmojiSubsetCounter(gdf_sep), emocount_total, 8807548)\n",
    "    T_Oct =TypicalityEquation(EmojiSubsetCounter(emo, gdf_oct), AllEmojiSubsetCounter(gdf_oct), emocount_total, 8807548)\n",
    "    T_Dec =TypicalityEquation(EmojiSubsetCounter(emo, gdf_dec), AllEmojiSubsetCounter(gdf_dec), emocount_total, 8807548)\n",
    "    return T_Jan, T_Feb, T_Mar, T_Apr, T_May, T_Jun, T_Jul, T_Aug, T_Sep, T_Oct, T_Dec"
   ]
  },
  {
   "cell_type": "code",
   "execution_count": null,
   "id": "87a36647",
   "metadata": {
    "scrolled": true
   },
   "outputs": [],
   "source": [
    "# create spatial subsets, starting with country boundaries\n",
    "countries_gdf = gp.read_file(\"Europe_Clipped_BBox.shp\")\n",
    "countries_gdf"
   ]
  },
  {
   "cell_type": "code",
   "execution_count": null,
   "id": "cd660b45",
   "metadata": {},
   "outputs": [],
   "source": [
    "countries_gdf.to_crs(\"ESRI:54009\", inplace=True)"
   ]
  },
  {
   "cell_type": "code",
   "execution_count": null,
   "id": "20893005",
   "metadata": {},
   "outputs": [],
   "source": [
    "# Plot the custom shapefile (clipped to fit data)\n",
    "fig, ax = plt.subplots(figsize=(15, 6))\n",
    "countries_gdf.plot(ax=ax)\n",
    "ax.set_title(\"Study Area\", fontsize=20)\n",
    "ax.set_axis_off()\n",
    "plt.show()\n",
    "ax.set_axis_off()"
   ]
  },
  {
   "cell_type": "markdown",
   "id": "5638bc2d",
   "metadata": {},
   "source": [
    "# create grids here (just to start, emoji specific ones will be below)"
   ]
  },
  {
   "cell_type": "code",
   "execution_count": null,
   "id": "259e5c91",
   "metadata": {},
   "outputs": [],
   "source": [
    "\"\"\"\n",
    "Defining constants to be used throughout the program\n",
    "\n",
    "\"\"\"\n",
    "\n",
    "#create grids based on the custom made eu shapefile\n",
    "\n",
    "GRID_SIZE_METERS = 100000 \n",
    "                        \n",
    "# target projection: Mollweide\n",
    "EPSG_CODE = 54009\n",
    "CRS_PROJ = f\"esri:{EPSG_CODE}\"\n",
    "\n",
    "# Input projection WGS 84\n",
    "CRS_WGS = \"epsg:4326\"\n",
    "\n",
    "# define Transformer ahead of time\n",
    "# with xy-order of coordinates\n",
    "PROJ_TRANSFORMER = Transformer.from_crs(\n",
    "    CRS_WGS, CRS_PROJ, always_xy=True)\n",
    "\n",
    "# also define reverse projection\n",
    "PROJ_TRANSFORMER_BACK = Transformer.from_crs(\n",
    "    CRS_PROJ, CRS_WGS, always_xy=True)\n",
    "\n",
    "#projecting the bounds of the eu-shapefile to Mollweide\n",
    "\n",
    "XMIN = PROJ_TRANSFORMER.transform(-18.729512 , 29.234046)[0]\n",
    "XMAX = PROJ_TRANSFORMER.transform(39.73858, 29.234046)[0]\n",
    "YMAX = PROJ_TRANSFORMER.transform(49.59352369, 71.16987838)[1]\n",
    "YMIN = PROJ_TRANSFORMER.transform(49.59352369, 28.017169)[1]\n",
    "\n",
    "# color map to use for typicality maps\n",
    "BrBG = cm.get_cmap('BrBG')\n",
    "newcmp = ListedColormap(BrBG(np.linspace(0.25, 0.75, 10)))"
   ]
  },
  {
   "cell_type": "code",
   "execution_count": null,
   "id": "e92ee633",
   "metadata": {},
   "outputs": [],
   "source": [
    "def create_grids():\n",
    "    \n",
    "    \"\"\"\n",
    "    Creating polygons based on the grid size\n",
    "    \"\"\"\n",
    "    \n",
    "    width = GRID_SIZE_METERS\n",
    "    length = GRID_SIZE_METERS\n",
    "    cols = list(range(int(np.floor(XMIN)), int(np.ceil(XMAX)), width))\n",
    "    rows = list(range(int(np.floor(YMIN)), int(np.ceil(YMAX)), length))\n",
    "    rows.reverse()\n",
    "\n",
    "    polygons = []\n",
    "    for x in cols:\n",
    "         for y in rows:\n",
    "                # combine to tuple: (x,y, poly)\n",
    "                # and append to list\n",
    "                polygons.append(\n",
    "                    (x, y,\n",
    "                     Polygon([\n",
    "                         (x, y),\n",
    "                         (x+width, y),\n",
    "                         (x+width, y-length),\n",
    "                         (x, y-length)])))\n",
    "    grid = pd.DataFrame(polygons)\n",
    "        # name columns\n",
    "    col_labels=['xbin', 'ybin', 'bin_poly']\n",
    "    grid.columns = col_labels\n",
    "        # use x and y as index columns\n",
    "    grid.set_index(['xbin', 'ybin'], inplace=True)\n",
    "    grid = gp.GeoDataFrame(\n",
    "            grid.drop(\n",
    "                columns=[\"bin_poly\"]),\n",
    "                geometry=grid.bin_poly)\n",
    "    grid.crs = CRS_PROJ\n",
    "    return grid,cols,rows\n",
    "\n",
    "grid,cols,rows = create_grids()"
   ]
  },
  {
   "cell_type": "code",
   "execution_count": null,
   "id": "bc63f933",
   "metadata": {},
   "outputs": [],
   "source": [
    "ybins = np.array(rows)\n",
    "xbins = np.array(cols)\n",
    "\n",
    "def get_best_bins(search_values_x, search_values_y,xbins, ybins): \n",
    "    \"\"\"Will return best bin for a lat and lng input\n",
    "    \n",
    "    Note: prepare bins and values in correct matching projection\n",
    "    \n",
    "    \"\"\"\n",
    "    xbins_idx = np.digitize(search_values_x, xbins, right=False)\n",
    "    ybins_idx = np.digitize(search_values_y, ybins, right=False)\n",
    "    return (xbins[xbins_idx-1], ybins[ybins_idx-1])\n",
    "\n",
    "\n",
    "xbins_match, ybins_match = get_best_bins(\n",
    "    search_values_x=gdf.geometry.x.to_numpy(),\n",
    "    search_values_y=gdf.geometry.y.to_numpy(),\n",
    "    xbins=xbins, ybins=ybins)"
   ]
  },
  {
   "cell_type": "code",
   "execution_count": null,
   "id": "1bd2f964",
   "metadata": {},
   "outputs": [],
   "source": [
    "# plot the generated grid alongside the european country outlines\n",
    "base = grid.plot(figsize=(22,28), color='white', edgecolor='black', linewidth=0.1)\n",
    "plot = countries_gdf.boundary.plot(ax=base)"
   ]
  },
  {
   "cell_type": "code",
   "execution_count": null,
   "id": "72f422ee",
   "metadata": {},
   "outputs": [],
   "source": [
    "gdf.loc[:, 'xbins_match'] = xbins_match\n",
    "gdf.loc[:, 'ybins_match'] = ybins_match\n",
    "gdf.drop(columns = ['long','lat','geometry'],inplace =True)\n",
    "gdf.set_index(['xbins_match', 'ybins_match'], inplace=True)\n",
    "# gdf.dropna(subset = 'hashtag', inplace =True)\n",
    "grid.sort_index(inplace =True)\n",
    "gdf.sort_index(inplace = True)\n",
    "common_idx = grid.index.intersection(gdf.index) \n",
    "#instead of a spatial join, indexes are used to find which hashtag belongs to which grid\n",
    "gdf"
   ]
  },
  {
   "cell_type": "code",
   "execution_count": null,
   "id": "2b456ab0",
   "metadata": {},
   "outputs": [],
   "source": [
    "#counting the occurence of each emoji in preparation of typicality calculations\n",
    "count = Counter()  \n",
    "gdf['emoji'].str.split(',').apply(count.update)"
   ]
  },
  {
   "cell_type": "code",
   "execution_count": null,
   "id": "621a4b49",
   "metadata": {},
   "outputs": [],
   "source": [
    "def grid_typicality(new_test,idx):    \n",
    "     \n",
    "        #calculating frequency for each grid (sub-dataset) \n",
    "        counter = Counter()\n",
    "        new_test.str.split(',').apply(counter.update)\n",
    "        n_s = counter[EMOJI]\n",
    "        if (n_s == 0):\n",
    "            typ.loc[idx,'typicality'] = -1.0\n",
    "        else:    \n",
    "            N_s = sum(counter.values())\n",
    "            F_s = n_s/N_s\n",
    "            typ.loc[idx,'typicality'] = (F_s - F_t)/F_t "
   ]
  },
  {
   "cell_type": "code",
   "execution_count": null,
   "id": "ba6433c8",
   "metadata": {},
   "outputs": [],
   "source": [
    "# set up tools to make country grids so topical consistency can be analyzed within countries"
   ]
  },
  {
   "cell_type": "code",
   "execution_count": null,
   "id": "4862562d",
   "metadata": {},
   "outputs": [],
   "source": [
    "def create_grids():\n",
    "    \n",
    "#     Creating polygons based on the grid size\n",
    "    \n",
    "    width = GRID_SIZE_METERS\n",
    "    length = GRID_SIZE_METERS\n",
    "    cols = list(range(int(np.floor(XMIN)), int(np.ceil(XMAX)), width))\n",
    "    rows = list(range(int(np.floor(YMIN)), int(np.ceil(YMAX)), length))\n",
    "    rows.reverse()\n",
    "\n",
    "    polygons = []\n",
    "    for x in cols:\n",
    "         for y in rows:\n",
    "                # combine to tuple: (x,y, poly)\n",
    "                # and append to list\n",
    "                polygons.append(\n",
    "                    (x, y,\n",
    "                     Polygon([\n",
    "                         (x, y),\n",
    "                         (x+width, y),\n",
    "                         (x+width, y-length),\n",
    "                         (x, y-length)])))\n",
    "    grid = pd.DataFrame(polygons)\n",
    "        # name columns\n",
    "    col_labels=['xbin', 'ybin', 'bin_poly']\n",
    "    grid.columns = col_labels\n",
    "        # use x and y as index columns\n",
    "    grid.set_index(['xbin', 'ybin'], inplace=True)\n",
    "    grid = gp.GeoDataFrame(\n",
    "            grid.drop(\n",
    "                columns=[\"bin_poly\"]),\n",
    "                geometry=grid.bin_poly)\n",
    "    grid.crs = CRS_PROJ\n",
    "    return grid,cols,rows\n",
    "\n",
    "grid,cols,rows = create_grids()"
   ]
  },
  {
   "cell_type": "code",
   "execution_count": null,
   "id": "1c5421f4",
   "metadata": {},
   "outputs": [],
   "source": [
    "centroid_grid = grid.centroid.reset_index()\n",
    "centroid_grid.set_index([\"xbin\", \"ybin\"], inplace=True)\n",
    "grid.centroid"
   ]
  },
  {
   "cell_type": "code",
   "execution_count": null,
   "id": "597cafff",
   "metadata": {},
   "outputs": [],
   "source": [
    "from geopandas.tools import sjoin\n",
    "def intersect_grid_centroids(\n",
    "    grid: gp.GeoDataFrame, \n",
    "    intersect_gdf: gp.GeoDataFrame):\n",
    "    \"\"\"Return grid centroids from grid that \n",
    "    intersect with intersect_gdf\n",
    "    \"\"\"\n",
    "    centroid_grid = gp.GeoDataFrame(\n",
    "        grid.centroid)\n",
    "    centroid_grid.rename(\n",
    "        columns={0:'geometry'},\n",
    "        inplace=True)\n",
    "    centroid_grid.set_geometry(\n",
    "        'geometry', crs=grid.crs, \n",
    "        inplace=True)\n",
    "    grid_intersect = sjoin(\n",
    "        centroid_grid, intersect_gdf, \n",
    "        how='right')\n",
    "    grid_intersect.set_index(\n",
    "        [\"index_left0\", \"index_left1\"],\n",
    "        inplace=True)\n",
    "    grid_intersect.index.names = ['xbin','ybin']\n",
    "    return grid.loc[grid_intersect.index]"
   ]
  },
  {
   "cell_type": "code",
   "execution_count": null,
   "id": "16885228",
   "metadata": {},
   "outputs": [],
   "source": [
    "# and let's use a nice custom color ramp\n",
    "typ_cmap = mpl.colors.LinearSegmentedColormap.from_list('beigeblue',['#d9af8c','#FFFFFF','#009999'], N=8)"
   ]
  },
  {
   "cell_type": "code",
   "execution_count": null,
   "id": "1582b1bb",
   "metadata": {},
   "outputs": [],
   "source": [
    "# Let's make some country labels\n",
    "# Here we find the representative points, copy our original df to a new df, and then set \n",
    "# the geometry column to the newly created representative points column \n",
    "# (because a GeoPandas df can only have one geometry column)\n",
    "\n",
    "countries_gdf[\"rep\"] = countries_gdf[\"geometry\"].representative_point()\n",
    "country_points = countries_gdf.copy()\n",
    "country_points.set_geometry(\"rep\", inplace = True)\n",
    "ax = countries_gdf.plot(figsize = (15, 12), color = \"whitesmoke\", edgecolor = \"lightgrey\", linewidth = 0.5)\n",
    "texts = []\n",
    "\n",
    "for x, y, label in zip(country_points.geometry.x, country_points.geometry.y, country_points[\"NAME_LONG\"]):\n",
    "    texts.append(plt.text(x, y, label.upper(), fontsize = 8, color=\"dimgray\"))\n",
    "\n",
    "aT.adjust_text(texts, force_points=0.3, force_text=0.8, expand_points=(0,0), expand_text=(0.5,0.5), ha='left')"
   ]
  },
  {
   "cell_type": "code",
   "execution_count": null,
   "id": "c65151dd",
   "metadata": {},
   "outputs": [],
   "source": [
    "# that's too many labels, I'll make a subset so that only large countries are labelled\n",
    "\n",
    "country_labels = countries_gdf.loc[countries_gdf['NAME_EN'].isin([\"France\", \"Spain\", \"Germany\", \"Algeria\", \"Poland\", \"Morocoo\",\n",
    "                                                                  \"Libya\", \"Egypt\", \"Turkey\", \"United Kingdom\", \"Hungary\", \n",
    "                                                                  \"Sweden\", \"Finland\", \"Norway\", \"Ireland\", \"Greece\", \"Italy\",\n",
    "                                                                  \"Belarus\", \"Ukraine\", \"Austria\", \"Romania\", \"Denmark\",\n",
    "                                                                 \"Russia\", \"Bulgaria\", \"Lithuania\", \"Latvia\", \"Estonia\", \n",
    "                                                                  \"Iceland\", \"Morocco\"])]\n",
    "country_labels[\"rep\"] = countries_gdf[\"geometry\"].representative_point()\n",
    "# country_labels = countries_gdf.copy()\n",
    "country_labels.set_geometry(\"rep\", inplace = True)\n",
    "ax = countries_gdf.plot(figsize = (15, 12), color = \"whitesmoke\", edgecolor = \"lightgrey\", linewidth = 0.5)\n",
    "texts = []\n",
    "\n",
    "for x, y, label in zip(country_labels.geometry.x, country_labels.geometry.y, country_labels[\"NAME_EN\"]):\n",
    "    texts.append(plt.text(x-100000, y, label.upper(), fontsize = 10, color=\"dimgray\")) #shift labels slightly to the west\n",
    "\n",
    "aT.adjust_text(texts, force_points=0.3, force_text=1, expand_points=(0,0), expand_text=(1,0.5), avoid_self=False)"
   ]
  },
  {
   "cell_type": "code",
   "execution_count": null,
   "id": "e850dd35",
   "metadata": {},
   "outputs": [],
   "source": [
    "# that looks good, now let's add labels for major cities\n",
    "cities_gdf = gp.read_file(\"ne_10m_populated_places_simple.shp\")\n",
    "cities_gdf = cities_gdf.drop(columns=['scalerank', 'natscale', 'labelrank', 'featurecla', 'namepar', #remove unecessary columns\n",
    "                                      'namealt', 'nameascii', 'adm0_a3', 'capalt', 'pop_max', 'sov0name', 'sov_a3', 'adm1name',\n",
    "                                      'worldcity', 'pop_min', 'pop_other', 'meganame', 'ls_name', 'min_zoom', 'note', 'capin',\n",
    "                                      'ne_id', 'iso_a2', 'adm0cap', 'adm0name'])\n",
    "cities_gdf = cities_gdf.drop(cities_gdf.index[cities_gdf['megacity'] == 0]) # drop all cities except those in the top 3 rankings by population\n",
    "cities_gdf = cities_gdf.loc[cities_gdf['longitude'].between(-18.729512, 39.73858) & cities_gdf['latitude'].between(28.017169, 71.16987838)]\n",
    "cities_gdf.to_crs(\"ESRI:54009\", inplace=True)\n",
    "cities_gdf"
   ]
  },
  {
   "cell_type": "code",
   "execution_count": null,
   "id": "483c2689",
   "metadata": {},
   "outputs": [],
   "source": [
    "# that's too many labels, I'll make a subset so that only large countries are labelled\n",
    "\n",
    "# city_labels = cities_gdf.loc[cities_gdf['name'].isin([\"Paris\", \"Berlin\", \"London\", \"Madrid\", \"Athens\", \"Budapest\", \"Vienna\",\n",
    "#                                                      \"Stockholm\", \"Minsk\", \"Prague\", \"COpen\", \"C\", \"C\", \"C\", \"C\", \"C\", \"C\", \"C\", \"C\", \"C\"\n",
    "#                                                      \"C\", \"C\", \"C\", \"C\", \"C\", \"C\"])]\n",
    "city_labels[\"rep\"] = cities_gdf[\"geometry\"].representative_point()\n",
    "# country_labels = countries_gdf.copy()\n",
    "city_labels.set_geometry(\"rep\", inplace = True)\n",
    "ax = countries_gdf.plot(figsize = (15, 12), color = \"whitesmoke\", edgecolor = \"lightgrey\", linewidth = 0.5)\n",
    "texts = []\n",
    "\n",
    "for x, y, label in zip(city_labels.geometry.x, city_labels.geometry.y, city_labels[\"name\"]):\n",
    "    texts.append(plt.text(x-100000, y, label.title(), fontsize = 8, color=\"dimgray\")) #shift labels slightly to the west\n",
    "    aT.adjust_text(texts, force_points=1, force_text=1, expand_points=(1,1), expand_text=(1,0.5), avoid_self=False)\n",
    "for x, y, label in zip(country_labels.geometry.x, country_labels.geometry.y, country_labels[\"NAME_EN\"]):\n",
    "    texts.append(plt.text(x-100000, y, label.upper(), fontsize = 10, color=\"dimgray\")) #shift labels slightly to the west\n",
    "city_labels.plot(ax=ax, markersize=4)\n",
    "\n",
    "aT.adjust_text(texts, force_points=1, force_text=1, expand_points=(1,1), expand_text=(1,0.5), avoid_self=False)"
   ]
  },
  {
   "cell_type": "markdown",
   "id": "14329fea",
   "metadata": {},
   "source": [
    "# figure out how to plot with points, together with country labels"
   ]
  },
  {
   "cell_type": "code",
   "execution_count": null,
   "id": "11742194",
   "metadata": {},
   "outputs": [],
   "source": [
    "def plot_count(emo):\n",
    "    emojiname_us = emoji.demojize(str(emo)).replace(\":\",\"\")\n",
    "    emojiname = emojiname_us.replace(\"_\", \" \")\n",
    "    emojiname = emojiname.title()\n",
    "    subset = gdf[gdf['emoji generic'].str.contains(emo)]\n",
    "    x = ['January', 'February', 'March', 'April', 'May', 'June', 'July', 'August', 'September','October', 'December']\n",
    "    y = subset['Month/Year'].value_counts().sort_index()\n",
    "    fig,ax =plt.subplots(figsize = (20,5))\n",
    "    sns.set(style = 'whitegrid')\n",
    "    width = 0.75\n",
    "    ax.bar(x, y, width)\n",
    "    ax.set_ylabel('Number of Posts')\n",
    "    ax.set_xlabel('Month in 2020')\n",
    "    plt.title(\"Number of \" + emojiname + \" Emojis Used Per Month\", size =30)\n",
    "    plt.savefig(r\"C:\\Users\\saman\\OneDrive\\Documents\\Thesis\\Figures\\Emoji_Specific_Analysis\\plot_count\\plot_count_\" + emojiname_us + \".png\", dpi=300, bbox_inches = \"tight\")\n",
    "    plt.show()\n",
    "    \n",
    "def plot_monthlytyp(emo):\n",
    "    emojiname_us = emoji.demojize(str(emo)).replace(\":\",\"\")\n",
    "    emojiname = emojiname_us.replace(\"_\", \" \")\n",
    "    emojiname = emojiname.title()\n",
    "    subsettyp = getMonthlyTypicality(emo)\n",
    "    x = ['January', 'February', 'March', 'April', 'May', 'June', 'July', 'August', 'September','October', 'December']\n",
    "    y = subsettyp\n",
    "    fig, ax = plt.subplots(figsize = (20,5))\n",
    "    sns.set(style = 'whitegrid')\n",
    "    width = 0.75\n",
    "    ax.bar(x, y, width, color = \"green\")\n",
    "    ax.set_ylabel('Typicality')\n",
    "    ax.set_xlabel('Month in 2020')\n",
    "    plt.title(\"Typicality of \" + emojiname + \" Emoji Over Time\", size =30)\n",
    "    plt.savefig(r\"C:\\Users\\saman\\OneDrive\\Documents\\Thesis\\Figures\\Emoji_Specific_Analysis\\plot_monthlytyp\\plot_monthlytyp_\" + emojiname_us + \".png\", dpi=300, bbox_inches = \"tight\")\n",
    "    plt.show()"
   ]
  },
  {
   "cell_type": "markdown",
   "id": "08dd2fac",
   "metadata": {},
   "source": [
    "## To test the workflow for the emoji-specific analysis, I'll look at some emojis that probably have topical consistency because they represent an unambiguous real object:"
   ]
  },
  {
   "cell_type": "markdown",
   "id": "f4fd1d4a",
   "metadata": {},
   "source": [
    "# Beer emoji"
   ]
  },
  {
   "cell_type": "code",
   "execution_count": null,
   "id": "b412ca74",
   "metadata": {
    "scrolled": true
   },
   "outputs": [],
   "source": [
    "beerposts = gdf[gdf['emoji'].str.contains('🍺')]\n",
    "most_common_hashtags(beerposts['hashtags'], 20)"
   ]
  },
  {
   "cell_type": "code",
   "execution_count": null,
   "id": "f2b437e6",
   "metadata": {},
   "outputs": [],
   "source": [
    "# create wordcloud of top 20 co-occurring hashtags\n",
    "from wordcloud import WordCloud, STOPWORDS, ImageColorGenerator\n",
    "def make_wordcloud(newlist):\n",
    "    \n",
    "    hashtags = []\n",
    "    for item in newlist:\n",
    "        hashtags.append(item.lower().split(','))\n",
    "    flat_list = [item for sublist in hashtags for item in sublist]\n",
    "    \n",
    "    text = \" \".join(word for word in flat_list)\n",
    "    stopwords = set(STOPWORDS)\n",
    "    wordcloud =WordCloud(stopwords=stopwords,\n",
    "                         prefer_horizontal = 1,\n",
    "                         max_words = 20,\n",
    "                         colormap = \"winter\",\n",
    "                         background_color=\"white\",\n",
    "                         width=1600, \n",
    "                         height=800,\n",
    "                         collocations = False,\n",
    "                         normalize_plurals=False).generate(text)    \n",
    "\n",
    "    plt.figure(figsize=(20,10))\n",
    "    plt.tight_layout(pad=0)\n",
    "    plt.imshow(wordcloud, interpolation='bilinear')\n",
    "    plt.axis(\"off\")\n",
    "    plt.show()"
   ]
  },
  {
   "cell_type": "code",
   "execution_count": null,
   "id": "8d354af2",
   "metadata": {},
   "outputs": [],
   "source": [
    "subset = df[df['emoji generic'].str.contains('🍺')]\n",
    "make_wordcloud(subset['hashtags'])"
   ]
  },
  {
   "cell_type": "markdown",
   "id": "e0920c44",
   "metadata": {},
   "source": [
    "This emoji has topical consistency because over 87% of the posts using the top 20 co-occurring hashtags refer to the same topic (beer). So let's go ahead and do some further analysis:"
   ]
  },
  {
   "cell_type": "code",
   "execution_count": null,
   "id": "a3aabf5d",
   "metadata": {},
   "outputs": [],
   "source": [
    "plot_count('🍺')"
   ]
  },
  {
   "cell_type": "code",
   "execution_count": null,
   "id": "0c615c90",
   "metadata": {
    "scrolled": false
   },
   "outputs": [],
   "source": [
    "plot_monthlytyp('🍺')"
   ]
  },
  {
   "cell_type": "code",
   "execution_count": null,
   "id": "1bc95ef4",
   "metadata": {},
   "outputs": [],
   "source": [
    "# plot spatial typicality (no temporal subsets)\n",
    "EMOJI = '🍺'\n",
    "\n",
    "emojiname_us = emoji.demojize(str(EMOJI)).replace(\":\",\"\")\n",
    "emojiname = emojiname_us.replace(\"_\", \" \")\n",
    "emojiname = emojiname.title()\n",
    "\n",
    "#calculating frequency for total dataset     \n",
    "n_t = count[EMOJI]\n",
    "N_t = sum(count.values())\n",
    "F_t = n_t/N_t\n",
    "\n",
    "typ = pd.DataFrame(index = common_idx, columns = ['typicality'], data = '') #dummy dataframe to hold the typicality values\n",
    "\n",
    "for idx,midx in enumerate(common_idx): #looping through all the common indexes between the grids and dataframe\n",
    "    grid_typicality(gdf.loc[midx,\"emoji\"], common_idx[idx])\n",
    "\n",
    "geom = grid.loc[common_idx, \"geometry\"]\n",
    "typ_gdf = gp.GeoDataFrame(data = typ['typicality'], geometry =geom, crs = CRS_PROJ)\n",
    "\n",
    "base = grid.plot(figsize=(22,28), color='white', alpha=0)\n",
    "base.grid(False)\n",
    "# Hide axes ticks\n",
    "base.axes.xaxis.set_visible(False)\n",
    "base.axes.yaxis.set_visible(False)\n",
    "# combine with europe geometry\n",
    "countries_gdf.boundary.plot(ax=base, edgecolor='dimgray', linewidth=0.7, zorder=10) \n",
    "# add labels using adjust text\n",
    "for x, y, label in zip(country_labels.geometry.x, country_labels.geometry.y, country_labels[\"NAME_EN\"]):\n",
    "    texts.append(plt.text(x-100000, y, label.upper(), fontsize = 14, color=\"dimgray\", zorder=10))\n",
    "plot = typ_gdf.plot(ax=base, column = 'typicality', colormap=typ_cmap, alpha = 0.85, zorder=5)\n",
    "\n",
    "plt.title(\"Spatial Typicality of \" + emojiname + \" Emoji\", size =35)\n",
    "plt.grid(False)\n",
    "fig = plot.get_figure()\n",
    "fig.savefig(r\"C:\\Users\\saman\\OneDrive\\Documents\\Thesis\\Figures\\Emoji_Specific_Analysis\\plot_spatialtyp\\plot_spatialtyp_\" + emojiname_us + \".png\", dpi=300, bbox_inches = \"tight\")\n",
    "    "
   ]
  },
  {
   "cell_type": "markdown",
   "id": "ebf2f169",
   "metadata": {},
   "source": [
    "# Wine emoji"
   ]
  },
  {
   "cell_type": "code",
   "execution_count": null,
   "id": "71dac658",
   "metadata": {},
   "outputs": [],
   "source": [
    "wineposts = gdf[gdf['emoji'].str.contains('🍷')]\n",
    "most_common_hashtags(wineposts['hashtags'], 20)"
   ]
  },
  {
   "cell_type": "code",
   "execution_count": null,
   "id": "2d38c612",
   "metadata": {},
   "outputs": [],
   "source": [
    "subset = df[df['emoji generic'].str.contains('🍷')]\n",
    "make_wordcloud(subset['hashtags'])"
   ]
  },
  {
   "cell_type": "markdown",
   "id": "2b6c9dfd",
   "metadata": {},
   "source": [
    "This emoji has topical consistency because over 83% of the posts using the top 20 co-occurring hashtags refer to the same topic(wine). So let's look at the spatial and temporal typicality:"
   ]
  },
  {
   "cell_type": "code",
   "execution_count": null,
   "id": "83801950",
   "metadata": {},
   "outputs": [],
   "source": [
    "plot_count('🍷')"
   ]
  },
  {
   "cell_type": "code",
   "execution_count": null,
   "id": "52102fc7",
   "metadata": {
    "scrolled": true
   },
   "outputs": [],
   "source": [
    "plot_monthlytyp('🍷')"
   ]
  },
  {
   "cell_type": "code",
   "execution_count": null,
   "id": "0ffb0c4a",
   "metadata": {},
   "outputs": [],
   "source": [
    "# plot spatial typicality (no temporal subsets)\n",
    "EMOJI = '🍷'\n",
    "\n",
    "emojiname_us = emoji.demojize(str(EMOJI)).replace(\":\",\"\")\n",
    "emojiname = emojiname_us.replace(\"_\", \" \")\n",
    "emojiname = emojiname.title()\n",
    "\n",
    "#calculating frequency for total dataset     \n",
    "n_t = count[EMOJI]\n",
    "N_t = sum(count.values())\n",
    "F_t = n_t/N_t\n",
    "\n",
    "typ = pd.DataFrame(index = common_idx, columns = ['typicality'], data = '') #dummy dataframe to hold the typicality values\n",
    "\n",
    "for idx,midx in enumerate(common_idx): #looping through all the common indexes between the grids and dataframe\n",
    "    grid_typicality(gdf.loc[midx,\"emoji\"], common_idx[idx])\n",
    "\n",
    "geom = grid.loc[common_idx, \"geometry\"]\n",
    "typ_gdf = gp.GeoDataFrame(data = typ['typicality'], geometry =geom, crs = CRS_PROJ)\n",
    "\n",
    "base = grid.plot(figsize=(22,28), color='white', alpha=0)\n",
    "base.grid(False)\n",
    "# Hide axes ticks\n",
    "base.axes.xaxis.set_visible(False)\n",
    "base.axes.yaxis.set_visible(False)\n",
    "# combine with europe geometry\n",
    "countries_gdf.boundary.plot(ax=base, edgecolor='dimgray', linewidth=0.7, zorder=10) \n",
    "# add labels using adjust text\n",
    "for x, y, label in zip(country_labels.geometry.x, country_labels.geometry.y, country_labels[\"NAME_EN\"]):\n",
    "    texts.append(plt.text(x-100000, y, label.upper(), fontsize = 14, color=\"dimgray\", zorder=10))\n",
    "plot = typ_gdf.plot(ax=base, column = 'typicality', colormap=typ_cmap, alpha = 0.85, zorder=5)\n",
    "\n",
    "plt.title(\"Spatial Typicality of \" + emojiname + \" Emoji\", size =35)\n",
    "plt.grid(False)\n",
    "fig = plot.get_figure()\n",
    "fig.savefig(r\"C:\\Users\\saman\\OneDrive\\Documents\\Thesis\\Figures\\Emoji_Specific_Analysis\\plot_spatialtyp\\plot_spatialtyp_\" + emojiname_us + \".png\", dpi=300, bbox_inches = \"tight\")\n",
    "    "
   ]
  },
  {
   "cell_type": "markdown",
   "id": "abd9063f",
   "metadata": {},
   "source": [
    "## now that the workflow has been established, I'll proceed with emojis that might have more debateable meanings:"
   ]
  },
  {
   "cell_type": "markdown",
   "id": "08d97cfe",
   "metadata": {},
   "source": [
    "# Folded Hands"
   ]
  },
  {
   "cell_type": "markdown",
   "id": "dd412dff",
   "metadata": {},
   "source": [
    "hypothesis: this emoji is used in posts discussing covid-related stay at home measures"
   ]
  },
  {
   "cell_type": "code",
   "execution_count": null,
   "id": "e13c9907",
   "metadata": {},
   "outputs": [],
   "source": [
    "prayposts = gdf[gdf['emoji generic'].str.contains('🙏')] # create subset of posts containing specific emoji\n",
    "most_common_hashtags(prayposts['hashtags'], 20)"
   ]
  },
  {
   "cell_type": "code",
   "execution_count": null,
   "id": "747b13ec",
   "metadata": {},
   "outputs": [],
   "source": [
    "subset = df[df['emoji generic'].str.contains('🙏')]\n",
    "make_wordcloud(subset['hashtags'])"
   ]
  },
  {
   "cell_type": "markdown",
   "id": "5dfa27f9",
   "metadata": {},
   "source": [
    "This emoji demonstrates a topical consistency of 62.4%. Posts with this emoji seem to relate to the Christian religion, although there are also many other topics represented."
   ]
  },
  {
   "cell_type": "code",
   "execution_count": null,
   "id": "82e27d9a",
   "metadata": {},
   "outputs": [],
   "source": [
    "plot_count('🙏')\n",
    "plot_monthlytyp('🙏')"
   ]
  },
  {
   "cell_type": "code",
   "execution_count": null,
   "id": "6c7b1398",
   "metadata": {
    "scrolled": false
   },
   "outputs": [],
   "source": [
    "# plot spatial typicality (no temporal subsets)\n",
    "EMOJI = '🙏'\n",
    "\n",
    "emojiname_us = emoji.demojize(str(EMOJI)).replace(\":\",\"\")\n",
    "emojiname = emojiname_us.replace(\"_\", \" \")\n",
    "emojiname = emojiname.title()\n",
    "\n",
    "#calculating frequency for total dataset     \n",
    "n_t = count[EMOJI]\n",
    "N_t = sum(count.values())\n",
    "F_t = n_t/N_t\n",
    "\n",
    "typ = pd.DataFrame(index = common_idx, columns = ['typicality'], data = '') #dummy dataframe to hold the typicality values\n",
    "\n",
    "for idx,midx in enumerate(common_idx): #looping through all the common indexes between the grids and dataframe\n",
    "    grid_typicality(gdf.loc[midx,\"emoji\"], common_idx[idx])\n",
    "\n",
    "geom = grid.loc[common_idx, \"geometry\"]\n",
    "typ_gdf = gp.GeoDataFrame(data = typ['typicality'], geometry =geom, crs = CRS_PROJ)\n",
    "\n",
    "base = grid.plot(figsize=(22,28), color='white', alpha=0)\n",
    "base.grid(False)\n",
    "# Hide axes ticks\n",
    "base.axes.xaxis.set_visible(False)\n",
    "base.axes.yaxis.set_visible(False)\n",
    "# combine with europe geometry\n",
    "countries_gdf.boundary.plot(ax=base, edgecolor='dimgray', linewidth=0.7, zorder=10) \n",
    "# add labels using adjust text\n",
    "for x, y, label in zip(country_labels.geometry.x, country_labels.geometry.y, country_labels[\"NAME_EN\"]):\n",
    "    texts.append(plt.text(x-100000, y, label.upper(), fontsize = 14, color=\"dimgray\", zorder=10))\n",
    "plot = typ_gdf.plot(ax=base, column = 'typicality', colormap=typ_cmap, alpha = 0.85, zorder=5)\n",
    "\n",
    "plt.title(\"Spatial Typicality of \" + emojiname + \" Emoji\", size =35)\n",
    "plt.grid(False)\n",
    "fig = plot.get_figure()\n",
    "fig.savefig(r\"C:\\Users\\saman\\OneDrive\\Documents\\Thesis\\Figures\\Emoji_Specific_Analysis\\plot_spatialtyp\\plot_spatialtyp_\" + emojiname_us + \".png\", dpi=300, bbox_inches = \"tight\")"
   ]
  },
  {
   "cell_type": "markdown",
   "id": "c506bbb9",
   "metadata": {},
   "source": [
    "# Masked Face emoji"
   ]
  },
  {
   "cell_type": "markdown",
   "id": "4adb3afb",
   "metadata": {},
   "source": [
    "Hypothesis: this emoji is used in posts discussing covid-related safety measures. This hypothesis will be considered valid if over 80% of the top 20 associated hashtags are topically consistent. "
   ]
  },
  {
   "cell_type": "code",
   "execution_count": null,
   "id": "3457a7f6",
   "metadata": {
    "scrolled": true
   },
   "outputs": [],
   "source": [
    "maskposts = gdf[gdf['emoji'].str.contains('😷')]\n",
    "most_common_hashtags(maskposts['hashtags'], 20)"
   ]
  },
  {
   "cell_type": "code",
   "execution_count": null,
   "id": "a6238f40",
   "metadata": {},
   "outputs": [],
   "source": [
    "subset = df[df['emoji generic'].str.contains('😷')]\n",
    "make_wordcloud(subset['hashtags'])"
   ]
  },
  {
   "cell_type": "markdown",
   "id": "4e2019f0",
   "metadata": {},
   "source": [
    "This emoji demonstrates a topical consistency of ~92%. Posts with this emoji seem to relate to covid-related safety measures. Posts containing this emoji can reasonably be assumed to be discussing this topic. In this case, we can investigate the spatial and temporal typicality to reasonably track the discussion of this topic over time and space. "
   ]
  },
  {
   "cell_type": "code",
   "execution_count": null,
   "id": "f72649fc",
   "metadata": {},
   "outputs": [],
   "source": [
    "plot_count('😷')"
   ]
  },
  {
   "cell_type": "code",
   "execution_count": null,
   "id": "40d08faf",
   "metadata": {},
   "outputs": [],
   "source": [
    "plot_monthlytyp('😷')"
   ]
  },
  {
   "cell_type": "code",
   "execution_count": null,
   "id": "50193ed1",
   "metadata": {},
   "outputs": [],
   "source": [
    "# plot spatial typicality (no temporal subsets)\n",
    "EMOJI = '😷'\n",
    "\n",
    "emojiname_us = emoji.demojize(str(EMOJI)).replace(\":\",\"\")\n",
    "emojiname = emojiname_us.replace(\"_\", \" \")\n",
    "emojiname = emojiname.title()\n",
    "\n",
    "#calculating frequency for total dataset     \n",
    "n_t = count[EMOJI]\n",
    "N_t = sum(count.values())\n",
    "F_t = n_t/N_t\n",
    "\n",
    "typ = pd.DataFrame(index = common_idx, columns = ['typicality'], data = '') #dummy dataframe to hold the typicality values\n",
    "\n",
    "for idx,midx in enumerate(common_idx): #looping through all the common indexes between the grids and dataframe\n",
    "    grid_typicality(gdf.loc[midx,\"emoji\"], common_idx[idx])\n",
    "\n",
    "geom = grid.loc[common_idx, \"geometry\"]\n",
    "typ_gdf = gp.GeoDataFrame(data = typ['typicality'], geometry =geom, crs = CRS_PROJ)\n",
    "\n",
    "base = grid.plot(figsize=(22,28), color='white', alpha=0)\n",
    "base.grid(False)\n",
    "# Hide axes ticks\n",
    "base.axes.xaxis.set_visible(False)\n",
    "base.axes.yaxis.set_visible(False)\n",
    "# combine with europe geometry\n",
    "countries_gdf.boundary.plot(ax=base, edgecolor='dimgray', linewidth=0.7, zorder=10) \n",
    "# add labels using adjust text\n",
    "for x, y, label in zip(country_labels.geometry.x, country_labels.geometry.y, country_labels[\"NAME_EN\"]):\n",
    "    texts.append(plt.text(x-100000, y, label.upper(), fontsize = 14, color=\"dimgray\", zorder=10))\n",
    "plot = typ_gdf.plot(ax=base, column = 'typicality', colormap=typ_cmap, alpha = 0.85, zorder=5)\n",
    "\n",
    "plt.title(\"Spatial Typicality of \" + emojiname + \" Emoji\", size =35)\n",
    "plt.grid(False)\n",
    "fig = plot.get_figure()\n",
    "fig.savefig(r\"C:\\Users\\saman\\OneDrive\\Documents\\Thesis\\Figures\\Emoji_Specific_Analysis\\plot_spatialtyp\\plot_spatialtyp_\" + emojiname_us + \".png\", dpi=300, bbox_inches = \"tight\")\n",
    "    "
   ]
  },
  {
   "cell_type": "markdown",
   "id": "8b272132",
   "metadata": {},
   "source": [
    "# Raised Fist Emoji"
   ]
  },
  {
   "cell_type": "markdown",
   "id": "1e9a1d06",
   "metadata": {},
   "source": [
    "Hypothesis: this emoji is used in posts discussing the Black Lives Matter movement. This hypothesis will be considered valid if over 80% of posts using the top 20 associated hashtags are topically consistent. "
   ]
  },
  {
   "cell_type": "code",
   "execution_count": null,
   "id": "9bcbeadf",
   "metadata": {
    "scrolled": true
   },
   "outputs": [],
   "source": [
    "fistposts = gdf[gdf['emoji generic'].str.contains('✊')]\n",
    "most_common_hashtags(fistposts['hashtags'], 20)"
   ]
  },
  {
   "cell_type": "code",
   "execution_count": null,
   "id": "d87cc8d7",
   "metadata": {},
   "outputs": [],
   "source": [
    "subset = df[df['emoji generic'].str.contains('✊')]\n",
    "make_wordcloud(subset['hashtags'])"
   ]
  },
  {
   "cell_type": "markdown",
   "id": "3643dee8",
   "metadata": {},
   "source": [
    "It seems most of the associated hashtags have to do with the BLM movement, except for 95 posts by a bar in Greece called bluecollarstore"
   ]
  },
  {
   "cell_type": "markdown",
   "id": "5c79e699",
   "metadata": {},
   "source": [
    "This emoji demonstrates topical consistency because a significant portion (~91%) of posts with the associated hashtags relate to the same topic (covid-related safety measures). Posts containing this emoji can reasonably be assumed to be discussing this topic. In this case, we can investigate the spatial and temporal typicality to reasonably track the discussion of this topic over time and space. "
   ]
  },
  {
   "cell_type": "code",
   "execution_count": null,
   "id": "2f8944bd",
   "metadata": {},
   "outputs": [],
   "source": [
    "plot_count('✊')"
   ]
  },
  {
   "cell_type": "code",
   "execution_count": null,
   "id": "29621c61",
   "metadata": {
    "scrolled": false
   },
   "outputs": [],
   "source": [
    "plot_monthlytyp('✊')"
   ]
  },
  {
   "cell_type": "code",
   "execution_count": null,
   "id": "0aa7f671",
   "metadata": {},
   "outputs": [],
   "source": [
    "# plot spatial typicality (no temporal subsets)\n",
    "EMOJI = '✊'\n",
    "\n",
    "emojiname_us = emoji.demojize(str(EMOJI)).replace(\":\",\"\")\n",
    "emojiname = emojiname_us.replace(\"_\", \" \")\n",
    "emojiname = emojiname.title()\n",
    "\n",
    "#calculating frequency for total dataset     \n",
    "n_t = count[EMOJI]\n",
    "N_t = sum(count.values())\n",
    "F_t = n_t/N_t\n",
    "\n",
    "typ = pd.DataFrame(index = common_idx, columns = ['typicality'], data = '') #dummy dataframe to hold the typicality values\n",
    "\n",
    "for idx,midx in enumerate(common_idx): #looping through all the common indexes between the grids and dataframe\n",
    "    grid_typicality(gdf.loc[midx,\"emoji\"], common_idx[idx])\n",
    "\n",
    "geom = grid.loc[common_idx, \"geometry\"]\n",
    "typ_gdf = gp.GeoDataFrame(data = typ['typicality'], geometry =geom, crs = CRS_PROJ)\n",
    "\n",
    "base = grid.plot(figsize=(22,28), color='white', alpha=0)\n",
    "base.grid(False)\n",
    "# Hide axes ticks\n",
    "base.axes.xaxis.set_visible(False)\n",
    "base.axes.yaxis.set_visible(False)\n",
    "# combine with europe geometry\n",
    "countries_gdf.boundary.plot(ax=base, edgecolor='dimgray', linewidth=0.7, zorder=10) \n",
    "# add labels using adjust text\n",
    "for x, y, label in zip(country_labels.geometry.x, country_labels.geometry.y, country_labels[\"NAME_EN\"]):\n",
    "    texts.append(plt.text(x-100000, y, label.upper(), fontsize = 14, color=\"dimgray\", zorder=10))\n",
    "plot = typ_gdf.plot(ax=base, column = 'typicality', colormap=typ_cmap, alpha = 0.85, zorder=5)\n",
    "\n",
    "plt.title(\"Spatial Typicality of \" + emojiname + \" Emoji\", size =35)\n",
    "plt.grid(False)\n",
    "fig = plot.get_figure()\n",
    "fig.savefig(r\"C:\\Users\\saman\\OneDrive\\Documents\\Thesis\\Figures\\Emoji_Specific_Analysis\\plot_spatialtyp\\plot_spatialtyp_\" + emojiname_us + \".png\", dpi=300, bbox_inches = \"tight\")\n",
    "    "
   ]
  },
  {
   "cell_type": "markdown",
   "id": "796aa4e9",
   "metadata": {},
   "source": [
    "# Rainbow Emoji"
   ]
  },
  {
   "cell_type": "markdown",
   "id": "0a694fc2",
   "metadata": {},
   "source": [
    "Hypothesis: this emoji is used in posts discussing Pride/LGBTQIA+ rights. This hypothesis will be considered valid if over 80% of posts with the top 20 associated hashtags are topically consistent. "
   ]
  },
  {
   "cell_type": "code",
   "execution_count": null,
   "id": "91c62b99",
   "metadata": {},
   "outputs": [],
   "source": [
    "rainbowposts = gdf[gdf['emoji'].str.contains('🌈')]\n",
    "most_common_hashtags(rainbowposts['hashtags'], 20)"
   ]
  },
  {
   "cell_type": "code",
   "execution_count": null,
   "id": "ebd501e3",
   "metadata": {},
   "outputs": [],
   "source": [
    "subset = df[df['emoji generic'].str.contains('🌈')]\n",
    "make_wordcloud(subset['hashtags'])"
   ]
  },
  {
   "cell_type": "markdown",
   "id": "1cded223",
   "metadata": {},
   "source": [
    "This emoji does not demonstrate topical consistency because only ~74% of posts with the associated hashtags relate to the same topic (Pride/LGBTQIA+ rights). Posts containing this emoji could refer to a variety of topics. "
   ]
  },
  {
   "cell_type": "code",
   "execution_count": null,
   "id": "2fb75e40",
   "metadata": {},
   "outputs": [],
   "source": [
    "plot_count('🌈')"
   ]
  },
  {
   "cell_type": "code",
   "execution_count": null,
   "id": "7e46519a",
   "metadata": {},
   "outputs": [],
   "source": [
    "plot_monthlytyp('🌈')"
   ]
  },
  {
   "cell_type": "code",
   "execution_count": null,
   "id": "a276f462",
   "metadata": {},
   "outputs": [],
   "source": [
    "# plot spatial typicality (no temporal subsets)\n",
    "EMOJI = '🌈'\n",
    "\n",
    "emojiname_us = emoji.demojize(str(EMOJI)).replace(\":\",\"\")\n",
    "emojiname = emojiname_us.replace(\"_\", \" \")\n",
    "emojiname = emojiname.title()\n",
    "\n",
    "#calculating frequency for total dataset     \n",
    "n_t = count[EMOJI]\n",
    "N_t = sum(count.values())\n",
    "F_t = n_t/N_t\n",
    "\n",
    "typ = pd.DataFrame(index = common_idx, columns = ['typicality'], data = '') #dummy dataframe to hold the typicality values\n",
    "\n",
    "for idx,midx in enumerate(common_idx): #looping through all the common indexes between the grids and dataframe\n",
    "    grid_typicality(gdf.loc[midx,\"emoji\"], common_idx[idx])\n",
    "\n",
    "geom = grid.loc[common_idx, \"geometry\"]\n",
    "typ_gdf = gp.GeoDataFrame(data = typ['typicality'], geometry =geom, crs = CRS_PROJ)\n",
    "\n",
    "base = grid.plot(figsize=(22,28), color='white', alpha=0)\n",
    "base.grid(False)\n",
    "# Hide axes ticks\n",
    "base.axes.xaxis.set_visible(False)\n",
    "base.axes.yaxis.set_visible(False)\n",
    "# combine with europe geometry\n",
    "countries_gdf.boundary.plot(ax=base, edgecolor='dimgray', linewidth=0.7, zorder=10) \n",
    "# add labels using adjust text\n",
    "for x, y, label in zip(country_labels.geometry.x, country_labels.geometry.y, country_labels[\"NAME_EN\"]):\n",
    "    texts.append(plt.text(x-100000, y, label.upper(), fontsize = 14, color=\"dimgray\", zorder=10))\n",
    "plot = typ_gdf.plot(ax=base, column = 'typicality', colormap=typ_cmap, alpha = 0.85, zorder=5)\n",
    "\n",
    "plt.title(\"Spatial Typicality of \" + emojiname + \" Emoji\", size =35)\n",
    "plt.grid(False)\n",
    "fig = plot.get_figure()\n",
    "fig.savefig(r\"C:\\Users\\saman\\OneDrive\\Documents\\Thesis\\Figures\\Emoji_Specific_Analysis\\plot_spatialtyp\\plot_spatialtyp_\" + emojiname_us + \".png\", dpi=300, bbox_inches = \"tight\")\n",
    "    "
   ]
  },
  {
   "cell_type": "markdown",
   "id": "1601ff1a",
   "metadata": {},
   "source": [
    "# Syringe emoji"
   ]
  },
  {
   "cell_type": "markdown",
   "id": "7535c8b1",
   "metadata": {},
   "source": [
    "Hypothesis: this emoji is used in posts discussing vaccines. This hypothesis will be considered valid if over 80% of posts with the top 20 associated hashtags are topically consistent. "
   ]
  },
  {
   "cell_type": "code",
   "execution_count": null,
   "id": "9420632c",
   "metadata": {},
   "outputs": [],
   "source": [
    "syringeeposts = gdf[gdf['emoji'].str.contains('💉')]\n",
    "most_common_hashtags(syringeposts['hashtags'], 20)"
   ]
  },
  {
   "cell_type": "code",
   "execution_count": null,
   "id": "9969232b",
   "metadata": {},
   "outputs": [],
   "source": [
    "subset = df[df['emoji generic'].str.contains('💉')]\n",
    "make_wordcloud(subset['hashtags'])"
   ]
  },
  {
   "cell_type": "markdown",
   "id": "497e3dcd",
   "metadata": {},
   "source": [
    "This emoji demonstrates a topical consistency of ~71%. Posts with this emoji seem to relate mostly to vaccines."
   ]
  },
  {
   "cell_type": "code",
   "execution_count": null,
   "id": "14ca1ffd",
   "metadata": {},
   "outputs": [],
   "source": [
    "plot_count('💉')"
   ]
  },
  {
   "cell_type": "code",
   "execution_count": null,
   "id": "f8ec2623",
   "metadata": {},
   "outputs": [],
   "source": [
    "plot_monthlytyp('💉')"
   ]
  },
  {
   "cell_type": "code",
   "execution_count": null,
   "id": "b2f50c2b",
   "metadata": {},
   "outputs": [],
   "source": [
    "# plot spatial typicality (no temporal subsets)\n",
    "EMOJI = '💉'\n",
    "\n",
    "emojiname_us = emoji.demojize(str(EMOJI)).replace(\":\",\"\")\n",
    "emojiname = emojiname_us.replace(\"_\", \" \")\n",
    "emojiname = emojiname.title()\n",
    "\n",
    "#calculating frequency for total dataset     \n",
    "n_t = count[EMOJI]\n",
    "N_t = sum(count.values())\n",
    "F_t = n_t/N_t\n",
    "\n",
    "typ = pd.DataFrame(index = common_idx, columns = ['typicality'], data = '') #dummy dataframe to hold the typicality values\n",
    "\n",
    "for idx,midx in enumerate(common_idx): #looping through all the common indexes between the grids and dataframe\n",
    "    grid_typicality(gdf.loc[midx,\"emoji\"], common_idx[idx])\n",
    "\n",
    "geom = grid.loc[common_idx, \"geometry\"]\n",
    "typ_gdf = gp.GeoDataFrame(data = typ['typicality'], geometry =geom, crs = CRS_PROJ)\n",
    "\n",
    "base = grid.plot(figsize=(22,28), color='white', alpha=0)\n",
    "base.grid(False)\n",
    "# Hide axes ticks\n",
    "base.axes.xaxis.set_visible(False)\n",
    "base.axes.yaxis.set_visible(False)\n",
    "# combine with europe geometry\n",
    "countries_gdf.boundary.plot(ax=base, edgecolor='dimgray', linewidth=0.7, zorder=10) \n",
    "# add labels using adjust text\n",
    "for x, y, label in zip(country_labels.geometry.x, country_labels.geometry.y, country_labels[\"NAME_EN\"]):\n",
    "    texts.append(plt.text(x-100000, y, label.upper(), fontsize = 14, color=\"dimgray\", zorder=10))\n",
    "plot = typ_gdf.plot(ax=base, column = 'typicality', colormap=typ_cmap, alpha = 0.85, zorder=5)\n",
    "\n",
    "plt.title(\"Spatial Typicality of \" + emojiname + \" Emoji\", size =35)\n",
    "plt.grid(False)\n",
    "fig = plot.get_figure()\n",
    "fig.savefig(r\"C:\\Users\\saman\\OneDrive\\Documents\\Thesis\\Figures\\Emoji_Specific_Analysis\\plot_spatialtyp\\plot_spatialtyp_\" + emojiname_us + \".png\", dpi=300, bbox_inches = \"tight\")\n",
    "    "
   ]
  },
  {
   "cell_type": "markdown",
   "id": "346b6d86",
   "metadata": {},
   "source": [
    "# Christmas Tree emoji"
   ]
  },
  {
   "cell_type": "markdown",
   "id": "ef1683bc",
   "metadata": {},
   "source": [
    "Hypothesis: this emoji is used in posts discussing Christmas. This hypothesis will be considered valid if over 80% of posts with the top 20 associated hashtags are topically consistent. "
   ]
  },
  {
   "cell_type": "code",
   "execution_count": null,
   "id": "169bf411",
   "metadata": {
    "scrolled": true
   },
   "outputs": [],
   "source": [
    "xmastreeposts = gdf[gdf['emoji'].str.contains('🎄')]\n",
    "most_common_hashtags(xmastreeposts['hashtags'], 20)"
   ]
  },
  {
   "cell_type": "code",
   "execution_count": null,
   "id": "2653779c",
   "metadata": {},
   "outputs": [],
   "source": [
    "subset = df[df['emoji generic'].str.contains('🎄')]\n",
    "make_wordcloud(subset['hashtags'])"
   ]
  },
  {
   "cell_type": "markdown",
   "id": "23bc2e46",
   "metadata": {},
   "source": [
    "This emoji demonstrates a topical consistency of ~88%. Posts with this emoji seem to relate to Christmas. Posts containing this emoji can reasonably be assumed to be discussing this topic. "
   ]
  },
  {
   "cell_type": "code",
   "execution_count": null,
   "id": "d516d2e6",
   "metadata": {
    "scrolled": true
   },
   "outputs": [],
   "source": [
    "plot_count('🎄')"
   ]
  },
  {
   "cell_type": "code",
   "execution_count": null,
   "id": "9ecddf88",
   "metadata": {},
   "outputs": [],
   "source": [
    "plot_monthlytyp('🎄')"
   ]
  },
  {
   "cell_type": "code",
   "execution_count": null,
   "id": "db83cdda",
   "metadata": {},
   "outputs": [],
   "source": [
    "# plot spatial typicality (no temporal subsets)\n",
    "EMOJI = '🎄'\n",
    "\n",
    "emojiname_us = emoji.demojize(str(EMOJI)).replace(\":\",\"\")\n",
    "emojiname = emojiname_us.replace(\"_\", \" \")\n",
    "emojiname = emojiname.title()\n",
    "\n",
    "#calculating frequency for total dataset     \n",
    "n_t = count[EMOJI]\n",
    "N_t = sum(count.values())\n",
    "F_t = n_t/N_t\n",
    "\n",
    "typ = pd.DataFrame(index = common_idx, columns = ['typicality'], data = '') #dummy dataframe to hold the typicality values\n",
    "\n",
    "for idx,midx in enumerate(common_idx): #looping through all the common indexes between the grids and dataframe\n",
    "    grid_typicality(gdf.loc[midx,\"emoji\"], common_idx[idx])\n",
    "\n",
    "geom = grid.loc[common_idx, \"geometry\"]\n",
    "typ_gdf = gp.GeoDataFrame(data = typ['typicality'], geometry =geom, crs = CRS_PROJ)\n",
    "\n",
    "base = grid.plot(figsize=(22,28), color='white', alpha=0)\n",
    "base.grid(False)\n",
    "# Hide axes ticks\n",
    "base.axes.xaxis.set_visible(False)\n",
    "base.axes.yaxis.set_visible(False)\n",
    "# combine with europe geometry\n",
    "countries_gdf.boundary.plot(ax=base, edgecolor='dimgray', linewidth=0.7, zorder=10) \n",
    "# add labels using adjust text\n",
    "for x, y, label in zip(country_labels.geometry.x, country_labels.geometry.y, country_labels[\"NAME_EN\"]):\n",
    "    texts.append(plt.text(x-100000, y, label.upper(), fontsize = 14, color=\"dimgray\", zorder=10))\n",
    "plot = typ_gdf.plot(ax=base, column = 'typicality', colormap=typ_cmap, alpha = 0.85, zorder=5)\n",
    "\n",
    "plt.title(\"Spatial Typicality of \" + emojiname + \" Emoji\", size =35)\n",
    "plt.grid(False)\n",
    "fig = plot.get_figure()\n",
    "fig.savefig(r\"C:\\Users\\saman\\OneDrive\\Documents\\Thesis\\Figures\\Emoji_Specific_Analysis\\plot_spatialtyp\\plot_spatialtyp_\" + emojiname_us + \".png\", dpi=300, bbox_inches = \"tight\")\n",
    "    "
   ]
  },
  {
   "cell_type": "markdown",
   "id": "e5562d92",
   "metadata": {},
   "source": [
    "# Microbe emoji"
   ]
  },
  {
   "cell_type": "markdown",
   "id": "d6323af4",
   "metadata": {},
   "source": [
    "Hypothesis: this emoji is used in posts discussing COVID-19. This hypothesis will be considered valid if over 80% of posts with the top 20 associated hashtags are topically consistent. "
   ]
  },
  {
   "cell_type": "code",
   "execution_count": null,
   "id": "e5334f31",
   "metadata": {},
   "outputs": [],
   "source": [
    "microbeposts = gdf[gdf['emoji'].str.contains('🦠')]\n",
    "most_common_hashtags(microbeposts['hashtags'], 20)"
   ]
  },
  {
   "cell_type": "code",
   "execution_count": null,
   "id": "a4971338",
   "metadata": {},
   "outputs": [],
   "source": [
    "subset = df[df['emoji generic'].str.contains('🦠')]\n",
    "make_wordcloud(subset['hashtags'])"
   ]
  },
  {
   "cell_type": "markdown",
   "id": "b816add5",
   "metadata": {},
   "source": [
    "This emoji demonstrates a high topical consistency of over 98%. Posts with this emoji seem to relate to the topic of covid-19.  Posts containing this emoji can reasonably be assumed to be discussing this topic."
   ]
  },
  {
   "cell_type": "code",
   "execution_count": null,
   "id": "df83c541",
   "metadata": {},
   "outputs": [],
   "source": [
    "plot_count('🦠')"
   ]
  },
  {
   "cell_type": "code",
   "execution_count": null,
   "id": "3d2e93af",
   "metadata": {},
   "outputs": [],
   "source": [
    "plot_monthlytyp('🦠')"
   ]
  },
  {
   "cell_type": "code",
   "execution_count": null,
   "id": "6e4c1df6",
   "metadata": {},
   "outputs": [],
   "source": [
    "# plot spatial typicality (no temporal subsets)\n",
    "EMOJI = '🦠'\n",
    "\n",
    "emojiname_us = emoji.demojize(str(EMOJI)).replace(\":\",\"\")\n",
    "emojiname = emojiname_us.replace(\"_\", \" \")\n",
    "emojiname = emojiname.title()\n",
    "\n",
    "#calculating frequency for total dataset     \n",
    "n_t = count[EMOJI]\n",
    "N_t = sum(count.values())\n",
    "F_t = n_t/N_t\n",
    "\n",
    "typ = pd.DataFrame(index = common_idx, columns = ['typicality'], data = '') #dummy dataframe to hold the typicality values\n",
    "\n",
    "for idx,midx in enumerate(common_idx): #looping through all the common indexes between the grids and dataframe\n",
    "    grid_typicality(gdf.loc[midx,\"emoji\"], common_idx[idx])\n",
    "\n",
    "geom = grid.loc[common_idx, \"geometry\"]\n",
    "typ_gdf = gp.GeoDataFrame(data = typ['typicality'], geometry =geom, crs = CRS_PROJ)\n",
    "\n",
    "base = grid.plot(figsize=(22,28), color='white', alpha=0)\n",
    "base.grid(False)\n",
    "# Hide axes ticks\n",
    "base.axes.xaxis.set_visible(False)\n",
    "base.axes.yaxis.set_visible(False)\n",
    "# combine with europe geometry\n",
    "countries_gdf.boundary.plot(ax=base, edgecolor='dimgray', linewidth=0.7, zorder=10) \n",
    "# add labels using adjust text\n",
    "for x, y, label in zip(country_labels.geometry.x, country_labels.geometry.y, country_labels[\"NAME_EN\"]):\n",
    "    texts.append(plt.text(x-100000, y, label.upper(), fontsize = 14, color=\"dimgray\", zorder=10))\n",
    "plot = typ_gdf.plot(ax=base, column = 'typicality', colormap=typ_cmap, alpha = 0.85, zorder=5)\n",
    "\n",
    "plt.title(\"Spatial Typicality of \" + emojiname + \" Emoji\", size =35)\n",
    "plt.grid(False)\n",
    "fig = plot.get_figure()\n",
    "fig.savefig(r\"C:\\Users\\saman\\OneDrive\\Documents\\Thesis\\Figures\\Emoji_Specific_Analysis\\plot_spatialtyp\\plot_spatialtyp_\" + emojiname_us + \".png\", dpi=300, bbox_inches = \"tight\")\n",
    "    "
   ]
  },
  {
   "cell_type": "markdown",
   "id": "2a3e3c08",
   "metadata": {},
   "source": [
    "# Calpping Hands Emoji"
   ]
  },
  {
   "cell_type": "code",
   "execution_count": null,
   "id": "d99b21df",
   "metadata": {},
   "outputs": [],
   "source": [
    "clap = gdf[gdf['emoji generic'].str.contains('👏')]\n",
    "most_common_hashtags(clap['hashtags'], 20)"
   ]
  },
  {
   "cell_type": "code",
   "execution_count": null,
   "id": "57d136f1",
   "metadata": {},
   "outputs": [],
   "source": [
    "subset = df[df['emoji generic'].str.contains('👏')]\n",
    "make_wordcloud(subset['hashtags'])"
   ]
  },
  {
   "cell_type": "markdown",
   "id": "1cf0253b",
   "metadata": {},
   "source": [
    "This emoji demonstrates a high topical consistency of 89.7%. Posts with this emoji seem to relate to the topic of clapping for healthcare workers during the pandemic.  Posts containing this emoji can reasonably be assumed to be discussing this topic."
   ]
  },
  {
   "cell_type": "code",
   "execution_count": null,
   "id": "624e07f2",
   "metadata": {},
   "outputs": [],
   "source": [
    "plot_count('👏')"
   ]
  },
  {
   "cell_type": "code",
   "execution_count": null,
   "id": "e5192566",
   "metadata": {},
   "outputs": [],
   "source": [
    "plot_monthlytyp('👏')"
   ]
  },
  {
   "cell_type": "code",
   "execution_count": null,
   "id": "103e63b8",
   "metadata": {},
   "outputs": [],
   "source": [
    "# plot spatial typicality (no temporal subsets)\n",
    "EMOJI = '👏'\n",
    "\n",
    "emojiname_us = emoji.demojize(str(EMOJI)).replace(\":\",\"\")\n",
    "emojiname = emojiname_us.replace(\"_\", \" \")\n",
    "emojiname = emojiname.title()\n",
    "\n",
    "#calculating frequency for total dataset     \n",
    "n_t = count[EMOJI]\n",
    "N_t = sum(count.values())\n",
    "F_t = n_t/N_t\n",
    "\n",
    "typ = pd.DataFrame(index = common_idx, columns = ['typicality'], data = '') #dummy dataframe to hold the typicality values\n",
    "\n",
    "for idx,midx in enumerate(common_idx): #looping through all the common indexes between the grids and dataframe\n",
    "    grid_typicality(gdf.loc[midx,\"emoji\"], common_idx[idx])\n",
    "\n",
    "geom = grid.loc[common_idx, \"geometry\"]\n",
    "typ_gdf = gp.GeoDataFrame(data = typ['typicality'], geometry =geom, crs = CRS_PROJ)\n",
    "\n",
    "base = grid.plot(figsize=(22,28), color='white', alpha=0)\n",
    "base.grid(False)\n",
    "# Hide axes ticks\n",
    "base.axes.xaxis.set_visible(False)\n",
    "base.axes.yaxis.set_visible(False)\n",
    "# combine with europe geometry\n",
    "countries_gdf.boundary.plot(ax=base, edgecolor='dimgray', linewidth=0.7, zorder=10) \n",
    "# add labels using adjust text\n",
    "for x, y, label in zip(country_labels.geometry.x, country_labels.geometry.y, country_labels[\"NAME_EN\"]):\n",
    "    texts.append(plt.text(x-100000, y, label.upper(), fontsize = 14, color=\"dimgray\", zorder=10))\n",
    "plot = typ_gdf.plot(ax=base, column = 'typicality', colormap=typ_cmap, alpha = 0.85, zorder=5)\n",
    "\n",
    "plt.title(\"Spatial Typicality of \" + emojiname + \" Emoji\", size =35)\n",
    "plt.grid(False)\n",
    "fig = plot.get_figure()\n",
    "fig.savefig(r\"C:\\Users\\saman\\OneDrive\\Documents\\Thesis\\Figures\\Emoji_Specific_Analysis\\plot_spatialtyp\\plot_spatialtyp_\" + emojiname_us + \".png\", dpi=300, bbox_inches = \"tight\")\n",
    "    "
   ]
  },
  {
   "cell_type": "markdown",
   "id": "2164cb49",
   "metadata": {},
   "source": [
    "# now we'll repeat the process for emojis that were found to be typical in the top 10 countries by userdays"
   ]
  },
  {
   "cell_type": "code",
   "execution_count": null,
   "id": "2cd6f493",
   "metadata": {},
   "outputs": [],
   "source": [
    "top_countries = [\"United Kingdom\",\"Spain\",\"France\",\n",
    "    \"Germany\",\n",
    "    \"Italy\",\n",
    "    \"Turkey\",\n",
    "    \"Netherlands\",\n",
    "    \"Belgium\",\n",
    "    \"Switzerland\",\n",
    "    \"Austria\"]"
   ]
  },
  {
   "cell_type": "code",
   "execution_count": null,
   "id": "8b18753f",
   "metadata": {
    "scrolled": true
   },
   "outputs": [],
   "source": [
    "# read data in from the raw data analysis\n",
    "country_typ = {}\n",
    "for country in top_countries:\n",
    "    country_typ[country] = pd.read_csv(r\"C:\\Users\\saman\\OneDrive\\Documents\\Thesis\\Data\\TypicalEmojis_ByCountry\\EmojiTypicality_\" + country + \".csv\", index_col=False)\n",
    "pos_country_typ = {}\n",
    "for country, df in country_typ.items():\n",
    "    pos_df = df.drop(df.index[df['Typicality'] < 0])\n",
    "    pos_country_typ[country] = pos_df\n",
    "    \n",
    "pos_country_typ"
   ]
  },
  {
   "cell_type": "markdown",
   "id": "289c02e6",
   "metadata": {},
   "source": [
    "### due to time constraints, I will just investigate the top 3 most typical emojis per country"
   ]
  },
  {
   "cell_type": "markdown",
   "id": "65a7493c",
   "metadata": {},
   "source": [
    "# United Kingdom"
   ]
  },
  {
   "cell_type": "code",
   "execution_count": null,
   "id": "6cde1b69",
   "metadata": {},
   "outputs": [],
   "source": [
    "United Kingdom\n",
    "🤱 :breast-feeding:    1.831311\n",
    "🧁 :cupcake:    1.136168\n",
    "🏌️‍♂️ :man_golfing:    1.128539"
   ]
  },
  {
   "cell_type": "code",
   "execution_count": null,
   "id": "d3e35478",
   "metadata": {
    "scrolled": true
   },
   "outputs": [],
   "source": [
    "bf = gdf[gdf['emoji generic'].str.contains('🤱')]\n",
    "most_common_hashtags(bf['hashtags'], 20)"
   ]
  },
  {
   "cell_type": "code",
   "execution_count": null,
   "id": "1b4ecd17",
   "metadata": {},
   "outputs": [],
   "source": [
    "subset = df[df['emoji generic'].str.contains('🤱')]\n",
    "make_wordcloud(subset['hashtags'])"
   ]
  },
  {
   "cell_type": "markdown",
   "id": "72c34365",
   "metadata": {},
   "source": [
    "This emoji demonstrates a high topical consistency of over 99%. Posts with this emoji seem to relate to the topic of babies.  Posts containing this emoji can reasonably be assumed to be discussing this topic."
   ]
  },
  {
   "cell_type": "code",
   "execution_count": null,
   "id": "62db8919",
   "metadata": {},
   "outputs": [],
   "source": [
    "plot_count('🤱')"
   ]
  },
  {
   "cell_type": "code",
   "execution_count": null,
   "id": "29a8887b",
   "metadata": {},
   "outputs": [],
   "source": [
    "plot_monthlytyp('🤱')"
   ]
  },
  {
   "cell_type": "code",
   "execution_count": null,
   "id": "4b1de793",
   "metadata": {},
   "outputs": [],
   "source": [
    "# plot spatial typicality (no temporal subsets)\n",
    "EMOJI = '🤱'\n",
    "\n",
    "emojiname_us = emoji.demojize(str(EMOJI)).replace(\":\",\"\")\n",
    "emojiname = emojiname_us.replace(\"_\", \" \")\n",
    "emojiname = emojiname.title()\n",
    "\n",
    "#calculating frequency for total dataset     \n",
    "n_t = count[EMOJI]\n",
    "N_t = sum(count.values())\n",
    "F_t = n_t/N_t\n",
    "\n",
    "typ = pd.DataFrame(index = common_idx, columns = ['typicality'], data = '') #dummy dataframe to hold the typicality values\n",
    "\n",
    "for idx,midx in enumerate(common_idx): #looping through all the common indexes between the grids and dataframe\n",
    "    grid_typicality(gdf.loc[midx,\"emoji\"], common_idx[idx])\n",
    "\n",
    "geom = grid.loc[common_idx, \"geometry\"]\n",
    "typ_gdf = gp.GeoDataFrame(data = typ['typicality'], geometry =geom, crs = CRS_PROJ)\n",
    "\n",
    "base = grid.plot(figsize=(22,28), color='white', alpha=0)\n",
    "base.grid(False)\n",
    "# Hide axes ticks\n",
    "base.axes.xaxis.set_visible(False)\n",
    "base.axes.yaxis.set_visible(False)\n",
    "# combine with europe geometry\n",
    "countries_gdf.boundary.plot(ax=base, edgecolor='dimgray', linewidth=0.7, zorder=10) \n",
    "# add labels using adjust text\n",
    "for x, y, label in zip(country_labels.geometry.x, country_labels.geometry.y, country_labels[\"NAME_EN\"]):\n",
    "    texts.append(plt.text(x-100000, y, label.upper(), fontsize = 14, color=\"dimgray\", zorder=10))\n",
    "plot = typ_gdf.plot(ax=base, column = 'typicality', colormap=typ_cmap, alpha = 0.85, zorder=5)\n",
    "\n",
    "plt.title(\"Spatial Typicality of \" + emojiname + \" Emoji\", size =35)\n",
    "plt.grid(False)\n",
    "fig = plot.get_figure()\n",
    "fig.savefig(r\"C:\\Users\\saman\\OneDrive\\Documents\\Thesis\\Figures\\Emoji_Specific_Analysis\\plot_spatialtyp\\plot_spatialtyp_\" + emojiname_us + \".png\", dpi=300, bbox_inches = \"tight\")"
   ]
  },
  {
   "cell_type": "code",
   "execution_count": null,
   "id": "0e31fdd8",
   "metadata": {},
   "outputs": [],
   "source": [
    "cupcake = gdf[gdf['emoji'].str.contains('🧁')]\n",
    "most_common_hashtags(cupcake['hashtags'], 20)"
   ]
  },
  {
   "cell_type": "code",
   "execution_count": null,
   "id": "176ae5ab",
   "metadata": {},
   "outputs": [],
   "source": [
    "subset = df[df['emoji generic'].str.contains('🧁')]\n",
    "make_wordcloud(subset['hashtags'])"
   ]
  },
  {
   "cell_type": "markdown",
   "id": "1d7a5223",
   "metadata": {},
   "source": [
    "This emoji demonstrates a topical consistency of 55%. Posts with this emoji seem to relate to cupcakes."
   ]
  },
  {
   "cell_type": "code",
   "execution_count": null,
   "id": "72a32a18",
   "metadata": {},
   "outputs": [],
   "source": [
    "plot_count('🧁')"
   ]
  },
  {
   "cell_type": "code",
   "execution_count": null,
   "id": "659b3bdc",
   "metadata": {},
   "outputs": [],
   "source": [
    "plot_monthlytyp('🧁')"
   ]
  },
  {
   "cell_type": "code",
   "execution_count": null,
   "id": "655b4e77",
   "metadata": {},
   "outputs": [],
   "source": [
    "# plot spatial typicality (no temporal subsets)\n",
    "EMOJI = '🧁'\n",
    "\n",
    "emojiname_us = emoji.demojize(str(EMOJI)).replace(\":\",\"\")\n",
    "emojiname = emojiname_us.replace(\"_\", \" \")\n",
    "emojiname = emojiname.title()\n",
    "\n",
    "#calculating frequency for total dataset     \n",
    "n_t = count[EMOJI]\n",
    "N_t = sum(count.values())\n",
    "F_t = n_t/N_t\n",
    "\n",
    "typ = pd.DataFrame(index = common_idx, columns = ['typicality'], data = '') #dummy dataframe to hold the typicality values\n",
    "\n",
    "for idx,midx in enumerate(common_idx): #looping through all the common indexes between the grids and dataframe\n",
    "    grid_typicality(gdf.loc[midx,\"emoji\"], common_idx[idx])\n",
    "\n",
    "geom = grid.loc[common_idx, \"geometry\"]\n",
    "typ_gdf = gp.GeoDataFrame(data = typ['typicality'], geometry =geom, crs = CRS_PROJ)\n",
    "\n",
    "base = grid.plot(figsize=(22,28), color='white', alpha=0)\n",
    "base.grid(False)\n",
    "# Hide axes ticks\n",
    "base.axes.xaxis.set_visible(False)\n",
    "base.axes.yaxis.set_visible(False)\n",
    "# combine with europe geometry\n",
    "countries_gdf.boundary.plot(ax=base, edgecolor='dimgray', linewidth=0.7, zorder=10) \n",
    "# add labels using adjust text\n",
    "for x, y, label in zip(country_labels.geometry.x, country_labels.geometry.y, country_labels[\"NAME_EN\"]):\n",
    "    texts.append(plt.text(x-100000, y, label.upper(), fontsize = 14, color=\"dimgray\", zorder=10))\n",
    "plot = typ_gdf.plot(ax=base, column = 'typicality', colormap=typ_cmap, alpha = 0.85, zorder=5)\n",
    "\n",
    "plt.title(\"Spatial Typicality of \" + emojiname + \" Emoji\", size =35)\n",
    "plt.grid(False)\n",
    "fig = plot.get_figure()\n",
    "fig.savefig(r\"C:\\Users\\saman\\OneDrive\\Documents\\Thesis\\Figures\\Emoji_Specific_Analysis\\plot_spatialtyp\\plot_spatialtyp_\" + emojiname_us + \".png\", dpi=300, bbox_inches = \"tight\")\n",
    "    "
   ]
  },
  {
   "cell_type": "code",
   "execution_count": null,
   "id": "ea8273e0",
   "metadata": {},
   "outputs": [],
   "source": [
    "golf = gdf[gdf['emoji'].str.contains('🏌️‍♂️')]\n",
    "most_common_hashtags(golf['hashtags'], 20)"
   ]
  },
  {
   "cell_type": "code",
   "execution_count": null,
   "id": "f750f9a1",
   "metadata": {},
   "outputs": [],
   "source": [
    "subset = df[df['emoji generic'].str.contains('🏌️‍♂️')]\n",
    "make_wordcloud(subset['hashtags'])"
   ]
  },
  {
   "cell_type": "markdown",
   "id": "0102f8b5",
   "metadata": {},
   "source": [
    "This emoji demonstrates a topical consistency of 89.8%. Posts with this emoji seem to relate to golf. Posts containing this emoji can reasonably be assumed to be discussing this topic."
   ]
  },
  {
   "cell_type": "code",
   "execution_count": null,
   "id": "ac5b1f43",
   "metadata": {},
   "outputs": [],
   "source": [
    "plot_count('🏌️‍♂️')"
   ]
  },
  {
   "cell_type": "code",
   "execution_count": null,
   "id": "394e6160",
   "metadata": {},
   "outputs": [],
   "source": [
    "plot_monthlytyp('🏌️‍♂️')"
   ]
  },
  {
   "cell_type": "code",
   "execution_count": null,
   "id": "b517d648",
   "metadata": {},
   "outputs": [],
   "source": [
    "# plot spatial typicality (no temporal subsets)\n",
    "EMOJI = '🏌️‍♂️'\n",
    "\n",
    "emojiname_us = emoji.demojize(str(EMOJI)).replace(\":\",\"\")\n",
    "emojiname = emojiname_us.replace(\"_\", \" \")\n",
    "emojiname = emojiname.title()\n",
    "\n",
    "#calculating frequency for total dataset     \n",
    "n_t = count[EMOJI]\n",
    "N_t = sum(count.values())\n",
    "F_t = n_t/N_t\n",
    "\n",
    "typ = pd.DataFrame(index = common_idx, columns = ['typicality'], data = '') #dummy dataframe to hold the typicality values\n",
    "\n",
    "for idx,midx in enumerate(common_idx): #looping through all the common indexes between the grids and dataframe\n",
    "    grid_typicality(gdf.loc[midx,\"emoji\"], common_idx[idx])\n",
    "\n",
    "geom = grid.loc[common_idx, \"geometry\"]\n",
    "typ_gdf = gp.GeoDataFrame(data = typ['typicality'], geometry =geom, crs = CRS_PROJ)\n",
    "\n",
    "base = grid.plot(figsize=(22,28), color='white', alpha=0)\n",
    "base.grid(False)\n",
    "# Hide axes ticks\n",
    "base.axes.xaxis.set_visible(False)\n",
    "base.axes.yaxis.set_visible(False)\n",
    "# combine with europe geometry\n",
    "countries_gdf.boundary.plot(ax=base, edgecolor='dimgray', linewidth=0.7, zorder=10) \n",
    "# add labels using adjust text\n",
    "for x, y, label in zip(country_labels.geometry.x, country_labels.geometry.y, country_labels[\"NAME_EN\"]):\n",
    "    texts.append(plt.text(x-100000, y, label.upper(), fontsize = 14, color=\"dimgray\", zorder=10))\n",
    "plot = typ_gdf.plot(ax=base, column = 'typicality', colormap=typ_cmap, alpha = 0.85, zorder=5)\n",
    "\n",
    "plt.title(\"Spatial Typicality of Man Golfing Emoji\", size =35)\n",
    "plt.grid(False)\n",
    "fig = plot.get_figure()\n",
    "fig.savefig(r\"C:\\Users\\saman\\OneDrive\\Documents\\Thesis\\Figures\\Emoji_Specific_Analysis\\plot_spatialtyp\\plot_spatialtyp_man-golfing.png\", dpi=300, bbox_inches = \"tight\")\n",
    "    "
   ]
  },
  {
   "cell_type": "markdown",
   "id": "b143dbf9",
   "metadata": {},
   "source": [
    "# Spain"
   ]
  },
  {
   "cell_type": "code",
   "execution_count": null,
   "id": "28370295",
   "metadata": {},
   "outputs": [],
   "source": [
    "Spain\n",
    "🕗 :eight_o’clock:    3.214485\n",
    "👩‍⚕️ :woman_health_worker:    2.661256\n",
    "🏥 :hospital:    2.175691"
   ]
  },
  {
   "cell_type": "code",
   "execution_count": null,
   "id": "321c4a8b",
   "metadata": {},
   "outputs": [],
   "source": [
    "eight = gdf[gdf['emoji'].str.contains('🕗')]\n",
    "most_common_hashtags(eight['hashtags'], 20)"
   ]
  },
  {
   "cell_type": "code",
   "execution_count": null,
   "id": "45952e15",
   "metadata": {},
   "outputs": [],
   "source": [
    "subset = df[df['emoji generic'].str.contains('🕗')]\n",
    "make_wordcloud(subset['hashtags'])"
   ]
  },
  {
   "cell_type": "markdown",
   "id": "02ca87b8",
   "metadata": {},
   "source": [
    "This emoji demonstrates a topical consistency of 78%. Posts with this emoji seem to relate to the concept of clapping for healthcare workers at 8pm each evening during the pandemic. "
   ]
  },
  {
   "cell_type": "code",
   "execution_count": null,
   "id": "1670b024",
   "metadata": {},
   "outputs": [],
   "source": [
    "plot_count('🕗')"
   ]
  },
  {
   "cell_type": "code",
   "execution_count": null,
   "id": "480bffc1",
   "metadata": {},
   "outputs": [],
   "source": [
    "plot_monthlytyp('🕗')"
   ]
  },
  {
   "cell_type": "code",
   "execution_count": null,
   "id": "cc38ba63",
   "metadata": {},
   "outputs": [],
   "source": [
    "# plot spatial typicality (no temporal subsets)\n",
    "EMOJI = '🕗'\n",
    "\n",
    "emojiname_us = emoji.demojize(str(EMOJI)).replace(\":\",\"\")\n",
    "emojiname = emojiname_us.replace(\"_\", \" \")\n",
    "emojiname = emojiname.title()\n",
    "\n",
    "#calculating frequency for total dataset     \n",
    "n_t = count[EMOJI]\n",
    "N_t = sum(count.values())\n",
    "F_t = n_t/N_t\n",
    "\n",
    "typ = pd.DataFrame(index = common_idx, columns = ['typicality'], data = '') #dummy dataframe to hold the typicality values\n",
    "\n",
    "for idx,midx in enumerate(common_idx): #looping through all the common indexes between the grids and dataframe\n",
    "    grid_typicality(gdf.loc[midx,\"emoji\"], common_idx[idx])\n",
    "\n",
    "geom = grid.loc[common_idx, \"geometry\"]\n",
    "typ_gdf = gp.GeoDataFrame(data = typ['typicality'], geometry =geom, crs = CRS_PROJ)\n",
    "\n",
    "base = grid.plot(figsize=(22,28), color='white', alpha=0)\n",
    "base.grid(False)\n",
    "# Hide axes ticks\n",
    "base.axes.xaxis.set_visible(False)\n",
    "base.axes.yaxis.set_visible(False)\n",
    "# combine with europe geometry\n",
    "countries_gdf.boundary.plot(ax=base, edgecolor='dimgray', linewidth=0.7, zorder=10) \n",
    "# add labels using adjust text\n",
    "for x, y, label in zip(country_labels.geometry.x, country_labels.geometry.y, country_labels[\"NAME_EN\"]):\n",
    "    texts.append(plt.text(x-100000, y, label.upper(), fontsize = 14, color=\"dimgray\", zorder=10))\n",
    "plot = typ_gdf.plot(ax=base, column = 'typicality', colormap=typ_cmap, alpha = 0.85, zorder=5)\n",
    "\n",
    "plt.title(\"Spatial Typicality of \" + emojiname + \" Emoji\", size =35)\n",
    "plt.grid(False)\n",
    "fig = plot.get_figure()\n",
    "fig.savefig(r\"C:\\Users\\saman\\OneDrive\\Documents\\Thesis\\Figures\\Emoji_Specific_Analysis\\plot_spatialtyp\\plot_spatialtyp_\" + emojiname_us + \".png\", dpi=300, bbox_inches = \"tight\")\n",
    "    "
   ]
  },
  {
   "cell_type": "code",
   "execution_count": null,
   "id": "d89eb0a2",
   "metadata": {},
   "outputs": [],
   "source": [
    "whw = gdf[gdf['emoji generic'].str.contains('👩‍⚕️')]\n",
    "most_common_hashtags(whw['hashtags'], 20)"
   ]
  },
  {
   "cell_type": "code",
   "execution_count": null,
   "id": "6512ff2d",
   "metadata": {},
   "outputs": [],
   "source": [
    "subset = df[df['emoji generic'].str.contains('👩‍⚕️')]\n",
    "make_wordcloud(subset['hashtags'])"
   ]
  },
  {
   "cell_type": "markdown",
   "id": "0d6ef8a6",
   "metadata": {},
   "source": [
    "This emoji demonstrates a topical consistency of 95.5%. Posts with this emoji seem to relate to appreciation for nurses during the pandemic. Posts containing this emoji can reasonably be assumed to be discussing this topic."
   ]
  },
  {
   "cell_type": "code",
   "execution_count": null,
   "id": "51f9b0f5",
   "metadata": {},
   "outputs": [],
   "source": [
    "plot_count('👩‍⚕️')"
   ]
  },
  {
   "cell_type": "code",
   "execution_count": null,
   "id": "52a04b0c",
   "metadata": {},
   "outputs": [],
   "source": [
    "plot_monthlytyp('👩‍⚕️')"
   ]
  },
  {
   "cell_type": "code",
   "execution_count": null,
   "id": "e728dcab",
   "metadata": {},
   "outputs": [],
   "source": [
    "# plot spatial typicality (no temporal subsets)\n",
    "EMOJI = '👩‍⚕️'\n",
    "\n",
    "emojiname_us = emoji.demojize(str(EMOJI)).replace(\":\",\"\")\n",
    "emojiname = emojiname_us.replace(\"_\", \" \")\n",
    "emojiname = emojiname.title()\n",
    "\n",
    "#calculating frequency for total dataset     \n",
    "n_t = count[EMOJI]\n",
    "N_t = sum(count.values())\n",
    "F_t = n_t/N_t\n",
    "\n",
    "typ = pd.DataFrame(index = common_idx, columns = ['typicality'], data = '') #dummy dataframe to hold the typicality values\n",
    "\n",
    "for idx,midx in enumerate(common_idx): #looping through all the common indexes between the grids and dataframe\n",
    "    grid_typicality(gdf.loc[midx,\"emoji\"], common_idx[idx])\n",
    "\n",
    "geom = grid.loc[common_idx, \"geometry\"]\n",
    "typ_gdf = gp.GeoDataFrame(data = typ['typicality'], geometry =geom, crs = CRS_PROJ)\n",
    "\n",
    "base = grid.plot(figsize=(22,28), color='white', alpha=0)\n",
    "base.grid(False)\n",
    "# Hide axes ticks\n",
    "base.axes.xaxis.set_visible(False)\n",
    "base.axes.yaxis.set_visible(False)\n",
    "# combine with europe geometry\n",
    "countries_gdf.boundary.plot(ax=base, edgecolor='dimgray', linewidth=0.7, zorder=10) \n",
    "# add labels using adjust text\n",
    "for x, y, label in zip(country_labels.geometry.x, country_labels.geometry.y, country_labels[\"NAME_EN\"]):\n",
    "    texts.append(plt.text(x-100000, y, label.upper(), fontsize = 14, color=\"dimgray\", zorder=10))\n",
    "plot = typ_gdf.plot(ax=base, column = 'typicality', colormap=typ_cmap, alpha = 0.85, zorder=5)\n",
    "\n",
    "plt.title(\"Spatial Typicality of \" + emojiname + \" Emoji\", size =35)\n",
    "plt.grid(False)\n",
    "fig = plot.get_figure()\n",
    "fig.savefig(r\"C:\\Users\\saman\\OneDrive\\Documents\\Thesis\\Figures\\Emoji_Specific_Analysis\\plot_spatialtyp\\plot_spatialtyp_\" + emojiname_us + \".png\", dpi=300, bbox_inches = \"tight\")\n",
    "    "
   ]
  },
  {
   "cell_type": "code",
   "execution_count": null,
   "id": "d64d9429",
   "metadata": {},
   "outputs": [],
   "source": [
    "hosp = gdf[gdf['emoji'].str.contains('🏥')]\n",
    "most_common_hashtags(hosp['hashtags'], 20)"
   ]
  },
  {
   "cell_type": "code",
   "execution_count": null,
   "id": "aac28534",
   "metadata": {},
   "outputs": [],
   "source": [
    "subset = df[df['emoji generic'].str.contains('🏥')]\n",
    "make_wordcloud(subset['hashtags'])"
   ]
  },
  {
   "cell_type": "markdown",
   "id": "7b4d0de0",
   "metadata": {},
   "source": [
    "This emoji demonstrates a topical consistency of 88%. Posts with this emoji seem to relate to covid-19. Posts containing this emoji can reasonably be assumed to be discussing this topic."
   ]
  },
  {
   "cell_type": "code",
   "execution_count": null,
   "id": "7f803aef",
   "metadata": {},
   "outputs": [],
   "source": [
    "plot_count('🏥')"
   ]
  },
  {
   "cell_type": "code",
   "execution_count": null,
   "id": "03a1c311",
   "metadata": {},
   "outputs": [],
   "source": [
    "plot_monthlytyp('🏥')"
   ]
  },
  {
   "cell_type": "code",
   "execution_count": null,
   "id": "234f2a79",
   "metadata": {},
   "outputs": [],
   "source": [
    "# plot spatial typicality (no temporal subsets)\n",
    "EMOJI = '🏥'\n",
    "\n",
    "emojiname_us = emoji.demojize(str(EMOJI)).replace(\":\",\"\")\n",
    "emojiname = emojiname_us.replace(\"_\", \" \")\n",
    "emojiname = emojiname.title()\n",
    "\n",
    "#calculating frequency for total dataset     \n",
    "n_t = count[EMOJI]\n",
    "N_t = sum(count.values())\n",
    "F_t = n_t/N_t\n",
    "\n",
    "typ = pd.DataFrame(index = common_idx, columns = ['typicality'], data = '') #dummy dataframe to hold the typicality values\n",
    "\n",
    "for idx,midx in enumerate(common_idx): #looping through all the common indexes between the grids and dataframe\n",
    "    grid_typicality(gdf.loc[midx,\"emoji\"], common_idx[idx])\n",
    "\n",
    "geom = grid.loc[common_idx, \"geometry\"]\n",
    "typ_gdf = gp.GeoDataFrame(data = typ['typicality'], geometry =geom, crs = CRS_PROJ)\n",
    "\n",
    "base = grid.plot(figsize=(22,28), color='white', alpha=0)\n",
    "base.grid(False)\n",
    "# Hide axes ticks\n",
    "base.axes.xaxis.set_visible(False)\n",
    "base.axes.yaxis.set_visible(False)\n",
    "# combine with europe geometry\n",
    "countries_gdf.boundary.plot(ax=base, edgecolor='dimgray', linewidth=0.7, zorder=10) \n",
    "# add labels using adjust text\n",
    "for x, y, label in zip(country_labels.geometry.x, country_labels.geometry.y, country_labels[\"NAME_EN\"]):\n",
    "    texts.append(plt.text(x-100000, y, label.upper(), fontsize = 14, color=\"dimgray\", zorder=10))\n",
    "plot = typ_gdf.plot(ax=base, column = 'typicality', colormap=typ_cmap, alpha = 0.85, zorder=5)\n",
    "\n",
    "plt.title(\"Spatial Typicality of \" + emojiname + \" Emoji\", size =35)\n",
    "plt.grid(False)\n",
    "fig = plot.get_figure()\n",
    "fig.savefig(r\"C:\\Users\\saman\\OneDrive\\Documents\\Thesis\\Figures\\Emoji_Specific_Analysis\\plot_spatialtyp\\plot_spatialtyp_\" + emojiname_us + \".png\", dpi=300, bbox_inches = \"tight\")\n",
    "    "
   ]
  },
  {
   "cell_type": "markdown",
   "id": "bdfddb7b",
   "metadata": {},
   "source": [
    "# France"
   ]
  },
  {
   "cell_type": "code",
   "execution_count": null,
   "id": "3e4fc402",
   "metadata": {},
   "outputs": [],
   "source": [
    "France\n",
    "🗳️ :ballot_box_with_ballot:    3.254025\n",
    "💬 :speech_balloon:    3.192003\n",
    "⤵️ :right_arrow_curving_down:    1.618778"
   ]
  },
  {
   "cell_type": "code",
   "execution_count": null,
   "id": "e6c5111b",
   "metadata": {},
   "outputs": [],
   "source": [
    "ballot = gdf[gdf['emoji'].str.contains('🗳️')]\n",
    "most_common_hashtags(ballot['hashtags'], 20)"
   ]
  },
  {
   "cell_type": "code",
   "execution_count": null,
   "id": "6b0da24c",
   "metadata": {},
   "outputs": [],
   "source": [
    "subset = df[df['emoji generic'].str.contains('🗳️')]\n",
    "make_wordcloud(subset['hashtags'])"
   ]
  },
  {
   "cell_type": "markdown",
   "id": "cb0c1f52",
   "metadata": {},
   "source": [
    "This emoji demonstrates a topical consistency of 72%. Posts with this emoji seem to relate to various elections across Europe. Posts containing this emoji can reasonably be assumed to be discussing this topic."
   ]
  },
  {
   "cell_type": "code",
   "execution_count": null,
   "id": "d8025212",
   "metadata": {},
   "outputs": [],
   "source": [
    "plot_count('🗳️')"
   ]
  },
  {
   "cell_type": "code",
   "execution_count": null,
   "id": "73a6e4f9",
   "metadata": {},
   "outputs": [],
   "source": [
    "plot_monthlytyp('🗳️')"
   ]
  },
  {
   "cell_type": "code",
   "execution_count": null,
   "id": "c655a25e",
   "metadata": {},
   "outputs": [],
   "source": [
    "# plot spatial typicality (no temporal subsets)\n",
    "EMOJI = '🗳️'\n",
    "\n",
    "emojiname_us = emoji.demojize(str(EMOJI)).replace(\":\",\"\")\n",
    "emojiname = emojiname_us.replace(\"_\", \" \")\n",
    "emojiname = emojiname.title()\n",
    "\n",
    "#calculating frequency for total dataset     \n",
    "n_t = count[EMOJI]\n",
    "N_t = sum(count.values())\n",
    "F_t = n_t/N_t\n",
    "\n",
    "typ = pd.DataFrame(index = common_idx, columns = ['typicality'], data = '') #dummy dataframe to hold the typicality values\n",
    "\n",
    "for idx,midx in enumerate(common_idx): #looping through all the common indexes between the grids and dataframe\n",
    "    grid_typicality(gdf.loc[midx,\"emoji\"], common_idx[idx])\n",
    "\n",
    "geom = grid.loc[common_idx, \"geometry\"]\n",
    "typ_gdf = gp.GeoDataFrame(data = typ['typicality'], geometry =geom, crs = CRS_PROJ)\n",
    "\n",
    "base = grid.plot(figsize=(22,28), color='white', alpha=0)\n",
    "base.grid(False)\n",
    "# Hide axes ticks\n",
    "base.axes.xaxis.set_visible(False)\n",
    "base.axes.yaxis.set_visible(False)\n",
    "# combine with europe geometry\n",
    "countries_gdf.boundary.plot(ax=base, edgecolor='dimgray', linewidth=0.7, zorder=10) \n",
    "# add labels using adjust text\n",
    "for x, y, label in zip(country_labels.geometry.x, country_labels.geometry.y, country_labels[\"NAME_EN\"]):\n",
    "    texts.append(plt.text(x-100000, y, label.upper(), fontsize = 14, color=\"dimgray\", zorder=10))\n",
    "plot = typ_gdf.plot(ax=base, column = 'typicality', colormap=typ_cmap, alpha = 0.85, zorder=5)\n",
    "\n",
    "plt.title(\"Spatial Typicality of \" + emojiname + \" Emoji\", size =35)\n",
    "plt.grid(False)\n",
    "fig = plot.get_figure()\n",
    "fig.savefig(r\"C:\\Users\\saman\\OneDrive\\Documents\\Thesis\\Figures\\Emoji_Specific_Analysis\\plot_spatialtyp\\plot_spatialtyp_\" + emojiname_us + \".png\", dpi=300, bbox_inches = \"tight\")\n",
    "    "
   ]
  },
  {
   "cell_type": "code",
   "execution_count": null,
   "id": "c0a6e957",
   "metadata": {},
   "outputs": [],
   "source": [
    "speech = gdf[gdf['emoji'].str.contains('💬')]\n",
    "most_common_hashtags(speech['hashtags'], 20)"
   ]
  },
  {
   "cell_type": "code",
   "execution_count": null,
   "id": "bd2821f3",
   "metadata": {},
   "outputs": [],
   "source": [
    "subset = df[df['emoji generic'].str.contains('💬')]\n",
    "make_wordcloud(subset['hashtags'])"
   ]
  },
  {
   "cell_type": "markdown",
   "id": "34904f4f",
   "metadata": {},
   "source": [
    "This emoji demonstrates a topical consistency of 27%. Posts with this emoji don't seem to have a topic in common. "
   ]
  },
  {
   "cell_type": "code",
   "execution_count": null,
   "id": "1ac51046",
   "metadata": {},
   "outputs": [],
   "source": [
    "plot_count('💬')"
   ]
  },
  {
   "cell_type": "code",
   "execution_count": null,
   "id": "66c02a1c",
   "metadata": {},
   "outputs": [],
   "source": [
    "plot_monthlytyp('💬')"
   ]
  },
  {
   "cell_type": "code",
   "execution_count": null,
   "id": "67f7fd08",
   "metadata": {},
   "outputs": [],
   "source": [
    "# plot spatial typicality (no temporal subsets)\n",
    "EMOJI = '💬'\n",
    "\n",
    "emojiname_us = emoji.demojize(str(EMOJI)).replace(\":\",\"\")\n",
    "emojiname = emojiname_us.replace(\"_\", \" \")\n",
    "emojiname = emojiname.title()\n",
    "\n",
    "#calculating frequency for total dataset     \n",
    "n_t = count[EMOJI]\n",
    "N_t = sum(count.values())\n",
    "F_t = n_t/N_t\n",
    "\n",
    "typ = pd.DataFrame(index = common_idx, columns = ['typicality'], data = '') #dummy dataframe to hold the typicality values\n",
    "\n",
    "for idx,midx in enumerate(common_idx): #looping through all the common indexes between the grids and dataframe\n",
    "    grid_typicality(gdf.loc[midx,\"emoji\"], common_idx[idx])\n",
    "\n",
    "geom = grid.loc[common_idx, \"geometry\"]\n",
    "typ_gdf = gp.GeoDataFrame(data = typ['typicality'], geometry =geom, crs = CRS_PROJ)\n",
    "\n",
    "base = grid.plot(figsize=(22,28), color='white', alpha=0)\n",
    "base.grid(False)\n",
    "# Hide axes ticks\n",
    "base.axes.xaxis.set_visible(False)\n",
    "base.axes.yaxis.set_visible(False)\n",
    "# combine with europe geometry\n",
    "countries_gdf.boundary.plot(ax=base, edgecolor='dimgray', linewidth=0.7, zorder=10) \n",
    "# add labels using adjust text\n",
    "for x, y, label in zip(country_labels.geometry.x, country_labels.geometry.y, country_labels[\"NAME_EN\"]):\n",
    "    texts.append(plt.text(x-100000, y, label.upper(), fontsize = 14, color=\"dimgray\", zorder=10))\n",
    "plot = typ_gdf.plot(ax=base, column = 'typicality', colormap=typ_cmap, alpha = 0.85, zorder=5)\n",
    "\n",
    "plt.title(\"Spatial Typicality of \" + emojiname + \" Emoji\", size =35)\n",
    "plt.grid(False)\n",
    "fig = plot.get_figure()\n",
    "fig.savefig(r\"C:\\Users\\saman\\OneDrive\\Documents\\Thesis\\Figures\\Emoji_Specific_Analysis\\plot_spatialtyp\\plot_spatialtyp_\" + emojiname_us + \".png\", dpi=300, bbox_inches = \"tight\")\n",
    "    "
   ]
  },
  {
   "cell_type": "code",
   "execution_count": null,
   "id": "17e75723",
   "metadata": {},
   "outputs": [],
   "source": [
    "racd = gdf[gdf['emoji'].str.contains('⤵️')]\n",
    "most_common_hashtags(racd['hashtags'], 20)"
   ]
  },
  {
   "cell_type": "code",
   "execution_count": null,
   "id": "b38244ac",
   "metadata": {},
   "outputs": [],
   "source": [
    "subset = df[df['emoji generic'].str.contains('⤵️')]\n",
    "make_wordcloud(subset['hashtags'])"
   ]
  },
  {
   "cell_type": "markdown",
   "id": "48552c9a",
   "metadata": {},
   "source": [
    "This emoji demonstrates a topical consistency of 34%. Posts with this emoji don't seem to have topics in common."
   ]
  },
  {
   "cell_type": "code",
   "execution_count": null,
   "id": "133ead0f",
   "metadata": {},
   "outputs": [],
   "source": [
    "plot_count('⤵️')"
   ]
  },
  {
   "cell_type": "code",
   "execution_count": null,
   "id": "6b7f435d",
   "metadata": {
    "scrolled": true
   },
   "outputs": [],
   "source": [
    "plot_monthlytyp('⤵️')"
   ]
  },
  {
   "cell_type": "code",
   "execution_count": null,
   "id": "e195b14a",
   "metadata": {},
   "outputs": [],
   "source": [
    "# plot spatial typicality (no temporal subsets)\n",
    "EMOJI = '⤵️'\n",
    "\n",
    "emojiname_us = emoji.demojize(str(EMOJI)).replace(\":\",\"\")\n",
    "emojiname = emojiname_us.replace(\"_\", \" \")\n",
    "emojiname = emojiname.title()\n",
    "\n",
    "#calculating frequency for total dataset     \n",
    "n_t = count[EMOJI]\n",
    "N_t = sum(count.values())\n",
    "F_t = n_t/N_t\n",
    "\n",
    "typ = pd.DataFrame(index = common_idx, columns = ['typicality'], data = '') #dummy dataframe to hold the typicality values\n",
    "\n",
    "for idx,midx in enumerate(common_idx): #looping through all the common indexes between the grids and dataframe\n",
    "    grid_typicality(gdf.loc[midx,\"emoji\"], common_idx[idx])\n",
    "\n",
    "geom = grid.loc[common_idx, \"geometry\"]\n",
    "typ_gdf = gp.GeoDataFrame(data = typ['typicality'], geometry =geom, crs = CRS_PROJ)\n",
    "\n",
    "base = grid.plot(figsize=(22,28), color='white', alpha=0)\n",
    "base.grid(False)\n",
    "# Hide axes ticks\n",
    "base.axes.xaxis.set_visible(False)\n",
    "base.axes.yaxis.set_visible(False)\n",
    "# combine with europe geometry\n",
    "countries_gdf.boundary.plot(ax=base, edgecolor='dimgray', linewidth=0.7, zorder=10) \n",
    "# add labels using adjust text\n",
    "for x, y, label in zip(country_labels.geometry.x, country_labels.geometry.y, country_labels[\"NAME_EN\"]):\n",
    "    texts.append(plt.text(x-100000, y, label.upper(), fontsize = 14, color=\"dimgray\", zorder=10))\n",
    "plot = typ_gdf.plot(ax=base, column = 'typicality', colormap=typ_cmap, alpha = 0.85, zorder=5)\n",
    "\n",
    "plt.title(\"Spatial Typicality of \" + emojiname + \" Emoji\", size =35)\n",
    "plt.grid(False)\n",
    "fig = plot.get_figure()\n",
    "fig.savefig(r\"C:\\Users\\saman\\OneDrive\\Documents\\Thesis\\Figures\\Emoji_Specific_Analysis\\plot_spatialtyp\\plot_spatialtyp_\" + emojiname_us + \".png\", dpi=300, bbox_inches = \"tight\")\n",
    "    "
   ]
  },
  {
   "cell_type": "markdown",
   "id": "4eb3491e",
   "metadata": {},
   "source": [
    "# Germany"
   ]
  },
  {
   "cell_type": "code",
   "execution_count": null,
   "id": "43ff5242",
   "metadata": {},
   "outputs": [],
   "source": [
    "🤮 :face_vomiting:    1.416614\n",
    "☝️ :index_pointing_up:    1.327176\n",
    "🤓 :nerd_face:    0.869367"
   ]
  },
  {
   "cell_type": "code",
   "execution_count": null,
   "id": "922d4c74",
   "metadata": {},
   "outputs": [],
   "source": [
    "vom = gdf[gdf['emoji'].str.contains('🤮')]\n",
    "most_common_hashtags(vom['hashtags'], 20)"
   ]
  },
  {
   "cell_type": "code",
   "execution_count": null,
   "id": "53f78a9f",
   "metadata": {},
   "outputs": [],
   "source": [
    "subset = df[df['emoji generic'].str.contains('🤮')]\n",
    "make_wordcloud(subset['hashtags'])"
   ]
  },
  {
   "cell_type": "markdown",
   "id": "4770442c",
   "metadata": {},
   "source": [
    "This emoji demonstrates a topical consistency of 24%. Posts with this emoji don't seem to have topics in common."
   ]
  },
  {
   "cell_type": "code",
   "execution_count": null,
   "id": "ff22497a",
   "metadata": {},
   "outputs": [],
   "source": [
    "plot_count('🤮')"
   ]
  },
  {
   "cell_type": "code",
   "execution_count": null,
   "id": "259b24dc",
   "metadata": {},
   "outputs": [],
   "source": [
    "plot_monthlytyp('🤮')"
   ]
  },
  {
   "cell_type": "code",
   "execution_count": null,
   "id": "4948158d",
   "metadata": {},
   "outputs": [],
   "source": [
    "# plot spatial typicality (no temporal subsets)\n",
    "EMOJI = '🤮'\n",
    "\n",
    "emojiname_us = emoji.demojize(str(EMOJI)).replace(\":\",\"\")\n",
    "emojiname = emojiname_us.replace(\"_\", \" \")\n",
    "emojiname = emojiname.title()\n",
    "\n",
    "#calculating frequency for total dataset     \n",
    "n_t = count[EMOJI]\n",
    "N_t = sum(count.values())\n",
    "F_t = n_t/N_t\n",
    "\n",
    "typ = pd.DataFrame(index = common_idx, columns = ['typicality'], data = '') #dummy dataframe to hold the typicality values\n",
    "\n",
    "for idx,midx in enumerate(common_idx): #looping through all the common indexes between the grids and dataframe\n",
    "    grid_typicality(gdf.loc[midx,\"emoji\"], common_idx[idx])\n",
    "\n",
    "geom = grid.loc[common_idx, \"geometry\"]\n",
    "typ_gdf = gp.GeoDataFrame(data = typ['typicality'], geometry =geom, crs = CRS_PROJ)\n",
    "\n",
    "base = grid.plot(figsize=(22,28), color='white', alpha=0)\n",
    "base.grid(False)\n",
    "# Hide axes ticks\n",
    "base.axes.xaxis.set_visible(False)\n",
    "base.axes.yaxis.set_visible(False)\n",
    "# combine with europe geometry\n",
    "countries_gdf.boundary.plot(ax=base, edgecolor='dimgray', linewidth=0.7, zorder=10) \n",
    "# add labels using adjust text\n",
    "for x, y, label in zip(country_labels.geometry.x, country_labels.geometry.y, country_labels[\"NAME_EN\"]):\n",
    "    texts.append(plt.text(x-100000, y, label.upper(), fontsize = 14, color=\"dimgray\", zorder=10))\n",
    "plot = typ_gdf.plot(ax=base, column = 'typicality', colormap=typ_cmap, alpha = 0.85, zorder=5)\n",
    "\n",
    "plt.title(\"Spatial Typicality of \" + emojiname + \" Emoji\", size =35)\n",
    "plt.grid(False)\n",
    "fig = plot.get_figure()\n",
    "fig.savefig(r\"C:\\Users\\saman\\OneDrive\\Documents\\Thesis\\Figures\\Emoji_Specific_Analysis\\plot_spatialtyp\\plot_spatialtyp_\" + emojiname_us + \".png\", dpi=300, bbox_inches = \"tight\")\n",
    "    "
   ]
  },
  {
   "cell_type": "code",
   "execution_count": null,
   "id": "3d770c78",
   "metadata": {},
   "outputs": [],
   "source": [
    "ipu = gdf[gdf['emoji'].str.contains('☝️')]\n",
    "most_common_hashtags(ipu['hashtags'], 20)"
   ]
  },
  {
   "cell_type": "code",
   "execution_count": null,
   "id": "a9690b7a",
   "metadata": {},
   "outputs": [],
   "source": [
    "subset = df[df['emoji generic'].str.contains('☝️')]\n",
    "make_wordcloud(subset['hashtags'])"
   ]
  },
  {
   "cell_type": "markdown",
   "id": "39aeb74f",
   "metadata": {},
   "source": [
    "This emoji demonstrates a topical consistency of 33%. Posts with this emoji don't seem to have topics in common."
   ]
  },
  {
   "cell_type": "code",
   "execution_count": null,
   "id": "8a4170f9",
   "metadata": {},
   "outputs": [],
   "source": [
    "plot_count('☝️')"
   ]
  },
  {
   "cell_type": "code",
   "execution_count": null,
   "id": "25ffc318",
   "metadata": {},
   "outputs": [],
   "source": [
    "plot_monthlytyp('☝️')"
   ]
  },
  {
   "cell_type": "code",
   "execution_count": null,
   "id": "d2588616",
   "metadata": {},
   "outputs": [],
   "source": [
    "# plot spatial typicality (no temporal subsets)\n",
    "EMOJI = '☝️'\n",
    "\n",
    "emojiname_us = emoji.demojize(str(EMOJI)).replace(\":\",\"\")\n",
    "emojiname = emojiname_us.replace(\"_\", \" \")\n",
    "emojiname = emojiname.title()\n",
    "\n",
    "#calculating frequency for total dataset     \n",
    "n_t = count[EMOJI]\n",
    "N_t = sum(count.values())\n",
    "F_t = n_t/N_t\n",
    "\n",
    "typ = pd.DataFrame(index = common_idx, columns = ['typicality'], data = '') #dummy dataframe to hold the typicality values\n",
    "\n",
    "for idx,midx in enumerate(common_idx): #looping through all the common indexes between the grids and dataframe\n",
    "    grid_typicality(gdf.loc[midx,\"emoji\"], common_idx[idx])\n",
    "\n",
    "geom = grid.loc[common_idx, \"geometry\"]\n",
    "typ_gdf = gp.GeoDataFrame(data = typ['typicality'], geometry =geom, crs = CRS_PROJ)\n",
    "\n",
    "base = grid.plot(figsize=(22,28), color='white', alpha=0)\n",
    "base.grid(False)\n",
    "# Hide axes ticks\n",
    "base.axes.xaxis.set_visible(False)\n",
    "base.axes.yaxis.set_visible(False)\n",
    "# combine with europe geometry\n",
    "countries_gdf.boundary.plot(ax=base, edgecolor='dimgray', linewidth=0.7, zorder=10) \n",
    "# add labels using adjust text\n",
    "for x, y, label in zip(country_labels.geometry.x, country_labels.geometry.y, country_labels[\"NAME_EN\"]):\n",
    "    texts.append(plt.text(x-100000, y, label.upper(), fontsize = 14, color=\"dimgray\", zorder=10))\n",
    "plot = typ_gdf.plot(ax=base, column = 'typicality', colormap=typ_cmap, alpha = 0.85, zorder=5)\n",
    "\n",
    "plt.title(\"Spatial Typicality of \" + emojiname + \" Emoji\", size =35)\n",
    "plt.grid(False)\n",
    "fig = plot.get_figure()\n",
    "fig.savefig(r\"C:\\Users\\saman\\OneDrive\\Documents\\Thesis\\Figures\\Emoji_Specific_Analysis\\plot_spatialtyp\\plot_spatialtyp_\" + emojiname_us + \".png\", dpi=300, bbox_inches = \"tight\")\n",
    "    "
   ]
  },
  {
   "cell_type": "code",
   "execution_count": null,
   "id": "0bcd85c7",
   "metadata": {},
   "outputs": [],
   "source": [
    "nerd = gdf[gdf['emoji'].str.contains('🤓')]\n",
    "most_common_hashtags(nerd['hashtags'], 20)"
   ]
  },
  {
   "cell_type": "code",
   "execution_count": null,
   "id": "9b66aace",
   "metadata": {},
   "outputs": [],
   "source": [
    "subset = df[df['emoji generic'].str.contains('🤓')]\n",
    "make_wordcloud(subset['hashtags'])"
   ]
  },
  {
   "cell_type": "markdown",
   "id": "4c57c2bc",
   "metadata": {},
   "source": [
    "This emoji demonstrates a topical consistency of 55%. Posts with this emoji seem to discuss topics considered \"nerdy\", like reading and playing video games."
   ]
  },
  {
   "cell_type": "code",
   "execution_count": null,
   "id": "01b4f651",
   "metadata": {
    "scrolled": true
   },
   "outputs": [],
   "source": [
    "plot_count('🤓')"
   ]
  },
  {
   "cell_type": "code",
   "execution_count": null,
   "id": "c8a21ab4",
   "metadata": {},
   "outputs": [],
   "source": [
    "plot_monthlytyp('🤓')"
   ]
  },
  {
   "cell_type": "code",
   "execution_count": null,
   "id": "ba45e180",
   "metadata": {},
   "outputs": [],
   "source": [
    "# plot spatial typicality (no temporal subsets)\n",
    "EMOJI = '🤓'\n",
    "\n",
    "emojiname_us = emoji.demojize(str(EMOJI)).replace(\":\",\"\")\n",
    "emojiname = emojiname_us.replace(\"_\", \" \")\n",
    "emojiname = emojiname.title()\n",
    "\n",
    "#calculating frequency for total dataset     \n",
    "n_t = count[EMOJI]\n",
    "N_t = sum(count.values())\n",
    "F_t = n_t/N_t\n",
    "\n",
    "typ = pd.DataFrame(index = common_idx, columns = ['typicality'], data = '') #dummy dataframe to hold the typicality values\n",
    "\n",
    "for idx,midx in enumerate(common_idx): #looping through all the common indexes between the grids and dataframe\n",
    "    grid_typicality(gdf.loc[midx,\"emoji\"], common_idx[idx])\n",
    "\n",
    "geom = grid.loc[common_idx, \"geometry\"]\n",
    "typ_gdf = gp.GeoDataFrame(data = typ['typicality'], geometry =geom, crs = CRS_PROJ)\n",
    "\n",
    "base = grid.plot(figsize=(22,28), color='white', alpha=0)\n",
    "base.grid(False)\n",
    "# Hide axes ticks\n",
    "base.axes.xaxis.set_visible(False)\n",
    "base.axes.yaxis.set_visible(False)\n",
    "# combine with europe geometry\n",
    "countries_gdf.boundary.plot(ax=base, edgecolor='dimgray', linewidth=0.7, zorder=10) \n",
    "# add labels using adjust text\n",
    "for x, y, label in zip(country_labels.geometry.x, country_labels.geometry.y, country_labels[\"NAME_EN\"]):\n",
    "    texts.append(plt.text(x-100000, y, label.upper(), fontsize = 14, color=\"dimgray\", zorder=10))\n",
    "plot = typ_gdf.plot(ax=base, column = 'typicality', colormap=typ_cmap, alpha = 0.85, zorder=5)\n",
    "\n",
    "plt.title(\"Spatial Typicality of \" + emojiname + \" Emoji\", size =35)\n",
    "plt.grid(False)\n",
    "fig = plot.get_figure()\n",
    "fig.savefig(r\"C:\\Users\\saman\\OneDrive\\Documents\\Thesis\\Figures\\Emoji_Specific_Analysis\\plot_spatialtyp\\plot_spatialtyp_\" + emojiname_us + \".png\", dpi=300, bbox_inches = \"tight\")\n",
    "    "
   ]
  },
  {
   "cell_type": "markdown",
   "id": "a1879cb7",
   "metadata": {},
   "source": [
    "# Italy"
   ]
  },
  {
   "cell_type": "code",
   "execution_count": null,
   "id": "65d947fe",
   "metadata": {},
   "outputs": [],
   "source": [
    "💣 :bomb:    1.484113\n",
    "🤡 :clown_face:    1.071201\n",
    "💎 :gem_stone:    0.807681"
   ]
  },
  {
   "cell_type": "code",
   "execution_count": null,
   "id": "3e066acd",
   "metadata": {},
   "outputs": [],
   "source": [
    "bomb = gdf[gdf['emoji'].str.contains('💣')]\n",
    "print(most_common_hashtags(bomb['hashtags'], 20))\n",
    "\n",
    "plot_count('💣')\n",
    "\n",
    "plot_monthlytyp('💣')"
   ]
  },
  {
   "cell_type": "code",
   "execution_count": null,
   "id": "46df1df4",
   "metadata": {},
   "outputs": [],
   "source": [
    "subset = df[df['emoji generic'].str.contains('💣')]\n",
    "make_wordcloud(subset['hashtags'])"
   ]
  },
  {
   "cell_type": "markdown",
   "id": "bf3962c1",
   "metadata": {},
   "source": [
    "This emoji demonstrates a topical consistency of 72%. Posts with this emoji seem to discuss electronic music."
   ]
  },
  {
   "cell_type": "code",
   "execution_count": null,
   "id": "4f072d5d",
   "metadata": {},
   "outputs": [],
   "source": [
    "# plot spatial typicality (no temporal subsets)\n",
    "EMOJI = '💣'\n",
    "\n",
    "emojiname_us = emoji.demojize(str(EMOJI)).replace(\":\",\"\")\n",
    "emojiname = emojiname_us.replace(\"_\", \" \")\n",
    "emojiname = emojiname.title()\n",
    "\n",
    "#calculating frequency for total dataset     \n",
    "n_t = count[EMOJI]\n",
    "N_t = sum(count.values())\n",
    "F_t = n_t/N_t\n",
    "\n",
    "typ = pd.DataFrame(index = common_idx, columns = ['typicality'], data = '') #dummy dataframe to hold the typicality values\n",
    "\n",
    "for idx,midx in enumerate(common_idx): #looping through all the common indexes between the grids and dataframe\n",
    "    grid_typicality(gdf.loc[midx,\"emoji\"], common_idx[idx])\n",
    "\n",
    "geom = grid.loc[common_idx, \"geometry\"]\n",
    "typ_gdf = gp.GeoDataFrame(data = typ['typicality'], geometry =geom, crs = CRS_PROJ)\n",
    "\n",
    "base = grid.plot(figsize=(22,28), color='white', alpha=0)\n",
    "base.grid(False)\n",
    "# Hide axes ticks\n",
    "base.axes.xaxis.set_visible(False)\n",
    "base.axes.yaxis.set_visible(False)\n",
    "# combine with europe geometry\n",
    "countries_gdf.boundary.plot(ax=base, edgecolor='dimgray', linewidth=0.7, zorder=10) \n",
    "# add labels using adjust text\n",
    "for x, y, label in zip(country_labels.geometry.x, country_labels.geometry.y, country_labels[\"NAME_EN\"]):\n",
    "    texts.append(plt.text(x-100000, y, label.upper(), fontsize = 14, color=\"dimgray\", zorder=10))\n",
    "plot = typ_gdf.plot(ax=base, column = 'typicality', colormap=typ_cmap, alpha = 0.85, zorder=5)\n",
    "\n",
    "plt.title(\"Spatial Typicality of \" + emojiname + \" Emoji\", size =35)\n",
    "plt.grid(False)\n",
    "fig = plot.get_figure()\n",
    "fig.savefig(r\"C:\\Users\\saman\\OneDrive\\Documents\\Thesis\\Figures\\Emoji_Specific_Analysis\\plot_spatialtyp\\plot_spatialtyp_\" + emojiname_us + \".png\", dpi=300, bbox_inches = \"tight\")\n",
    "    "
   ]
  },
  {
   "cell_type": "code",
   "execution_count": null,
   "id": "a0cf3d96",
   "metadata": {},
   "outputs": [],
   "source": [
    "clown = gdf[gdf['emoji'].str.contains('🤡')]\n",
    "print(most_common_hashtags(clown['hashtags'], 20))\n",
    "\n",
    "plot_count('🤡')\n",
    "\n",
    "plot_monthlytyp('🤡')"
   ]
  },
  {
   "cell_type": "code",
   "execution_count": null,
   "id": "e40a6819",
   "metadata": {},
   "outputs": [],
   "source": [
    "subset = df[df['emoji generic'].str.contains('🤡')]\n",
    "make_wordcloud(subset['hashtags'])"
   ]
  },
  {
   "cell_type": "markdown",
   "id": "87302dd1",
   "metadata": {},
   "source": [
    "This emoji demonstrates a topical consistency of 18%. Posts with this emoji don't seem to discuss common topics. "
   ]
  },
  {
   "cell_type": "code",
   "execution_count": null,
   "id": "9e75dfa5",
   "metadata": {},
   "outputs": [],
   "source": [
    "# plot spatial typicality (no temporal subsets)\n",
    "EMOJI = '🤡'\n",
    "\n",
    "emojiname_us = emoji.demojize(str(EMOJI)).replace(\":\",\"\")\n",
    "emojiname = emojiname_us.replace(\"_\", \" \")\n",
    "emojiname = emojiname.title()\n",
    "\n",
    "#calculating frequency for total dataset     \n",
    "n_t = count[EMOJI]\n",
    "N_t = sum(count.values())\n",
    "F_t = n_t/N_t\n",
    "\n",
    "typ = pd.DataFrame(index = common_idx, columns = ['typicality'], data = '') #dummy dataframe to hold the typicality values\n",
    "\n",
    "for idx,midx in enumerate(common_idx): #looping through all the common indexes between the grids and dataframe\n",
    "    grid_typicality(gdf.loc[midx,\"emoji\"], common_idx[idx])\n",
    "\n",
    "geom = grid.loc[common_idx, \"geometry\"]\n",
    "typ_gdf = gp.GeoDataFrame(data = typ['typicality'], geometry =geom, crs = CRS_PROJ)\n",
    "\n",
    "base = grid.plot(figsize=(22,28), color='white', alpha=0)\n",
    "base.grid(False)\n",
    "# Hide axes ticks\n",
    "base.axes.xaxis.set_visible(False)\n",
    "base.axes.yaxis.set_visible(False)\n",
    "# combine with europe geometry\n",
    "countries_gdf.boundary.plot(ax=base, edgecolor='dimgray', linewidth=0.7, zorder=10) \n",
    "# add labels using adjust text\n",
    "for x, y, label in zip(country_labels.geometry.x, country_labels.geometry.y, country_labels[\"NAME_EN\"]):\n",
    "    texts.append(plt.text(x-100000, y, label.upper(), fontsize = 14, color=\"dimgray\", zorder=10))\n",
    "plot = typ_gdf.plot(ax=base, column = 'typicality', colormap=typ_cmap, alpha = 0.85, zorder=5)\n",
    "\n",
    "plt.title(\"Spatial Typicality of \" + emojiname + \" Emoji\", size =35)\n",
    "plt.grid(False)\n",
    "fig = plot.get_figure()\n",
    "fig.savefig(r\"C:\\Users\\saman\\OneDrive\\Documents\\Thesis\\Figures\\Emoji_Specific_Analysis\\plot_spatialtyp\\plot_spatialtyp_\" + emojiname_us + \".png\", dpi=300, bbox_inches = \"tight\")\n",
    "    "
   ]
  },
  {
   "cell_type": "code",
   "execution_count": null,
   "id": "fb7690be",
   "metadata": {},
   "outputs": [],
   "source": [
    "gem = gdf[gdf['emoji'].str.contains('💎')]\n",
    "print(most_common_hashtags(gem['hashtags'], 20))\n",
    "\n",
    "plot_count('💎')\n",
    "\n",
    "plot_monthlytyp('💎')"
   ]
  },
  {
   "cell_type": "code",
   "execution_count": null,
   "id": "fba78ff5",
   "metadata": {},
   "outputs": [],
   "source": [
    "subset = df[df['emoji generic'].str.contains('💎')]\n",
    "make_wordcloud(subset['hashtags'])"
   ]
  },
  {
   "cell_type": "markdown",
   "id": "7776719b",
   "metadata": {},
   "source": [
    "This emoji demonstrates a topical consistency of 56.5%. Posts with this emoji seem to discuss jewlery."
   ]
  },
  {
   "cell_type": "code",
   "execution_count": null,
   "id": "9920c607",
   "metadata": {},
   "outputs": [],
   "source": [
    "# plot spatial typicality (no temporal subsets)\n",
    "EMOJI = '💎'\n",
    "\n",
    "emojiname_us = emoji.demojize(str(EMOJI)).replace(\":\",\"\")\n",
    "emojiname = emojiname_us.replace(\"_\", \" \")\n",
    "emojiname = emojiname.title()\n",
    "\n",
    "#calculating frequency for total dataset     \n",
    "n_t = count[EMOJI]\n",
    "N_t = sum(count.values())\n",
    "F_t = n_t/N_t\n",
    "\n",
    "typ = pd.DataFrame(index = common_idx, columns = ['typicality'], data = '') #dummy dataframe to hold the typicality values\n",
    "\n",
    "for idx,midx in enumerate(common_idx): #looping through all the common indexes between the grids and dataframe\n",
    "    grid_typicality(gdf.loc[midx,\"emoji\"], common_idx[idx])\n",
    "\n",
    "geom = grid.loc[common_idx, \"geometry\"]\n",
    "typ_gdf = gp.GeoDataFrame(data = typ['typicality'], geometry =geom, crs = CRS_PROJ)\n",
    "\n",
    "base = grid.plot(figsize=(22,28), color='white', alpha=0)\n",
    "base.grid(False)\n",
    "# Hide axes ticks\n",
    "base.axes.xaxis.set_visible(False)\n",
    "base.axes.yaxis.set_visible(False)\n",
    "# combine with europe geometry\n",
    "countries_gdf.boundary.plot(ax=base, edgecolor='dimgray', linewidth=0.7, zorder=10) \n",
    "# add labels using adjust text\n",
    "for x, y, label in zip(country_labels.geometry.x, country_labels.geometry.y, country_labels[\"NAME_EN\"]):\n",
    "    texts.append(plt.text(x-100000, y, label.upper(), fontsize = 14, color=\"dimgray\", zorder=10))\n",
    "plot = typ_gdf.plot(ax=base, column = 'typicality', colormap=typ_cmap, alpha = 0.85, zorder=5)\n",
    "\n",
    "plt.title(\"Spatial Typicality of \" + emojiname + \" Emoji\", size =35)\n",
    "plt.grid(False)\n",
    "fig = plot.get_figure()\n",
    "fig.savefig(r\"C:\\Users\\saman\\OneDrive\\Documents\\Thesis\\Figures\\Emoji_Specific_Analysis\\plot_spatialtyp\\plot_spatialtyp_\" + emojiname_us + \".png\", dpi=300, bbox_inches = \"tight\")\n",
    "    "
   ]
  },
  {
   "cell_type": "markdown",
   "id": "4209db7e",
   "metadata": {},
   "source": [
    "# Turkey"
   ]
  },
  {
   "cell_type": "markdown",
   "id": "c49266ba",
   "metadata": {},
   "source": [
    "👄 :mouth:    3.235072\n",
    "🔞 :no_one_under_eighteen:    3.066475\n",
    "🎀 :ribbon:    2.975887"
   ]
  },
  {
   "cell_type": "code",
   "execution_count": null,
   "id": "98d95ea6",
   "metadata": {},
   "outputs": [],
   "source": [
    "mouth = gdf[gdf['emoji'].str.contains('👄')]\n",
    "print(most_common_hashtags(mouth['hashtags'], 20))\n",
    "\n",
    "plot_count('👄')\n",
    "\n",
    "plot_monthlytyp('👄')"
   ]
  },
  {
   "cell_type": "code",
   "execution_count": null,
   "id": "ed224e2a",
   "metadata": {},
   "outputs": [],
   "source": [
    "subset = df[df['emoji generic'].str.contains('👄')]\n",
    "make_wordcloud(subset['hashtags'])"
   ]
  },
  {
   "cell_type": "markdown",
   "id": "4cbe5526",
   "metadata": {},
   "source": [
    "This emoji demonstrates a topical consistency of 2%. Posts with this emoji don't seem to discuss similar topics. Many of the hashtags associated with this emoji are names of Turkish cities."
   ]
  },
  {
   "cell_type": "code",
   "execution_count": null,
   "id": "f22ac3dd",
   "metadata": {},
   "outputs": [],
   "source": [
    "# plot spatial typicality (no temporal subsets)\n",
    "EMOJI = '👄'\n",
    "\n",
    "emojiname_us = emoji.demojize(str(EMOJI)).replace(\":\",\"\")\n",
    "emojiname = emojiname_us.replace(\"_\", \" \")\n",
    "emojiname = emojiname.title()\n",
    "\n",
    "#calculating frequency for total dataset     \n",
    "n_t = count[EMOJI]\n",
    "N_t = sum(count.values())\n",
    "F_t = n_t/N_t\n",
    "\n",
    "typ = pd.DataFrame(index = common_idx, columns = ['typicality'], data = '') #dummy dataframe to hold the typicality values\n",
    "\n",
    "for idx,midx in enumerate(common_idx): #looping through all the common indexes between the grids and dataframe\n",
    "    grid_typicality(gdf.loc[midx,\"emoji\"], common_idx[idx])\n",
    "\n",
    "geom = grid.loc[common_idx, \"geometry\"]\n",
    "typ_gdf = gp.GeoDataFrame(data = typ['typicality'], geometry =geom, crs = CRS_PROJ)\n",
    "\n",
    "base = grid.plot(figsize=(22,28), color='white', alpha=0)\n",
    "base.grid(False)\n",
    "# Hide axes ticks\n",
    "base.axes.xaxis.set_visible(False)\n",
    "base.axes.yaxis.set_visible(False)\n",
    "# combine with europe geometry\n",
    "countries_gdf.boundary.plot(ax=base, edgecolor='dimgray', linewidth=0.7, zorder=10) \n",
    "# add labels using adjust text\n",
    "for x, y, label in zip(country_labels.geometry.x, country_labels.geometry.y, country_labels[\"NAME_EN\"]):\n",
    "    texts.append(plt.text(x-100000, y, label.upper(), fontsize = 14, color=\"dimgray\", zorder=10))\n",
    "plot = typ_gdf.plot(ax=base, column = 'typicality', colormap=typ_cmap, alpha = 0.85, zorder=5)\n",
    "\n",
    "plt.title(\"Spatial Typicality of \" + emojiname + \" Emoji\", size =35)\n",
    "plt.grid(False)\n",
    "fig = plot.get_figure()\n",
    "fig.savefig(r\"C:\\Users\\saman\\OneDrive\\Documents\\Thesis\\Figures\\Emoji_Specific_Analysis\\plot_spatialtyp\\plot_spatialtyp_\" + emojiname_us + \".png\", dpi=300, bbox_inches = \"tight\")\n",
    "    "
   ]
  },
  {
   "cell_type": "code",
   "execution_count": null,
   "id": "276a340c",
   "metadata": {},
   "outputs": [],
   "source": [
    "no18 = gdf[gdf['emoji'].str.contains('🔞')]\n",
    "print(most_common_hashtags(no18['hashtags'], 20))\n",
    "\n",
    "plot_count('🔞')\n",
    "\n",
    "plot_monthlytyp('🔞')"
   ]
  },
  {
   "cell_type": "code",
   "execution_count": null,
   "id": "88df0cfd",
   "metadata": {},
   "outputs": [],
   "source": [
    "subset = df[df['emoji generic'].str.contains('🔞')]\n",
    "make_wordcloud(subset['hashtags'])"
   ]
  },
  {
   "cell_type": "markdown",
   "id": "4c2f8c09",
   "metadata": {},
   "source": [
    "This emoji demonstrates a topical consistency of 35% relating to sex work. "
   ]
  },
  {
   "cell_type": "code",
   "execution_count": null,
   "id": "eed1905e",
   "metadata": {},
   "outputs": [],
   "source": [
    "# plot spatial typicality (no temporal subsets)\n",
    "EMOJI = '🔞'\n",
    "\n",
    "emojiname_us = emoji.demojize(str(EMOJI)).replace(\":\",\"\")\n",
    "emojiname = emojiname_us.replace(\"_\", \" \")\n",
    "emojiname = emojiname.title()\n",
    "\n",
    "#calculating frequency for total dataset     \n",
    "n_t = count[EMOJI]\n",
    "N_t = sum(count.values())\n",
    "F_t = n_t/N_t\n",
    "\n",
    "typ = pd.DataFrame(index = common_idx, columns = ['typicality'], data = '') #dummy dataframe to hold the typicality values\n",
    "\n",
    "for idx,midx in enumerate(common_idx): #looping through all the common indexes between the grids and dataframe\n",
    "    grid_typicality(gdf.loc[midx,\"emoji\"], common_idx[idx])\n",
    "\n",
    "geom = grid.loc[common_idx, \"geometry\"]\n",
    "typ_gdf = gp.GeoDataFrame(data = typ['typicality'], geometry =geom, crs = CRS_PROJ)\n",
    "\n",
    "base = grid.plot(figsize=(22,28), color='white', alpha=0)\n",
    "base.grid(False)\n",
    "# Hide axes ticks\n",
    "base.axes.xaxis.set_visible(False)\n",
    "base.axes.yaxis.set_visible(False)\n",
    "# combine with europe geometry\n",
    "countries_gdf.boundary.plot(ax=base, edgecolor='dimgray', linewidth=0.7, zorder=10) \n",
    "# add labels using adjust text\n",
    "for x, y, label in zip(country_labels.geometry.x, country_labels.geometry.y, country_labels[\"NAME_EN\"]):\n",
    "    texts.append(plt.text(x-100000, y, label.upper(), fontsize = 14, color=\"dimgray\", zorder=10))\n",
    "plot = typ_gdf.plot(ax=base, column = 'typicality', colormap=typ_cmap, alpha = 0.85, zorder=5)\n",
    "\n",
    "plt.title(\"Spatial Typicality of \" + emojiname + \" Emoji\", size =35)\n",
    "plt.grid(False)\n",
    "fig = plot.get_figure()\n",
    "fig.savefig(r\"C:\\Users\\saman\\OneDrive\\Documents\\Thesis\\Figures\\Emoji_Specific_Analysis\\plot_spatialtyp\\plot_spatialtyp_\" + emojiname_us + \".png\", dpi=300, bbox_inches = \"tight\")\n",
    "    "
   ]
  },
  {
   "cell_type": "code",
   "execution_count": null,
   "id": "9e526f43",
   "metadata": {},
   "outputs": [],
   "source": [
    "ribbon = gdf[gdf['emoji'].str.contains('🎀')]\n",
    "print(most_common_hashtags(ribbon['hashtags'], 20))\n",
    "\n",
    "plot_count('🎀')\n",
    "\n",
    "plot_monthlytyp('🎀')"
   ]
  },
  {
   "cell_type": "code",
   "execution_count": null,
   "id": "c7f993f4",
   "metadata": {},
   "outputs": [],
   "source": [
    "subset = df[df['emoji generic'].str.contains('🎀')]\n",
    "make_wordcloud(subset['hashtags'])"
   ]
  },
  {
   "cell_type": "markdown",
   "id": "b91e4e98",
   "metadata": {},
   "source": [
    "This emoji demonstrates a topical consistency of 55% relating to sex work."
   ]
  },
  {
   "cell_type": "code",
   "execution_count": null,
   "id": "751a31e1",
   "metadata": {},
   "outputs": [],
   "source": [
    "# plot spatial typicality (no temporal subsets)\n",
    "EMOJI = '🎀'\n",
    "\n",
    "emojiname_us = emoji.demojize(str(EMOJI)).replace(\":\",\"\")\n",
    "emojiname = emojiname_us.replace(\"_\", \" \")\n",
    "emojiname = emojiname.title()\n",
    "\n",
    "#calculating frequency for total dataset     \n",
    "n_t = count[EMOJI]\n",
    "N_t = sum(count.values())\n",
    "F_t = n_t/N_t\n",
    "\n",
    "typ = pd.DataFrame(index = common_idx, columns = ['typicality'], data = '') #dummy dataframe to hold the typicality values\n",
    "\n",
    "for idx,midx in enumerate(common_idx): #looping through all the common indexes between the grids and dataframe\n",
    "    grid_typicality(gdf.loc[midx,\"emoji\"], common_idx[idx])\n",
    "\n",
    "geom = grid.loc[common_idx, \"geometry\"]\n",
    "typ_gdf = gp.GeoDataFrame(data = typ['typicality'], geometry =geom, crs = CRS_PROJ)\n",
    "\n",
    "base = grid.plot(figsize=(22,28), color='white', alpha=0)\n",
    "base.grid(False)\n",
    "# Hide axes ticks\n",
    "base.axes.xaxis.set_visible(False)\n",
    "base.axes.yaxis.set_visible(False)\n",
    "# combine with europe geometry\n",
    "countries_gdf.boundary.plot(ax=base, edgecolor='dimgray', linewidth=0.7, zorder=10) \n",
    "# add labels using adjust text\n",
    "for x, y, label in zip(country_labels.geometry.x, country_labels.geometry.y, country_labels[\"NAME_EN\"]):\n",
    "    texts.append(plt.text(x-100000, y, label.upper(), fontsize = 14, color=\"dimgray\", zorder=10))\n",
    "plot = typ_gdf.plot(ax=base, column = 'typicality', colormap=typ_cmap, alpha = 0.85, zorder=5)\n",
    "\n",
    "plt.title(\"Spatial Typicality of \" + emojiname + \" Emoji\", size =35)\n",
    "plt.grid(False)\n",
    "fig = plot.get_figure()\n",
    "fig.savefig(r\"C:\\Users\\saman\\OneDrive\\Documents\\Thesis\\Figures\\Emoji_Specific_Analysis\\plot_spatialtyp\\plot_spatialtyp_\" + emojiname_us + \".png\", dpi=300, bbox_inches = \"tight\")\n",
    "    "
   ]
  },
  {
   "cell_type": "markdown",
   "id": "83ed2954",
   "metadata": {},
   "source": [
    "# Netherlands"
   ]
  },
  {
   "cell_type": "code",
   "execution_count": null,
   "id": "7ba61b48",
   "metadata": {},
   "outputs": [],
   "source": [
    "Netherlands\n",
    "🚁 :helicopter:    7.370691\n",
    "🚒 :fire_engine:    0.221937,\n",
    " "
   ]
  },
  {
   "cell_type": "code",
   "execution_count": null,
   "id": "1db5aa61",
   "metadata": {},
   "outputs": [],
   "source": [
    "heli = gdf[gdf['emoji'].str.contains('🚁')]\n",
    "print(most_common_hashtags(heli['hashtags'], 20))\n",
    "\n",
    "plot_count('🚁')\n",
    "\n",
    "plot_monthlytyp('🚁')"
   ]
  },
  {
   "cell_type": "code",
   "execution_count": null,
   "id": "bd21f158",
   "metadata": {},
   "outputs": [],
   "source": [
    "subset = df[df['emoji generic'].str.contains('🚁')]\n",
    "make_wordcloud(subset['hashtags'])"
   ]
  },
  {
   "cell_type": "markdown",
   "id": "ea6f098c",
   "metadata": {},
   "source": [
    "This emoji demonstrates a topical consistency of 82%. Posts with this emoji seem to relate to p2000, which is a Dutch emergency alert system. "
   ]
  },
  {
   "cell_type": "code",
   "execution_count": null,
   "id": "3095731e",
   "metadata": {},
   "outputs": [],
   "source": [
    "# plot spatial typicality (no temporal subsets)\n",
    "EMOJI = '🚁'\n",
    "\n",
    "emojiname_us = emoji.demojize(str(EMOJI)).replace(\":\",\"\")\n",
    "emojiname = emojiname_us.replace(\"_\", \" \")\n",
    "emojiname = emojiname.title()\n",
    "\n",
    "#calculating frequency for total dataset     \n",
    "n_t = count[EMOJI]\n",
    "N_t = sum(count.values())\n",
    "F_t = n_t/N_t\n",
    "\n",
    "typ = pd.DataFrame(index = common_idx, columns = ['typicality'], data = '') #dummy dataframe to hold the typicality values\n",
    "\n",
    "for idx,midx in enumerate(common_idx): #looping through all the common indexes between the grids and dataframe\n",
    "    grid_typicality(gdf.loc[midx,\"emoji\"], common_idx[idx])\n",
    "\n",
    "geom = grid.loc[common_idx, \"geometry\"]\n",
    "typ_gdf = gp.GeoDataFrame(data = typ['typicality'], geometry =geom, crs = CRS_PROJ)\n",
    "\n",
    "base = grid.plot(figsize=(22,28), color='white', alpha=0)\n",
    "base.grid(False)\n",
    "# Hide axes ticks\n",
    "base.axes.xaxis.set_visible(False)\n",
    "base.axes.yaxis.set_visible(False)\n",
    "# combine with europe geometry\n",
    "countries_gdf.boundary.plot(ax=base, edgecolor='dimgray', linewidth=0.7, zorder=10) \n",
    "# add labels using adjust text\n",
    "for x, y, label in zip(country_labels.geometry.x, country_labels.geometry.y, country_labels[\"NAME_EN\"]):\n",
    "    texts.append(plt.text(x-100000, y, label.upper(), fontsize = 14, color=\"dimgray\", zorder=10))\n",
    "plot = typ_gdf.plot(ax=base, column = 'typicality', colormap=typ_cmap, alpha = 0.85, zorder=5)\n",
    "\n",
    "plt.title(\"Spatial Typicality of \" + emojiname + \" Emoji\", size =35)\n",
    "plt.grid(False)\n",
    "fig = plot.get_figure()\n",
    "fig.savefig(r\"C:\\Users\\saman\\OneDrive\\Documents\\Thesis\\Figures\\Emoji_Specific_Analysis\\plot_spatialtyp\\plot_spatialtyp_\" + emojiname_us + \".png\", dpi=300, bbox_inches = \"tight\")\n",
    "    "
   ]
  },
  {
   "cell_type": "code",
   "execution_count": null,
   "id": "ab7c771d",
   "metadata": {},
   "outputs": [],
   "source": [
    "fe = gdf[gdf['emoji'].str.contains('🚒')]\n",
    "print(most_common_hashtags(fe['hashtags'], 20))\n",
    "\n",
    "plot_count('🚒')\n",
    "\n",
    "plot_monthlytyp('🚒')"
   ]
  },
  {
   "cell_type": "code",
   "execution_count": null,
   "id": "ed5ca089",
   "metadata": {},
   "outputs": [],
   "source": [
    "subset = df[df['emoji generic'].str.contains('🚒')]\n",
    "make_wordcloud(subset['hashtags'])"
   ]
  },
  {
   "cell_type": "markdown",
   "id": "8c24ac31",
   "metadata": {},
   "source": [
    "This emoji demonstrates a topical consistency of 69%. Posts with this emoji seem to relate to p2000, which is a Dutch emergency alert system. "
   ]
  },
  {
   "cell_type": "code",
   "execution_count": null,
   "id": "57c6b3a8",
   "metadata": {},
   "outputs": [],
   "source": [
    "# plot spatial typicality (no temporal subsets)\n",
    "EMOJI = '🚒'\n",
    "\n",
    "emojiname_us = emoji.demojize(str(EMOJI)).replace(\":\",\"\")\n",
    "emojiname = emojiname_us.replace(\"_\", \" \")\n",
    "emojiname = emojiname.title()\n",
    "\n",
    "#calculating frequency for total dataset     \n",
    "n_t = count[EMOJI]\n",
    "N_t = sum(count.values())\n",
    "F_t = n_t/N_t\n",
    "\n",
    "typ = pd.DataFrame(index = common_idx, columns = ['typicality'], data = '') #dummy dataframe to hold the typicality values\n",
    "\n",
    "for idx,midx in enumerate(common_idx): #looping through all the common indexes between the grids and dataframe\n",
    "    grid_typicality(gdf.loc[midx,\"emoji\"], common_idx[idx])\n",
    "\n",
    "geom = grid.loc[common_idx, \"geometry\"]\n",
    "typ_gdf = gp.GeoDataFrame(data = typ['typicality'], geometry =geom, crs = CRS_PROJ)\n",
    "\n",
    "base = grid.plot(figsize=(22,28), color='white', alpha=0)\n",
    "base.grid(False)\n",
    "# Hide axes ticks\n",
    "base.axes.xaxis.set_visible(False)\n",
    "base.axes.yaxis.set_visible(False)\n",
    "# combine with europe geometry\n",
    "countries_gdf.boundary.plot(ax=base, edgecolor='dimgray', linewidth=0.7, zorder=10) \n",
    "# add labels using adjust text\n",
    "for x, y, label in zip(country_labels.geometry.x, country_labels.geometry.y, country_labels[\"NAME_EN\"]):\n",
    "    texts.append(plt.text(x-100000, y, label.upper(), fontsize = 14, color=\"dimgray\", zorder=10))\n",
    "plot = typ_gdf.plot(ax=base, column = 'typicality', colormap=typ_cmap, alpha = 0.85, zorder=5)\n",
    "\n",
    "plt.title(\"Spatial Typicality of \" + emojiname + \" Emoji\", size =35)\n",
    "plt.grid(False)\n",
    "fig = plot.get_figure()\n",
    "fig.savefig(r\"C:\\Users\\saman\\OneDrive\\Documents\\Thesis\\Figures\\Emoji_Specific_Analysis\\plot_spatialtyp\\plot_spatialtyp_\" + emojiname_us + \".png\", dpi=300, bbox_inches = \"tight\")\n",
    "    "
   ]
  },
  {
   "cell_type": "markdown",
   "id": "51bdf5c6",
   "metadata": {},
   "source": [
    "# Belgium"
   ]
  },
  {
   "cell_type": "code",
   "execution_count": null,
   "id": "fee7f2f3",
   "metadata": {},
   "outputs": [],
   "source": [
    "🖤 :black_heart:    0.636208\n",
    "🤔 :thinking_face:    0.322439\n",
    "😎 :smiling_face_with_sunglasses:    0.124985"
   ]
  },
  {
   "cell_type": "code",
   "execution_count": null,
   "id": "a7a3eaa4",
   "metadata": {},
   "outputs": [],
   "source": [
    "bh = gdf[gdf['emoji'].str.contains('🖤')]\n",
    "print(most_common_hashtags(bh['hashtags'], 20))\n",
    "\n",
    "plot_count('🖤')\n",
    "\n",
    "plot_monthlytyp('🖤')"
   ]
  },
  {
   "cell_type": "code",
   "execution_count": null,
   "id": "83712185",
   "metadata": {},
   "outputs": [],
   "source": [
    "subset = df[df['emoji generic'].str.contains('🖤')]\n",
    "make_wordcloud(subset['hashtags'])"
   ]
  },
  {
   "cell_type": "markdown",
   "id": "27310811",
   "metadata": {},
   "source": [
    "This emoji demonstrates a topical consistency of 24.7%. Posts with this emoji don't seem to discuss similar topics. "
   ]
  },
  {
   "cell_type": "code",
   "execution_count": null,
   "id": "16a30212",
   "metadata": {},
   "outputs": [],
   "source": [
    "# plot spatial typicality (no temporal subsets)\n",
    "EMOJI = '🖤'\n",
    "\n",
    "emojiname_us = emoji.demojize(str(EMOJI)).replace(\":\",\"\")\n",
    "emojiname = emojiname_us.replace(\"_\", \" \")\n",
    "emojiname = emojiname.title()\n",
    "\n",
    "#calculating frequency for total dataset     \n",
    "n_t = count[EMOJI]\n",
    "N_t = sum(count.values())\n",
    "F_t = n_t/N_t\n",
    "\n",
    "typ = pd.DataFrame(index = common_idx, columns = ['typicality'], data = '') #dummy dataframe to hold the typicality values\n",
    "\n",
    "for idx,midx in enumerate(common_idx): #looping through all the common indexes between the grids and dataframe\n",
    "    grid_typicality(gdf.loc[midx,\"emoji\"], common_idx[idx])\n",
    "\n",
    "geom = grid.loc[common_idx, \"geometry\"]\n",
    "typ_gdf = gp.GeoDataFrame(data = typ['typicality'], geometry =geom, crs = CRS_PROJ)\n",
    "\n",
    "base = grid.plot(figsize=(22,28), color='white', alpha=0)\n",
    "base.grid(False)\n",
    "# Hide axes ticks\n",
    "base.axes.xaxis.set_visible(False)\n",
    "base.axes.yaxis.set_visible(False)\n",
    "# combine with europe geometry\n",
    "countries_gdf.boundary.plot(ax=base, edgecolor='dimgray', linewidth=0.7, zorder=10) \n",
    "# add labels using adjust text\n",
    "for x, y, label in zip(country_labels.geometry.x, country_labels.geometry.y, country_labels[\"NAME_EN\"]):\n",
    "    texts.append(plt.text(x-100000, y, label.upper(), fontsize = 14, color=\"dimgray\", zorder=10))\n",
    "plot = typ_gdf.plot(ax=base, column = 'typicality', colormap=typ_cmap, alpha = 0.85, zorder=5)\n",
    "\n",
    "plt.title(\"Spatial Typicality of \" + emojiname + \" Emoji\", size =35)\n",
    "plt.grid(False)\n",
    "fig = plot.get_figure()\n",
    "fig.savefig(r\"C:\\Users\\saman\\OneDrive\\Documents\\Thesis\\Figures\\Emoji_Specific_Analysis\\plot_spatialtyp\\plot_spatialtyp_\" + emojiname_us + \".png\", dpi=300, bbox_inches = \"tight\")\n",
    "    "
   ]
  },
  {
   "cell_type": "code",
   "execution_count": null,
   "id": "7155855f",
   "metadata": {},
   "outputs": [],
   "source": [
    "think = gdf[gdf['emoji'].str.contains('🤔')]\n",
    "print(most_common_hashtags(think['hashtags'], 20))\n",
    "\n",
    "plot_count('🤔')\n",
    "\n",
    "plot_monthlytyp('🤔')"
   ]
  },
  {
   "cell_type": "code",
   "execution_count": null,
   "id": "e5fc22d3",
   "metadata": {},
   "outputs": [],
   "source": [
    "subset = df[df['emoji generic'].str.contains('🤔')]\n",
    "make_wordcloud(subset['hashtags'])"
   ]
  },
  {
   "cell_type": "markdown",
   "id": "b108737f",
   "metadata": {},
   "source": [
    "This emoji demonstrates a topical consistency of 23%. Posts with this emoji seem to relate to covid-19."
   ]
  },
  {
   "cell_type": "code",
   "execution_count": null,
   "id": "6102b53c",
   "metadata": {},
   "outputs": [],
   "source": [
    "# plot spatial typicality (no temporal subsets)\n",
    "EMOJI = '🤔'\n",
    "\n",
    "emojiname_us = emoji.demojize(str(EMOJI)).replace(\":\",\"\")\n",
    "emojiname = emojiname_us.replace(\"_\", \" \")\n",
    "emojiname = emojiname.title()\n",
    "\n",
    "#calculating frequency for total dataset     \n",
    "n_t = count[EMOJI]\n",
    "N_t = sum(count.values())\n",
    "F_t = n_t/N_t\n",
    "\n",
    "typ = pd.DataFrame(index = common_idx, columns = ['typicality'], data = '') #dummy dataframe to hold the typicality values\n",
    "\n",
    "for idx,midx in enumerate(common_idx): #looping through all the common indexes between the grids and dataframe\n",
    "    grid_typicality(gdf.loc[midx,\"emoji\"], common_idx[idx])\n",
    "\n",
    "geom = grid.loc[common_idx, \"geometry\"]\n",
    "typ_gdf = gp.GeoDataFrame(data = typ['typicality'], geometry =geom, crs = CRS_PROJ)\n",
    "\n",
    "base = grid.plot(figsize=(22,28), color='white', alpha=0)\n",
    "base.grid(False)\n",
    "# Hide axes ticks\n",
    "base.axes.xaxis.set_visible(False)\n",
    "base.axes.yaxis.set_visible(False)\n",
    "# combine with europe geometry\n",
    "countries_gdf.boundary.plot(ax=base, edgecolor='dimgray', linewidth=0.7, zorder=10) \n",
    "# add labels using adjust text\n",
    "for x, y, label in zip(country_labels.geometry.x, country_labels.geometry.y, country_labels[\"NAME_EN\"]):\n",
    "    texts.append(plt.text(x-100000, y, label.upper(), fontsize = 14, color=\"dimgray\", zorder=10))\n",
    "plot = typ_gdf.plot(ax=base, column = 'typicality', colormap=typ_cmap, alpha = 0.85, zorder=5)\n",
    "\n",
    "plt.title(\"Spatial Typicality of \" + emojiname + \" Emoji\", size =35)\n",
    "plt.grid(False)\n",
    "fig = plot.get_figure()\n",
    "fig.savefig(r\"C:\\Users\\saman\\OneDrive\\Documents\\Thesis\\Figures\\Emoji_Specific_Analysis\\plot_spatialtyp\\plot_spatialtyp_\" + emojiname_us + \".png\", dpi=300, bbox_inches = \"tight\")\n",
    "    "
   ]
  },
  {
   "cell_type": "code",
   "execution_count": null,
   "id": "4760d956",
   "metadata": {},
   "outputs": [],
   "source": [
    "sunglasses = gdf[gdf['emoji'].str.contains('😎')]\n",
    "print(most_common_hashtags(sunglasses['hashtags'], 20))\n",
    "\n",
    "plot_count('😎')\n",
    "\n",
    "plot_monthlytyp('😎')"
   ]
  },
  {
   "cell_type": "code",
   "execution_count": null,
   "id": "e787d27c",
   "metadata": {},
   "outputs": [],
   "source": [
    "subset = df[df['emoji generic'].str.contains('😎')]\n",
    "make_wordcloud(subset['hashtags'])"
   ]
  },
  {
   "cell_type": "markdown",
   "id": "d9753ad4",
   "metadata": {},
   "source": [
    "This emoji demonstrates a topical consistency of 24%. Posts containing this emoji don't seem to discuss similar topics."
   ]
  },
  {
   "cell_type": "code",
   "execution_count": null,
   "id": "96dc0147",
   "metadata": {},
   "outputs": [],
   "source": [
    "# plot spatial typicality (no temporal subsets)\n",
    "EMOJI = '😎'\n",
    "\n",
    "emojiname_us = emoji.demojize(str(EMOJI)).replace(\":\",\"\")\n",
    "emojiname = emojiname_us.replace(\"_\", \" \")\n",
    "emojiname = emojiname.title()\n",
    "\n",
    "#calculating frequency for total dataset     \n",
    "n_t = count[EMOJI]\n",
    "N_t = sum(count.values())\n",
    "F_t = n_t/N_t\n",
    "\n",
    "typ = pd.DataFrame(index = common_idx, columns = ['typicality'], data = '') #dummy dataframe to hold the typicality values\n",
    "\n",
    "for idx,midx in enumerate(common_idx): #looping through all the common indexes between the grids and dataframe\n",
    "    grid_typicality(gdf.loc[midx,\"emoji\"], common_idx[idx])\n",
    "\n",
    "geom = grid.loc[common_idx, \"geometry\"]\n",
    "typ_gdf = gp.GeoDataFrame(data = typ['typicality'], geometry =geom, crs = CRS_PROJ)\n",
    "\n",
    "base = grid.plot(figsize=(22,28), color='white', alpha=0)\n",
    "base.grid(False)\n",
    "# Hide axes ticks\n",
    "base.axes.xaxis.set_visible(False)\n",
    "base.axes.yaxis.set_visible(False)\n",
    "# combine with europe geometry\n",
    "countries_gdf.boundary.plot(ax=base, edgecolor='dimgray', linewidth=0.7, zorder=10) \n",
    "# add labels using adjust text\n",
    "for x, y, label in zip(country_labels.geometry.x, country_labels.geometry.y, country_labels[\"NAME_EN\"]):\n",
    "    texts.append(plt.text(x-100000, y, label.upper(), fontsize = 14, color=\"dimgray\", zorder=10))\n",
    "plot = typ_gdf.plot(ax=base, column = 'typicality', colormap=typ_cmap, alpha = 0.85, zorder=5)\n",
    "\n",
    "plt.title(\"Spatial Typicality of \" + emojiname + \" Emoji\", size =35)\n",
    "plt.grid(False)\n",
    "fig = plot.get_figure()\n",
    "fig.savefig(r\"C:\\Users\\saman\\OneDrive\\Documents\\Thesis\\Figures\\Emoji_Specific_Analysis\\plot_spatialtyp\\plot_spatialtyp_\" + emojiname_us + \".png\", dpi=300, bbox_inches = \"tight\")\n",
    "    "
   ]
  },
  {
   "cell_type": "code",
   "execution_count": null,
   "id": "bf7f321d",
   "metadata": {},
   "outputs": [],
   "source": [
    "Switzerland\n",
    "💙 :blue_heart:     0.11247,"
   ]
  },
  {
   "cell_type": "code",
   "execution_count": null,
   "id": "74434b71",
   "metadata": {
    "scrolled": true
   },
   "outputs": [],
   "source": [
    "blueheart = gdf[gdf['emoji'].str.contains('💙')]\n",
    "print(most_common_hashtags(blueheart['hashtags'], 20))\n",
    "\n",
    "plot_count('💙')\n",
    "\n",
    "plot_monthlytyp('💙')"
   ]
  },
  {
   "cell_type": "code",
   "execution_count": null,
   "id": "1c075676",
   "metadata": {},
   "outputs": [],
   "source": [
    "subset = df[df['emoji generic'].str.contains('💙')]\n",
    "make_wordcloud(subset['hashtags'])"
   ]
  },
  {
   "cell_type": "markdown",
   "id": "8b77a08d",
   "metadata": {},
   "source": [
    "This emoji demonstrates a topical consistency of 34% relating to infant and child mortality and health problems. "
   ]
  },
  {
   "cell_type": "code",
   "execution_count": null,
   "id": "b1cfdc80",
   "metadata": {},
   "outputs": [],
   "source": [
    "# plot spatial typicality (no temporal subsets)\n",
    "EMOJI = '💙'\n",
    "\n",
    "emojiname_us = emoji.demojize(str(EMOJI)).replace(\":\",\"\")\n",
    "emojiname = emojiname_us.replace(\"_\", \" \")\n",
    "emojiname = emojiname.title()\n",
    "\n",
    "#calculating frequency for total dataset     \n",
    "n_t = count[EMOJI]\n",
    "N_t = sum(count.values())\n",
    "F_t = n_t/N_t\n",
    "\n",
    "typ = pd.DataFrame(index = common_idx, columns = ['typicality'], data = '') #dummy dataframe to hold the typicality values\n",
    "\n",
    "for idx,midx in enumerate(common_idx): #looping through all the common indexes between the grids and dataframe\n",
    "    grid_typicality(gdf.loc[midx,\"emoji\"], common_idx[idx])\n",
    "\n",
    "geom = grid.loc[common_idx, \"geometry\"]\n",
    "typ_gdf = gp.GeoDataFrame(data = typ['typicality'], geometry =geom, crs = CRS_PROJ)\n",
    "\n",
    "base = grid.plot(figsize=(22,28), color='white', alpha=0)\n",
    "base.grid(False)\n",
    "# Hide axes ticks\n",
    "base.axes.xaxis.set_visible(False)\n",
    "base.axes.yaxis.set_visible(False)\n",
    "# combine with europe geometry\n",
    "countries_gdf.boundary.plot(ax=base, edgecolor='dimgray', linewidth=0.7, zorder=10) \n",
    "# add labels using adjust text\n",
    "for x, y, label in zip(country_labels.geometry.x, country_labels.geometry.y, country_labels[\"NAME_EN\"]):\n",
    "    texts.append(plt.text(x-100000, y, label.upper(), fontsize = 14, color=\"dimgray\", zorder=10))\n",
    "plot = typ_gdf.plot(ax=base, column = 'typicality', colormap=typ_cmap, alpha = 0.85, zorder=5)\n",
    "\n",
    "plt.title(\"Spatial Typicality of \" + emojiname + \" Emoji\", size =35)\n",
    "plt.grid(False)\n",
    "fig = plot.get_figure()\n",
    "fig.savefig(r\"C:\\Users\\saman\\OneDrive\\Documents\\Thesis\\Figures\\Emoji_Specific_Analysis\\plot_spatialtyp\\plot_spatialtyp_\" + emojiname_us + \".png\", dpi=300, bbox_inches = \"tight\")\n",
    "    "
   ]
  },
  {
   "cell_type": "code",
   "execution_count": null,
   "id": "1986abe0",
   "metadata": {},
   "outputs": [],
   "source": [
    "Austria\n",
    "😍 :smiling_face_with_heart-eyes:    0.106052\n"
   ]
  },
  {
   "cell_type": "code",
   "execution_count": null,
   "id": "38e4708c",
   "metadata": {},
   "outputs": [],
   "source": [
    "hearteyes = gdf[gdf['emoji'].str.contains('😍')]\n",
    "print(most_common_hashtags(hearteyes['hashtags'], 20))\n",
    "\n",
    "plot_count('😍')\n",
    "\n",
    "plot_monthlytyp('😍')"
   ]
  },
  {
   "cell_type": "code",
   "execution_count": null,
   "id": "83c31d51",
   "metadata": {},
   "outputs": [],
   "source": [
    "subset = df[df['emoji generic'].str.contains('😍')]\n",
    "make_wordcloud(subset['hashtags'])"
   ]
  },
  {
   "cell_type": "markdown",
   "id": "ee8c45ca",
   "metadata": {},
   "source": [
    "This emoji demonstrates a topical consistency of 13%. Posts containing this emoji don't seem to discuss similar topics."
   ]
  },
  {
   "cell_type": "code",
   "execution_count": null,
   "id": "5f7032ee",
   "metadata": {},
   "outputs": [],
   "source": [
    "# plot spatial typicality (no temporal subsets)\n",
    "EMOJI = '😍'\n",
    "\n",
    "emojiname_us = emoji.demojize(str(EMOJI)).replace(\":\",\"\")\n",
    "emojiname = emojiname_us.replace(\"_\", \" \")\n",
    "emojiname = emojiname.title()\n",
    "\n",
    "#calculating frequency for total dataset     \n",
    "n_t = count[EMOJI]\n",
    "N_t = sum(count.values())\n",
    "F_t = n_t/N_t\n",
    "\n",
    "typ = pd.DataFrame(index = common_idx, columns = ['typicality'], data = '') #dummy dataframe to hold the typicality values\n",
    "\n",
    "for idx,midx in enumerate(common_idx): #looping through all the common indexes between the grids and dataframe\n",
    "    grid_typicality(gdf.loc[midx,\"emoji\"], common_idx[idx])\n",
    "\n",
    "geom = grid.loc[common_idx, \"geometry\"]\n",
    "typ_gdf = gp.GeoDataFrame(data = typ['typicality'], geometry =geom, crs = CRS_PROJ)\n",
    "\n",
    "base = grid.plot(figsize=(22,28), color='white', alpha=0)\n",
    "base.grid(False)\n",
    "# Hide axes ticks\n",
    "base.axes.xaxis.set_visible(False)\n",
    "base.axes.yaxis.set_visible(False)\n",
    "# combine with europe geometry\n",
    "countries_gdf.boundary.plot(ax=base, edgecolor='dimgray', linewidth=0.7, zorder=10) \n",
    "# add labels using adjust text\n",
    "for x, y, label in zip(country_labels.geometry.x, country_labels.geometry.y, country_labels[\"NAME_EN\"]):\n",
    "    texts.append(plt.text(x-100000, y, label.upper(), fontsize = 14, color=\"dimgray\", zorder=10))\n",
    "plot = typ_gdf.plot(ax=base, column = 'typicality', colormap=typ_cmap, alpha = 0.85, zorder=5)\n",
    "\n",
    "plt.title(\"Spatial Typicality of \" + emojiname + \" Emoji\", size =35)\n",
    "plt.grid(False)\n",
    "fig = plot.get_figure()\n",
    "fig.savefig(r\"C:\\Users\\saman\\OneDrive\\Documents\\Thesis\\Figures\\Emoji_Specific_Analysis\\plot_spatialtyp\\plot_spatialtyp_\" + emojiname_us + \".png\", dpi=300, bbox_inches = \"tight\")\n",
    "    "
   ]
  },
  {
   "cell_type": "code",
   "execution_count": null,
   "id": "0ece378f",
   "metadata": {},
   "outputs": [],
   "source": []
  },
  {
   "cell_type": "code",
   "execution_count": null,
   "id": "5ad0ef14",
   "metadata": {},
   "outputs": [],
   "source": []
  }
 ],
 "metadata": {
  "kernelspec": {
   "display_name": "Python 3 (ipykernel)",
   "language": "python",
   "name": "python3"
  },
  "language_info": {
   "codemirror_mode": {
    "name": "ipython",
    "version": 3
   },
   "file_extension": ".py",
   "mimetype": "text/x-python",
   "name": "python",
   "nbconvert_exporter": "python",
   "pygments_lexer": "ipython3",
   "version": "3.10.5"
  }
 },
 "nbformat": 4,
 "nbformat_minor": 5
}
