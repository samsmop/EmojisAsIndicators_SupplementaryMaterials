{
 "cells": [
  {
   "cell_type": "code",
   "execution_count": null,
   "metadata": {},
   "outputs": [],
   "source": [
    "# this notebook shows the visualization process for the spatial typicality of individual emojis"
   ]
  },
  {
   "cell_type": "code",
   "execution_count": null,
   "metadata": {},
   "outputs": [],
   "source": [
    "import warnings\n",
    "warnings.filterwarnings(\"ignore\")\n",
    "from pathlib import Path\n",
    "import geopandas as gp\n",
    "import pandas as pd\n",
    "from pyproj import Transformer, CRS, Proj\n",
    "from shapely.geometry import shape, Point, Polygon, box\n",
    "from matplotlib.colors import LinearSegmentedColormap\n",
    "import numpy as np\n",
    "import shapely.speedups as speedups\n",
    "import contextily as ctx\n",
    "from collections import Counter\n",
    "import matplotlib.pyplot as plt\n",
    "import mapclassify as mc\n",
    "speedups.enable()\n",
    "import emoji\n",
    "from matplotlib import cm\n",
    "from matplotlib.colors import ListedColormap, LinearSegmentedColormap\n",
    "import matplotlib.colors as mcolors"
   ]
  },
  {
   "cell_type": "code",
   "execution_count": null,
   "metadata": {},
   "outputs": [],
   "source": [
    "\"\"\"\n",
    "Defining constants to be used throughout the program\n",
    "\n",
    "\"\"\"\n",
    "\n",
    "#create grids based on the custom made eu shapefile\n",
    "\n",
    "GRID_SIZE_METERS = 100000 \n",
    "                        \n",
    "# target projection: Mollweide\n",
    "EPSG_CODE = 54009\n",
    "CRS_PROJ = f\"esri:{EPSG_CODE}\"\n",
    "\n",
    "# Input projection WGS 84\n",
    "CRS_WGS = \"epsg:4326\"\n",
    "\n",
    "# define Transformer ahead of time\n",
    "# with xy-order of coordinates\n",
    "PROJ_TRANSFORMER = Transformer.from_crs(\n",
    "    CRS_WGS, CRS_PROJ, always_xy=True)\n",
    "\n",
    "# also define reverse projection\n",
    "PROJ_TRANSFORMER_BACK = Transformer.from_crs(\n",
    "    CRS_PROJ, CRS_WGS, always_xy=True)\n",
    "\n",
    "#projecting the bounds of the eu-shapefile to Mollweide\n",
    "\n",
    "XMIN = PROJ_TRANSFORMER.transform(-18.729512 , 29.234046)[0]\n",
    "XMAX = PROJ_TRANSFORMER.transform(39.73858, 29.234046)[0]\n",
    "YMAX = PROJ_TRANSFORMER.transform(49.59352369, 71.16987838)[1]\n",
    "YMIN = PROJ_TRANSFORMER.transform(49.59352369, 28.017169)[1]\n",
    "\n",
    "# color map to use for typicality maps\n",
    "BrBG = cm.get_cmap('BrBG')\n",
    "newcmp = ListedColormap(BrBG(np.linspace(0.25, 0.75, 10)))"
   ]
  },
  {
   "cell_type": "code",
   "execution_count": null,
   "metadata": {},
   "outputs": [],
   "source": [
    "# here's an example emoji\n",
    "EMOJI = \"🙏\""
   ]
  },
  {
   "cell_type": "code",
   "execution_count": null,
   "metadata": {},
   "outputs": [],
   "source": [
    "# open and read csv file containing HLL data\n",
    "df = pd.read_csv (r\"C:\\Users\\saman\\OneDrive\\Documents\\Thesis\\Data\\HLLData_load.csv\")\n",
    "# Converting it to data frame\n",
    "df = pd.DataFrame(data=df)\n",
    "# Convert to geodataframe, projection Mollweide\n",
    "gdf = gp.GeoDataFrame(df,geometry =gp.points_from_xy(df.longitude,df.latitude),crs =4326)"
   ]
  },
  {
   "cell_type": "code",
   "execution_count": null,
   "metadata": {},
   "outputs": [],
   "source": [
    "gdf.to_crs(CRS_PROJ,inplace=True)"
   ]
  },
  {
   "cell_type": "code",
   "execution_count": null,
   "metadata": {
    "scrolled": true
   },
   "outputs": [],
   "source": [
    "gdf"
   ]
  },
  {
   "cell_type": "code",
   "execution_count": null,
   "metadata": {},
   "outputs": [],
   "source": [
    "# read in the custom study area shapefile (created in ArcGIS Pro)\n",
    "europe = gp.read_file(\"Europe_Clipped_BBox.shp\")\n",
    "europe.to_crs(CRS_PROJ, inplace =True)\n",
    "europe.plot()"
   ]
  },
  {
   "cell_type": "code",
   "execution_count": null,
   "metadata": {},
   "outputs": [],
   "source": [
    "# now let's create the 100 x 100 km grids\n",
    "def create_grids():\n",
    "    \n",
    "    \"\"\"\n",
    "    Creating polygons based on the grid size\n",
    "    \"\"\"\n",
    "    \n",
    "    width = GRID_SIZE_METERS\n",
    "    length = GRID_SIZE_METERS\n",
    "    cols = list(range(int(np.floor(XMIN)), int(np.ceil(XMAX)), width))\n",
    "    rows = list(range(int(np.floor(YMIN)), int(np.ceil(YMAX)), length))\n",
    "    rows.reverse()\n",
    "\n",
    "    polygons = []\n",
    "    for x in cols:\n",
    "         for y in rows:\n",
    "                # combine to tuple: (x,y, poly)\n",
    "                # and append to list\n",
    "                polygons.append(\n",
    "                    (x, y,\n",
    "                     Polygon([\n",
    "                         (x, y),\n",
    "                         (x+width, y),\n",
    "                         (x+width, y-length),\n",
    "                         (x, y-length)])))\n",
    "    grid = pd.DataFrame(polygons)\n",
    "        # name columns\n",
    "    col_labels=['xbin', 'ybin', 'bin_poly']\n",
    "    grid.columns = col_labels\n",
    "        # use x and y as index columns\n",
    "    grid.set_index(['xbin', 'ybin'], inplace=True)\n",
    "    grid = gp.GeoDataFrame(\n",
    "            grid.drop(\n",
    "                columns=[\"bin_poly\"]),\n",
    "                geometry=grid.bin_poly)\n",
    "    grid.crs = CRS_PROJ\n",
    "    return grid,cols,rows\n",
    "\n",
    "grid,cols,rows = create_grids()"
   ]
  },
  {
   "cell_type": "code",
   "execution_count": null,
   "metadata": {},
   "outputs": [],
   "source": [
    "ybins = np.array(rows)\n",
    "xbins = np.array(cols)\n",
    "\n",
    "def get_best_bins(search_values_x, search_values_y,xbins, ybins): \n",
    "    \"\"\"Will return best bin for a lat and lng input\n",
    "    \n",
    "    Note: prepare bins and values in correct matching projection\n",
    "    \n",
    "    \"\"\"\n",
    "    xbins_idx = np.digitize(search_values_x, xbins, right=False)\n",
    "    ybins_idx = np.digitize(search_values_y, ybins, right=False)\n",
    "    return (xbins[xbins_idx-1], ybins[ybins_idx-1])\n",
    "\n",
    "\n",
    "xbins_match, ybins_match = get_best_bins(\n",
    "    search_values_x=gdf.geometry.x.to_numpy(),\n",
    "    search_values_y=gdf.geometry.y.to_numpy(),\n",
    "    xbins=xbins, ybins=ybins)"
   ]
  },
  {
   "cell_type": "code",
   "execution_count": null,
   "metadata": {},
   "outputs": [],
   "source": [
    "base = grid.plot(figsize=(22,28), color='white', edgecolor='black', linewidth=0.2)\n",
    "base.grid(False)\n",
    "# Hide axes ticks\n",
    "base.axes.xaxis.set_visible(False)\n",
    "base.axes.yaxis.set_visible(False)\n",
    "# combine with europe geometry\n",
    "plot = europe.boundary.plot(ax=base, linewidth=0.8)\n",
    "plt.title(\"100x100 km Grid Superimposed on Study Area\", size =35)"
   ]
  },
  {
   "cell_type": "code",
   "execution_count": null,
   "metadata": {},
   "outputs": [],
   "source": [
    "gdf.loc[:, 'xbins_match'] = xbins_match\n",
    "gdf.loc[:, 'ybins_match'] = ybins_match\n",
    "gdf.drop(columns = ['longitude','latitude','geometry'],inplace =True)\n",
    "gdf.set_index(['xbins_match', 'ybins_match'], inplace=True)\n",
    "# gdf.dropna(subset = 'hashtag', inplace =True)\n",
    "grid.sort_index(inplace =True)\n",
    "gdf.sort_index(inplace = True)\n",
    "common_idx = grid.index.intersection(gdf.index) \n",
    "#instead of a spatial join, indexes are used to find which hashtag belongs to which grid\n",
    "gdf"
   ]
  },
  {
   "cell_type": "code",
   "execution_count": null,
   "metadata": {
    "scrolled": true
   },
   "outputs": [],
   "source": [
    "#counting the occurence of each emoji in preparation of typicality calculations\n",
    "count = Counter()  \n",
    "gdf['emoji'].str.split(',').apply(count.update)"
   ]
  },
  {
   "cell_type": "code",
   "execution_count": null,
   "metadata": {},
   "outputs": [],
   "source": [
    "#calculating frequency for total dataset     \n",
    "n_t = count['🙏']\n",
    "N_t = sum(count.values())\n",
    "F_t = n_t/N_t"
   ]
  },
  {
   "cell_type": "code",
   "execution_count": null,
   "metadata": {},
   "outputs": [],
   "source": [
    "def grid_typicality(new_test,idx):    \n",
    "     \n",
    "        #calculating frequency for each grid (sub-dataset) \n",
    "        counter = Counter()\n",
    "        new_test.str.split(',').apply(counter.update)\n",
    "        n_s = counter[EMOJI]\n",
    "        if (n_s == 0):\n",
    "            typ.loc[idx,'typicality'] = -1.0\n",
    "        else:    \n",
    "            N_s = sum(counter.values())\n",
    "            F_s = n_s/N_s\n",
    "            typ.loc[idx,'typicality'] = (F_s - F_t)/F_t "
   ]
  },
  {
   "cell_type": "code",
   "execution_count": null,
   "metadata": {},
   "outputs": [],
   "source": [
    "typ = pd.DataFrame(index = common_idx, columns = ['typicality'], data = '') #dummy dataframe to hold the typicality values\n",
    "\n",
    "for idx,midx in enumerate(common_idx): #looping through all the common indexes between the grids and dataframe\n",
    "    grid_typicality(gdf.loc[midx,\"emoji\"], common_idx[idx])"
   ]
  },
  {
   "cell_type": "code",
   "execution_count": null,
   "metadata": {
    "scrolled": true
   },
   "outputs": [],
   "source": [
    "geom = grid.loc[common_idx, \"geometry\"]\n",
    "typ_gdf = gp.GeoDataFrame(data = typ['typicality'], geometry =geom, crs = CRS_PROJ)\n",
    "typ_gdf"
   ]
  },
  {
   "cell_type": "code",
   "execution_count": null,
   "metadata": {},
   "outputs": [],
   "source": [
    "base = grid.plot(figsize=(22,28), color='white', edgecolor='black', linewidth=0.1)\n",
    "# combine with europe geometry\n",
    "plot = typ_gdf.plot(ax=base, column = 'typicality', colormap='Greens', alpha = 0.7, edgecolor='gray', linewidth=0.1)\n",
    "europe.boundary.plot(ax=base, alpha=0.3)\n",
    "plt.title(\"Typicality of Folded Hands Emoji\", size =35)"
   ]
  },
  {
   "cell_type": "code",
   "execution_count": null,
   "metadata": {},
   "outputs": [],
   "source": [
    "# repeat for other emojis\n",
    "EMOJI = '🔴'\n",
    "\n",
    "typ = pd.DataFrame(index = common_idx, columns = ['typicality'], data = '') #dummy dataframe to hold the typicality values\n",
    "\n",
    "for idx,midx in enumerate(common_idx): #looping through all the common indexes between the grids and dataframe\n",
    "    grid_typicality(gdf.loc[midx,\"emoji\"], common_idx[idx])\n"
   ]
  },
  {
   "cell_type": "code",
   "execution_count": null,
   "metadata": {},
   "outputs": [],
   "source": [
    "geom = grid.loc[common_idx, \"geometry\"]\n",
    "typ_gdf = gp.GeoDataFrame(data = typ['typicality'], geometry =geom, crs = CRS_PROJ)\n",
    "typ_gdf"
   ]
  },
  {
   "cell_type": "code",
   "execution_count": null,
   "metadata": {},
   "outputs": [],
   "source": [
    "base = grid.plot(figsize=(22,28), color='white', edgecolor='black', linewidth=0.1)\n",
    "# combine with europe geometry\n",
    "plot = typ_gdf.plot(ax=base, column = 'typicality', colormap='Greens', alpha = 0.7, edgecolor='gray', linewidth=0.1)\n",
    "europe.boundary.plot(ax=base, alpha=0.3)\n",
    "plt.title(\"Typicality of Red Circle Emoji\", size =35)"
   ]
  },
  {
   "cell_type": "code",
   "execution_count": null,
   "metadata": {},
   "outputs": [],
   "source": [
    "# repeat for other emojis\n",
    "EMOJI = '😷'\n",
    "\n",
    "typ = pd.DataFrame(index = common_idx, columns = ['typicality'], data = '') #dummy dataframe to hold the typicality values\n",
    "\n",
    "for idx,midx in enumerate(common_idx): #looping through all the common indexes between the grids and dataframe\n",
    "    grid_typicality(gdf.loc[midx,\"emoji\"], common_idx[idx])\n",
    "\n",
    "geom = grid.loc[common_idx, \"geometry\"]\n",
    "typ_gdf = gp.GeoDataFrame(data = typ['typicality'], geometry =geom, crs = CRS_PROJ)\n",
    "\n",
    "base = grid.plot(figsize=(22,28), color='white', edgecolor='black', linewidth=0.1)\n",
    "# combine with europe geometry\n",
    "plot = typ_gdf.plot(ax=base, column = 'typicality', colormap='Greens', alpha = 0.7, edgecolor='gray', linewidth=0.1)\n",
    "europe.boundary.plot(ax=base, alpha=0.3)\n",
    "plt.title(\"Typicality of Masked Face Emoji\", size =35)"
   ]
  },
  {
   "cell_type": "code",
   "execution_count": null,
   "metadata": {},
   "outputs": [],
   "source": [
    "top100emojis = gp.read_file(r\"C:\\Users\\saman\\OneDrive\\Documents\\Thesis\\Data\\Top100Emojis.csv\")\n",
    "# the emojis don't read properly from a csv so we need to re-generate them from the descriptions\n",
    "rownum = 0\n",
    "for row in top100emojis['Emoji Description']:\n",
    "    if rownum <= 4020045:\n",
    "        top100emojis.loc[rownum, 'Emoji'] = emoji.emojize(top100emojis.loc[rownum, 'Emoji Description'], language='alias')\n",
    "        rownum = rownum + 1\n",
    "    else:\n",
    "        break"
   ]
  },
  {
   "cell_type": "code",
   "execution_count": null,
   "metadata": {},
   "outputs": [],
   "source": [
    "top100emojis"
   ]
  },
  {
   "cell_type": "code",
   "execution_count": null,
   "metadata": {},
   "outputs": [],
   "source": [
    "from mpl_toolkits.axes_grid1.anchored_artists import AnchoredSizeBar\n",
    "import matplotlib.font_manager as fm\n",
    "fontprops = fm.FontProperties(size=18)"
   ]
  },
  {
   "cell_type": "code",
   "execution_count": null,
   "metadata": {},
   "outputs": [],
   "source": [
    "test_cmap = mpl.colors.LinearSegmentedColormap.from_list('beigeblue',['#d9af8c','#FFFFFF','#009999'], N=8)"
   ]
  },
  {
   "cell_type": "code",
   "execution_count": null,
   "metadata": {},
   "outputs": [],
   "source": [
    "rownum = 0\n",
    "for row in top100emojis['Emoji']:\n",
    "    if rownum <=100:\n",
    "        EMOJI = top100emojis.loc[rownum, 'Emoji']\n",
    "\n",
    "        #calculating frequency for total dataset     \n",
    "        n_t = count[EMOJI]\n",
    "        N_t = sum(count.values())\n",
    "        F_t = n_t/N_t\n",
    "\n",
    "        typ = pd.DataFrame(index = common_idx, columns = ['typicality'], data = '') #dummy dataframe to hold the typicality values\n",
    "\n",
    "        for idx,midx in enumerate(common_idx): #looping through all the common indexes between the grids and dataframe\n",
    "            grid_typicality(gdf.loc[midx,\"emoji\"], common_idx[idx])\n",
    "\n",
    "        geom = grid.loc[common_idx, \"geometry\"]\n",
    "        typ_gdf = gp.GeoDataFrame(data = typ['typicality'], geometry =geom, crs = CRS_PROJ)\n",
    "\n",
    "        base = grid.plot(figsize=(22,28), color='white', edgecolor='black', linewidth=0.1)\n",
    "        # combine with europe geometry\n",
    "        plot = typ_gdf.plot(ax=base, column = 'typicality', colormap='Greens', alpha = 0.7, edgecolor='gray', linewidth=0.1)\n",
    "        europe.boundary.plot(ax=base, alpha=0.3)\n",
    "        emojiname = emoji.demojize(str(EMOJI)).replace(\":\",\"\")\n",
    "        plt.title(\"Typicality of \"+ emojiname +\" Emoji\", size =35)\n",
    "        fig = plot.get_figure()\n",
    "        fig.savefig(r\"C:\\Users\\saman\\OneDrive\\Documents\\Thesis\\Figures\\TypicalityMap_\" + emojiname + \".png\", dpi=300, bbox_inches = \"tight\")\n",
    "        rownum += 1\n",
    "    else:\n",
    "        break"
   ]
  },
  {
   "cell_type": "code",
   "execution_count": null,
   "metadata": {},
   "outputs": [],
   "source": [
    "rownum = 0\n",
    "for row in top100emojis['Emoji']:\n",
    "    if rownum <= 100:\n",
    "        EMOJI = top100emojis.loc[rownum, 'Emoji']\n",
    "\n",
    "        #calculating frequency for total dataset     \n",
    "        n_t = count[EMOJI]\n",
    "        N_t = sum(count.values())\n",
    "        F_t = n_t/N_t\n",
    "\n",
    "        typ = pd.DataFrame(index = common_idx, columns = ['typicality'], data = '') #dummy dataframe to hold the typicality values\n",
    "\n",
    "        for idx,midx in enumerate(common_idx): #looping through all the common indexes between the grids and dataframe\n",
    "            grid_typicality(gdf.loc[midx,\"emoji\"], common_idx[idx])\n",
    "\n",
    "        geom = grid.loc[common_idx, \"geometry\"]\n",
    "        typ_gdf = gp.GeoDataFrame(data = typ['typicality'], geometry =geom, crs = CRS_PROJ)\n",
    "\n",
    "        base = grid.plot(figsize=(22,28), color='white', edgecolor='black', linewidth=0.1)\n",
    "        # combine with europe geometry\n",
    "        emojinameunderscore = emoji.demojize(str(EMOJI)).replace(\":\",\"\")\n",
    "        emojiname = emojinameunderscore.replace(\"_\", \" \")\n",
    "        emojiname = emojiname.title()\n",
    "        plot = typ_gdf.plot(ax=base, column = 'typicality', colormap='Greens', alpha = 0.7, edgecolor='gray', linewidth=0.1)\n",
    "        europe.boundary.plot(ax=base, alpha=0.3)\n",
    "        fig = plot.get_figure()\n",
    "        fig.suptitle(\"Typicality of \"+ emojiname +\" Emoji\", size =35, y=0.78)\n",
    "        fig.savefig(r\"C:\\Users\\saman\\OneDrive\\Documents\\Thesis\\Figures\\TypicalityMap_\" + emojinameunderscore + \".png\", dpi=300, bbox_inches = \"tight\")\n",
    "        rownum += 1\n",
    "    else:\n",
    "        break"
   ]
  },
  {
   "cell_type": "code",
   "execution_count": null,
   "metadata": {
    "scrolled": true
   },
   "outputs": [],
   "source": [
    "rownum = 0\n",
    "for row in top100emojis['Emoji']:\n",
    "    if rownum <= 100:\n",
    "        EMOJI = top100emojis.loc[rownum, 'Emoji']\n",
    "\n",
    "        #calculating frequency for total dataset     \n",
    "        n_t = count[EMOJI]\n",
    "        N_t = sum(count.values())\n",
    "        F_t = n_t/N_t\n",
    "\n",
    "        typ = pd.DataFrame(index = common_idx, columns = ['typicality'], data = '') #dummy dataframe to hold the typicality values\n",
    "\n",
    "        for idx,midx in enumerate(common_idx): #looping through all the common indexes between the grids and dataframe\n",
    "            grid_typicality(gdf.loc[midx,\"emoji\"], common_idx[idx])\n",
    "\n",
    "        geom = grid.loc[common_idx, \"geometry\"]\n",
    "        typ_gdf = gp.GeoDataFrame(data = typ['typicality'], geometry =geom, crs = CRS_PROJ)\n",
    "\n",
    "        base = grid.plot(figsize=(22,28), color='white', edgecolor='black', linewidth=0.1)\n",
    "        # combine with europe geometry\n",
    "        emojinameunderscore = emoji.demojize(str(EMOJI)).replace(\":\",\"\")\n",
    "        emojiname = emojinameunderscore.replace(\"_\", \" \")\n",
    "        emojiname = emojiname.title()\n",
    "        plot = typ_gdf.plot(ax=base, column = 'typicality', colormap=test_cmap, alpha = 0.8, edgecolor='gray', linewidth=0.1)\n",
    "        europe.boundary.plot(ax=base, alpha=0.3)\n",
    "        fig = plot.get_figure()\n",
    "        fig.suptitle(\"Typicality of \"+ emojiname +\" Emoji\", size =35, y=0.78)\n",
    "        fig.savefig(r\"C:\\Users\\saman\\OneDrive\\Documents\\Thesis\\Figures\\Spatial_Typicality_BeigeBlue\\Grid_\"+ emojinameunderscore + \".png\", dpi=300, bbox_inches = \"tight\")\n",
    "        rownum += 1\n",
    "    else:\n",
    "        break"
   ]
  },
  {
   "cell_type": "code",
   "execution_count": null,
   "metadata": {},
   "outputs": [],
   "source": []
  },
  {
   "cell_type": "code",
   "execution_count": null,
   "metadata": {},
   "outputs": [],
   "source": [
    "fig, ax = plt.subplots(figsize=(10, 1))\n",
    "fig.subplots_adjust(bottom=0.5)\n",
    "cmap = test_cmap\n",
    "norm = mpl.colors.Normalize(vmin=-1, vmax=1)\n",
    "cb1 = mpl.colorbar.ColorbarBase(ax, cmap=test_cmap,\n",
    "                                norm=norm,\n",
    "                                orientation='horizontal')\n",
    "cb1.set_label('Typicality', fontsize=20)\n",
    "fig.show()\n",
    "fig.savefig(r\"C:\\Users\\saman\\OneDrive\\Documents\\Thesis\\Figures\\BeigeBlue_ColorRamp_Horizontal.png\", dpi=300, bbox_inches = \"tight\")\n"
   ]
  },
  {
   "cell_type": "code",
   "execution_count": null,
   "metadata": {},
   "outputs": [],
   "source": [
    "# create custom scale cell\n",
    "white_cmap = mpl.colors.LinearSegmentedColormap.from_list('white',['#FFFFFF','#FFFFFF'], N=1)\n",
    "\n",
    "fig, ax = plt.subplots(figsize=(1,2))\n",
    "fig.subplots_adjust(bottom=0.5)\n",
    "cmap = test_cmap\n",
    "norm = mpl.colors.Normalize(vmin=-1, vmax=1)\n",
    "cb1 = mpl.colorbar.ColorbarBase(ax, cmap=white_cmap,\n",
    "                                norm=norm,\n",
    "                                orientation='vertical')\n",
    "cb1.set_ticks([])\n",
    "cb1.set_label('= 10,000 square kilometers', labelpad=440, y=0.9, rotation=0, fontsize = 60)\n",
    "fig.show()\n",
    "fig.savefig(r\"C:\\Users\\saman\\OneDrive\\Documents\\Thesis\\Figures\\ScaleCell.png\", dpi=300, bbox_inches = \"tight\")\n"
   ]
  },
  {
   "cell_type": "code",
   "execution_count": null,
   "metadata": {},
   "outputs": [],
   "source": [
    "typ_gdf['typicality'].max()"
   ]
  },
  {
   "cell_type": "code",
   "execution_count": null,
   "metadata": {
    "scrolled": true
   },
   "outputs": [],
   "source": [
    "# this part is for a single emoji\n",
    "EMOJI = '😷'\n",
    "\n",
    "#calculating frequency for total dataset     \n",
    "n_t = count[EMOJI]\n",
    "N_t = sum(count.values())\n",
    "F_t = n_t/N_t\n",
    "\n",
    "typ = pd.DataFrame(index = common_idx, columns = ['typicality'], data = '') #dummy dataframe to hold the typicality values\n",
    "\n",
    "for idx,midx in enumerate(common_idx): #looping through all the common indexes between the grids and dataframe\n",
    "    grid_typicality(gdf.loc[midx,\"emoji\"], common_idx[idx])\n",
    "\n",
    "geom = grid.loc[common_idx, \"geometry\"]\n",
    "typ_gdf = gp.GeoDataFrame(data = typ['typicality'], geometry =geom, crs = CRS_PROJ)\n",
    "\n",
    "base = grid.plot(figsize=(22,28), color='white', edgecolor='black', linewidth=0.1)\n",
    "# combine with europe geometry\n",
    "emojinameunderscore = emoji.demojize(str(EMOJI)).replace(\":\",\"\")\n",
    "emojiname = emojinameunderscore.replace(\"_\", \" \")\n",
    "emojiname = emojiname.title()\n",
    "plot = typ_gdf.plot(ax=base, column = 'typicality', colormap=test_cmap, alpha = 0.8, edgecolor='gray', linewidth=0.1, \n",
    "                    legend=True)\n",
    "europe.boundary.plot(ax=base, alpha=1, edgecolor='black', linewidth=0.3)\n",
    "# plt.legend([\"-1.0\", \"0\", \"1\"])\n",
    "\n",
    "# vmin = -1\n",
    "# vmax = 1\n",
    "# sm = plt.cm.ScalarMappable(cmap=test_cmap, norm=plt.Normalize(vmin=vmin, vmax=vmax))\n",
    "# sm._A = []\n",
    "# cbar = fig.colorbar(sm)\n",
    "\n",
    "fig = plot.get_figure()\n",
    "fig.suptitle(\"Typicality of \"+ emojiname +\" Emoji\", size =35, y=0.78)\n",
    "# fig.savefig(r\"C:\\Users\\saman\\OneDrive\\Documents\\Thesis\\Figures\\ScienceSlam\\TypicalityMap_\" + emojinameunderscore + \".png\", dpi=300, bbox_inches = \"tight\")\n"
   ]
  },
  {
   "cell_type": "code",
   "execution_count": null,
   "metadata": {},
   "outputs": [],
   "source": [
    "fig, ax = plt.subplots(figsize=(6, 1))\n",
    "fig.subplots_adjust(bottom=0.5)\n",
    "cmap = test_cmap\n",
    "cb1 = mpl.colorbar.ColorbarBase(ax, cmap=test_cmap,\n",
    "                                orientation='horizontal')\n",
    "cb1.set_label('Typicality')\n",
    "fig.show()"
   ]
  },
  {
   "cell_type": "code",
   "execution_count": null,
   "metadata": {},
   "outputs": [],
   "source": [
    "# this part is for the science slam\n",
    "EMOJI = '🍺'\n",
    "\n",
    "#calculating frequency for total dataset     \n",
    "n_t = count[EMOJI]\n",
    "N_t = sum(count.values())\n",
    "F_t = n_t/N_t\n",
    "\n",
    "typ = pd.DataFrame(index = common_idx, columns = ['typicality'], data = '') #dummy dataframe to hold the typicality values\n",
    "\n",
    "for idx,midx in enumerate(common_idx): #looping through all the common indexes between the grids and dataframe\n",
    "    grid_typicality(gdf.loc[midx,\"emoji\"], common_idx[idx])\n",
    "\n",
    "geom = grid.loc[common_idx, \"geometry\"]\n",
    "typ_gdf = gp.GeoDataFrame(data = typ['typicality'], geometry =geom, crs = CRS_PROJ)\n",
    "\n",
    "base = grid.plot(figsize=(22,28), color='white', edgecolor='black', linewidth=0.1)\n",
    "# combine with europe geometry\n",
    "emojinameunderscore = emoji.demojize(str(EMOJI)).replace(\":\",\"\")\n",
    "emojiname = emojinameunderscore.replace(\"_\", \" \")\n",
    "emojiname = emojiname.title()\n",
    "plot = typ_gdf.plot(ax=base, column = 'typicality', colormap=test_cmap, alpha = 0.7, edgecolor='gray', linewidth=0.1)\n",
    "europe.boundary.plot(ax=base, alpha=1, edgecolor='black', linewidth=0.3)\n",
    "fig = plot.get_figure()\n",
    "fig.suptitle(\"Typicality of \"+ emojiname +\" Emoji\", size =35, y=0.78)\n",
    "# fig.savefig(r\"C:\\Users\\saman\\OneDrive\\Documents\\Thesis\\Figures\\ScienceSlam\\TypicalityMap_\" + emojinameunderscore + \".png\", dpi=300, bbox_inches = \"tight\")\n"
   ]
  }
 ],
 "metadata": {
  "interpreter": {
   "hash": "78d9939c5768fb064442d779979ef6ed0a65f19f605ecb5d78ee42d6c2e051b2"
  },
  "kernelspec": {
   "display_name": "Python 3 (ipykernel)",
   "language": "python",
   "name": "python3"
  },
  "language_info": {
   "codemirror_mode": {
    "name": "ipython",
    "version": 3
   },
   "file_extension": ".py",
   "mimetype": "text/x-python",
   "name": "python",
   "nbconvert_exporter": "python",
   "pygments_lexer": "ipython3",
   "version": "3.10.5"
  }
 },
 "nbformat": 4,
 "nbformat_minor": 2
}
